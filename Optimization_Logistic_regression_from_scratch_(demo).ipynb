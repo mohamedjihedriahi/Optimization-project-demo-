{
  "nbformat": 4,
  "nbformat_minor": 0,
  "metadata": {
    "colab": {
      "provenance": [],
      "collapsed_sections": [
        "sJaRuBBnpDUh",
        "vhdt-_Cqrt7v",
        "S04asYcyuVZp",
        "aGI67UlXpjC3",
        "-Svn0JF3uFA6"
      ],
      "include_colab_link": true
    },
    "kernelspec": {
      "name": "python3",
      "display_name": "Python 3"
    },
    "language_info": {
      "name": "python"
    }
  },
  "cells": [
    {
      "cell_type": "markdown",
      "metadata": {
        "id": "view-in-github",
        "colab_type": "text"
      },
      "source": [
        "<a href=\"https://colab.research.google.com/github/mohamedjihedriahi/Optimization-projects-demo-/blob/main/Optimization_Logistic_regression_from_scratch_(demo).ipynb\" target=\"_parent\"><img src=\"https://colab.research.google.com/assets/colab-badge.svg\" alt=\"Open In Colab\"/></a>"
      ]
    },
    {
      "cell_type": "code",
      "execution_count": null,
      "metadata": {
        "id": "EAV7h11_lHQH"
      },
      "outputs": [],
      "source": [
        "import seaborn as sns\n",
        "sns.set(color_codes=True)\n",
        "import numpy as np\n",
        "import pandas as pd\n",
        "import matplotlib.pyplot as plt\n",
        "from numpy import isnan\n",
        "from pandas import read_csv"
      ]
    },
    {
      "cell_type": "code",
      "source": [
        "df = pd.read_csv('TelcoChurn.csv')"
      ],
      "metadata": {
        "id": "S56QFTGplwO9"
      },
      "execution_count": null,
      "outputs": []
    },
    {
      "cell_type": "code",
      "source": [
        "df"
      ],
      "metadata": {
        "colab": {
          "base_uri": "https://localhost:8080/",
          "height": 424
        },
        "id": "Hg82kpikl-T4",
        "outputId": "d552aa9a-a3c5-47be-ca6b-6a5992a45f12"
      },
      "execution_count": null,
      "outputs": [
        {
          "output_type": "execute_result",
          "data": {
            "text/plain": [
              "     tenure   age  address  income   ed  employ  equip  churn\n",
              "0      11.0  33.0      7.0   136.0  5.0     5.0    0.0    1.0\n",
              "1      33.0  33.0     12.0    33.0  2.0     0.0    0.0    1.0\n",
              "2      23.0  30.0      9.0    30.0  1.0     2.0    0.0    0.0\n",
              "3      38.0  35.0      5.0    76.0  2.0    10.0    1.0    0.0\n",
              "4       7.0  35.0     14.0    80.0  2.0    15.0    0.0    0.0\n",
              "..      ...   ...      ...     ...  ...     ...    ...    ...\n",
              "195    55.0  44.0     24.0    83.0  1.0    23.0    0.0    0.0\n",
              "196    34.0  23.0      3.0    24.0  1.0     7.0    0.0    0.0\n",
              "197     6.0  32.0     10.0    47.0  1.0    10.0    0.0    0.0\n",
              "198    24.0  30.0      0.0    25.0  4.0     5.0    0.0    1.0\n",
              "199    61.0  50.0     16.0   190.0  2.0    22.0    1.0    0.0\n",
              "\n",
              "[200 rows x 8 columns]"
            ],
            "text/html": [
              "\n",
              "  <div id=\"df-2a4e22ec-306f-4d3f-87db-b5d5f2ca88d2\">\n",
              "    <div class=\"colab-df-container\">\n",
              "      <div>\n",
              "<style scoped>\n",
              "    .dataframe tbody tr th:only-of-type {\n",
              "        vertical-align: middle;\n",
              "    }\n",
              "\n",
              "    .dataframe tbody tr th {\n",
              "        vertical-align: top;\n",
              "    }\n",
              "\n",
              "    .dataframe thead th {\n",
              "        text-align: right;\n",
              "    }\n",
              "</style>\n",
              "<table border=\"1\" class=\"dataframe\">\n",
              "  <thead>\n",
              "    <tr style=\"text-align: right;\">\n",
              "      <th></th>\n",
              "      <th>tenure</th>\n",
              "      <th>age</th>\n",
              "      <th>address</th>\n",
              "      <th>income</th>\n",
              "      <th>ed</th>\n",
              "      <th>employ</th>\n",
              "      <th>equip</th>\n",
              "      <th>churn</th>\n",
              "    </tr>\n",
              "  </thead>\n",
              "  <tbody>\n",
              "    <tr>\n",
              "      <th>0</th>\n",
              "      <td>11.0</td>\n",
              "      <td>33.0</td>\n",
              "      <td>7.0</td>\n",
              "      <td>136.0</td>\n",
              "      <td>5.0</td>\n",
              "      <td>5.0</td>\n",
              "      <td>0.0</td>\n",
              "      <td>1.0</td>\n",
              "    </tr>\n",
              "    <tr>\n",
              "      <th>1</th>\n",
              "      <td>33.0</td>\n",
              "      <td>33.0</td>\n",
              "      <td>12.0</td>\n",
              "      <td>33.0</td>\n",
              "      <td>2.0</td>\n",
              "      <td>0.0</td>\n",
              "      <td>0.0</td>\n",
              "      <td>1.0</td>\n",
              "    </tr>\n",
              "    <tr>\n",
              "      <th>2</th>\n",
              "      <td>23.0</td>\n",
              "      <td>30.0</td>\n",
              "      <td>9.0</td>\n",
              "      <td>30.0</td>\n",
              "      <td>1.0</td>\n",
              "      <td>2.0</td>\n",
              "      <td>0.0</td>\n",
              "      <td>0.0</td>\n",
              "    </tr>\n",
              "    <tr>\n",
              "      <th>3</th>\n",
              "      <td>38.0</td>\n",
              "      <td>35.0</td>\n",
              "      <td>5.0</td>\n",
              "      <td>76.0</td>\n",
              "      <td>2.0</td>\n",
              "      <td>10.0</td>\n",
              "      <td>1.0</td>\n",
              "      <td>0.0</td>\n",
              "    </tr>\n",
              "    <tr>\n",
              "      <th>4</th>\n",
              "      <td>7.0</td>\n",
              "      <td>35.0</td>\n",
              "      <td>14.0</td>\n",
              "      <td>80.0</td>\n",
              "      <td>2.0</td>\n",
              "      <td>15.0</td>\n",
              "      <td>0.0</td>\n",
              "      <td>0.0</td>\n",
              "    </tr>\n",
              "    <tr>\n",
              "      <th>...</th>\n",
              "      <td>...</td>\n",
              "      <td>...</td>\n",
              "      <td>...</td>\n",
              "      <td>...</td>\n",
              "      <td>...</td>\n",
              "      <td>...</td>\n",
              "      <td>...</td>\n",
              "      <td>...</td>\n",
              "    </tr>\n",
              "    <tr>\n",
              "      <th>195</th>\n",
              "      <td>55.0</td>\n",
              "      <td>44.0</td>\n",
              "      <td>24.0</td>\n",
              "      <td>83.0</td>\n",
              "      <td>1.0</td>\n",
              "      <td>23.0</td>\n",
              "      <td>0.0</td>\n",
              "      <td>0.0</td>\n",
              "    </tr>\n",
              "    <tr>\n",
              "      <th>196</th>\n",
              "      <td>34.0</td>\n",
              "      <td>23.0</td>\n",
              "      <td>3.0</td>\n",
              "      <td>24.0</td>\n",
              "      <td>1.0</td>\n",
              "      <td>7.0</td>\n",
              "      <td>0.0</td>\n",
              "      <td>0.0</td>\n",
              "    </tr>\n",
              "    <tr>\n",
              "      <th>197</th>\n",
              "      <td>6.0</td>\n",
              "      <td>32.0</td>\n",
              "      <td>10.0</td>\n",
              "      <td>47.0</td>\n",
              "      <td>1.0</td>\n",
              "      <td>10.0</td>\n",
              "      <td>0.0</td>\n",
              "      <td>0.0</td>\n",
              "    </tr>\n",
              "    <tr>\n",
              "      <th>198</th>\n",
              "      <td>24.0</td>\n",
              "      <td>30.0</td>\n",
              "      <td>0.0</td>\n",
              "      <td>25.0</td>\n",
              "      <td>4.0</td>\n",
              "      <td>5.0</td>\n",
              "      <td>0.0</td>\n",
              "      <td>1.0</td>\n",
              "    </tr>\n",
              "    <tr>\n",
              "      <th>199</th>\n",
              "      <td>61.0</td>\n",
              "      <td>50.0</td>\n",
              "      <td>16.0</td>\n",
              "      <td>190.0</td>\n",
              "      <td>2.0</td>\n",
              "      <td>22.0</td>\n",
              "      <td>1.0</td>\n",
              "      <td>0.0</td>\n",
              "    </tr>\n",
              "  </tbody>\n",
              "</table>\n",
              "<p>200 rows × 8 columns</p>\n",
              "</div>\n",
              "      <button class=\"colab-df-convert\" onclick=\"convertToInteractive('df-2a4e22ec-306f-4d3f-87db-b5d5f2ca88d2')\"\n",
              "              title=\"Convert this dataframe to an interactive table.\"\n",
              "              style=\"display:none;\">\n",
              "        \n",
              "  <svg xmlns=\"http://www.w3.org/2000/svg\" height=\"24px\"viewBox=\"0 0 24 24\"\n",
              "       width=\"24px\">\n",
              "    <path d=\"M0 0h24v24H0V0z\" fill=\"none\"/>\n",
              "    <path d=\"M18.56 5.44l.94 2.06.94-2.06 2.06-.94-2.06-.94-.94-2.06-.94 2.06-2.06.94zm-11 1L8.5 8.5l.94-2.06 2.06-.94-2.06-.94L8.5 2.5l-.94 2.06-2.06.94zm10 10l.94 2.06.94-2.06 2.06-.94-2.06-.94-.94-2.06-.94 2.06-2.06.94z\"/><path d=\"M17.41 7.96l-1.37-1.37c-.4-.4-.92-.59-1.43-.59-.52 0-1.04.2-1.43.59L10.3 9.45l-7.72 7.72c-.78.78-.78 2.05 0 2.83L4 21.41c.39.39.9.59 1.41.59.51 0 1.02-.2 1.41-.59l7.78-7.78 2.81-2.81c.8-.78.8-2.07 0-2.86zM5.41 20L4 18.59l7.72-7.72 1.47 1.35L5.41 20z\"/>\n",
              "  </svg>\n",
              "      </button>\n",
              "      \n",
              "  <style>\n",
              "    .colab-df-container {\n",
              "      display:flex;\n",
              "      flex-wrap:wrap;\n",
              "      gap: 12px;\n",
              "    }\n",
              "\n",
              "    .colab-df-convert {\n",
              "      background-color: #E8F0FE;\n",
              "      border: none;\n",
              "      border-radius: 50%;\n",
              "      cursor: pointer;\n",
              "      display: none;\n",
              "      fill: #1967D2;\n",
              "      height: 32px;\n",
              "      padding: 0 0 0 0;\n",
              "      width: 32px;\n",
              "    }\n",
              "\n",
              "    .colab-df-convert:hover {\n",
              "      background-color: #E2EBFA;\n",
              "      box-shadow: 0px 1px 2px rgba(60, 64, 67, 0.3), 0px 1px 3px 1px rgba(60, 64, 67, 0.15);\n",
              "      fill: #174EA6;\n",
              "    }\n",
              "\n",
              "    [theme=dark] .colab-df-convert {\n",
              "      background-color: #3B4455;\n",
              "      fill: #D2E3FC;\n",
              "    }\n",
              "\n",
              "    [theme=dark] .colab-df-convert:hover {\n",
              "      background-color: #434B5C;\n",
              "      box-shadow: 0px 1px 3px 1px rgba(0, 0, 0, 0.15);\n",
              "      filter: drop-shadow(0px 1px 2px rgba(0, 0, 0, 0.3));\n",
              "      fill: #FFFFFF;\n",
              "    }\n",
              "  </style>\n",
              "\n",
              "      <script>\n",
              "        const buttonEl =\n",
              "          document.querySelector('#df-2a4e22ec-306f-4d3f-87db-b5d5f2ca88d2 button.colab-df-convert');\n",
              "        buttonEl.style.display =\n",
              "          google.colab.kernel.accessAllowed ? 'block' : 'none';\n",
              "\n",
              "        async function convertToInteractive(key) {\n",
              "          const element = document.querySelector('#df-2a4e22ec-306f-4d3f-87db-b5d5f2ca88d2');\n",
              "          const dataTable =\n",
              "            await google.colab.kernel.invokeFunction('convertToInteractive',\n",
              "                                                     [key], {});\n",
              "          if (!dataTable) return;\n",
              "\n",
              "          const docLinkHtml = 'Like what you see? Visit the ' +\n",
              "            '<a target=\"_blank\" href=https://colab.research.google.com/notebooks/data_table.ipynb>data table notebook</a>'\n",
              "            + ' to learn more about interactive tables.';\n",
              "          element.innerHTML = '';\n",
              "          dataTable['output_type'] = 'display_data';\n",
              "          await google.colab.output.renderOutput(dataTable, element);\n",
              "          const docLink = document.createElement('div');\n",
              "          docLink.innerHTML = docLinkHtml;\n",
              "          element.appendChild(docLink);\n",
              "        }\n",
              "      </script>\n",
              "    </div>\n",
              "  </div>\n",
              "  "
            ]
          },
          "metadata": {},
          "execution_count": 93
        }
      ]
    },
    {
      "cell_type": "markdown",
      "source": [
        "#II/ lire les données"
      ],
      "metadata": {
        "id": "80LaplIyoz7I"
      }
    },
    {
      "cell_type": "markdown",
      "source": [
        "## Question1"
      ],
      "metadata": {
        "id": "lUiEw6zSmN9G"
      }
    },
    {
      "cell_type": "code",
      "source": [
        "df['churn'] = df['churn'].astype(int)"
      ],
      "metadata": {
        "id": "OcAwinKRmCC3"
      },
      "execution_count": null,
      "outputs": []
    },
    {
      "cell_type": "code",
      "source": [
        "df"
      ],
      "metadata": {
        "id": "DlJedNArmeKK",
        "colab": {
          "base_uri": "https://localhost:8080/",
          "height": 655
        },
        "outputId": "2098b8ca-ac57-4ea7-9a62-09a8505c11a7"
      },
      "execution_count": null,
      "outputs": [
        {
          "output_type": "execute_result",
          "data": {
            "text/plain": [
              "     tenure   age  address  income   ed  employ  equip  churn\n",
              "0      11.0  33.0      7.0   136.0  5.0     5.0    0.0      1\n",
              "1      33.0  33.0     12.0    33.0  2.0     0.0    0.0      1\n",
              "2      23.0  30.0      9.0    30.0  1.0     2.0    0.0      0\n",
              "3      38.0  35.0      5.0    76.0  2.0    10.0    1.0      0\n",
              "4       7.0  35.0     14.0    80.0  2.0    15.0    0.0      0\n",
              "..      ...   ...      ...     ...  ...     ...    ...    ...\n",
              "195    55.0  44.0     24.0    83.0  1.0    23.0    0.0      0\n",
              "196    34.0  23.0      3.0    24.0  1.0     7.0    0.0      0\n",
              "197     6.0  32.0     10.0    47.0  1.0    10.0    0.0      0\n",
              "198    24.0  30.0      0.0    25.0  4.0     5.0    0.0      1\n",
              "199    61.0  50.0     16.0   190.0  2.0    22.0    1.0      0\n",
              "\n",
              "[200 rows x 8 columns]"
            ],
            "text/html": [
              "\n",
              "  <div id=\"df-ca6eca67-3f44-4f83-a264-3016168a7b6b\">\n",
              "    <div class=\"colab-df-container\">\n",
              "      <div>\n",
              "<style scoped>\n",
              "    .dataframe tbody tr th:only-of-type {\n",
              "        vertical-align: middle;\n",
              "    }\n",
              "\n",
              "    .dataframe tbody tr th {\n",
              "        vertical-align: top;\n",
              "    }\n",
              "\n",
              "    .dataframe thead th {\n",
              "        text-align: right;\n",
              "    }\n",
              "</style>\n",
              "<table border=\"1\" class=\"dataframe\">\n",
              "  <thead>\n",
              "    <tr style=\"text-align: right;\">\n",
              "      <th></th>\n",
              "      <th>tenure</th>\n",
              "      <th>age</th>\n",
              "      <th>address</th>\n",
              "      <th>income</th>\n",
              "      <th>ed</th>\n",
              "      <th>employ</th>\n",
              "      <th>equip</th>\n",
              "      <th>churn</th>\n",
              "    </tr>\n",
              "  </thead>\n",
              "  <tbody>\n",
              "    <tr>\n",
              "      <th>0</th>\n",
              "      <td>11.0</td>\n",
              "      <td>33.0</td>\n",
              "      <td>7.0</td>\n",
              "      <td>136.0</td>\n",
              "      <td>5.0</td>\n",
              "      <td>5.0</td>\n",
              "      <td>0.0</td>\n",
              "      <td>1</td>\n",
              "    </tr>\n",
              "    <tr>\n",
              "      <th>1</th>\n",
              "      <td>33.0</td>\n",
              "      <td>33.0</td>\n",
              "      <td>12.0</td>\n",
              "      <td>33.0</td>\n",
              "      <td>2.0</td>\n",
              "      <td>0.0</td>\n",
              "      <td>0.0</td>\n",
              "      <td>1</td>\n",
              "    </tr>\n",
              "    <tr>\n",
              "      <th>2</th>\n",
              "      <td>23.0</td>\n",
              "      <td>30.0</td>\n",
              "      <td>9.0</td>\n",
              "      <td>30.0</td>\n",
              "      <td>1.0</td>\n",
              "      <td>2.0</td>\n",
              "      <td>0.0</td>\n",
              "      <td>0</td>\n",
              "    </tr>\n",
              "    <tr>\n",
              "      <th>3</th>\n",
              "      <td>38.0</td>\n",
              "      <td>35.0</td>\n",
              "      <td>5.0</td>\n",
              "      <td>76.0</td>\n",
              "      <td>2.0</td>\n",
              "      <td>10.0</td>\n",
              "      <td>1.0</td>\n",
              "      <td>0</td>\n",
              "    </tr>\n",
              "    <tr>\n",
              "      <th>4</th>\n",
              "      <td>7.0</td>\n",
              "      <td>35.0</td>\n",
              "      <td>14.0</td>\n",
              "      <td>80.0</td>\n",
              "      <td>2.0</td>\n",
              "      <td>15.0</td>\n",
              "      <td>0.0</td>\n",
              "      <td>0</td>\n",
              "    </tr>\n",
              "    <tr>\n",
              "      <th>...</th>\n",
              "      <td>...</td>\n",
              "      <td>...</td>\n",
              "      <td>...</td>\n",
              "      <td>...</td>\n",
              "      <td>...</td>\n",
              "      <td>...</td>\n",
              "      <td>...</td>\n",
              "      <td>...</td>\n",
              "    </tr>\n",
              "    <tr>\n",
              "      <th>195</th>\n",
              "      <td>55.0</td>\n",
              "      <td>44.0</td>\n",
              "      <td>24.0</td>\n",
              "      <td>83.0</td>\n",
              "      <td>1.0</td>\n",
              "      <td>23.0</td>\n",
              "      <td>0.0</td>\n",
              "      <td>0</td>\n",
              "    </tr>\n",
              "    <tr>\n",
              "      <th>196</th>\n",
              "      <td>34.0</td>\n",
              "      <td>23.0</td>\n",
              "      <td>3.0</td>\n",
              "      <td>24.0</td>\n",
              "      <td>1.0</td>\n",
              "      <td>7.0</td>\n",
              "      <td>0.0</td>\n",
              "      <td>0</td>\n",
              "    </tr>\n",
              "    <tr>\n",
              "      <th>197</th>\n",
              "      <td>6.0</td>\n",
              "      <td>32.0</td>\n",
              "      <td>10.0</td>\n",
              "      <td>47.0</td>\n",
              "      <td>1.0</td>\n",
              "      <td>10.0</td>\n",
              "      <td>0.0</td>\n",
              "      <td>0</td>\n",
              "    </tr>\n",
              "    <tr>\n",
              "      <th>198</th>\n",
              "      <td>24.0</td>\n",
              "      <td>30.0</td>\n",
              "      <td>0.0</td>\n",
              "      <td>25.0</td>\n",
              "      <td>4.0</td>\n",
              "      <td>5.0</td>\n",
              "      <td>0.0</td>\n",
              "      <td>1</td>\n",
              "    </tr>\n",
              "    <tr>\n",
              "      <th>199</th>\n",
              "      <td>61.0</td>\n",
              "      <td>50.0</td>\n",
              "      <td>16.0</td>\n",
              "      <td>190.0</td>\n",
              "      <td>2.0</td>\n",
              "      <td>22.0</td>\n",
              "      <td>1.0</td>\n",
              "      <td>0</td>\n",
              "    </tr>\n",
              "  </tbody>\n",
              "</table>\n",
              "<p>200 rows × 8 columns</p>\n",
              "</div>\n",
              "      <button class=\"colab-df-convert\" onclick=\"convertToInteractive('df-ca6eca67-3f44-4f83-a264-3016168a7b6b')\"\n",
              "              title=\"Convert this dataframe to an interactive table.\"\n",
              "              style=\"display:none;\">\n",
              "        \n",
              "  <svg xmlns=\"http://www.w3.org/2000/svg\" height=\"24px\"viewBox=\"0 0 24 24\"\n",
              "       width=\"24px\">\n",
              "    <path d=\"M0 0h24v24H0V0z\" fill=\"none\"/>\n",
              "    <path d=\"M18.56 5.44l.94 2.06.94-2.06 2.06-.94-2.06-.94-.94-2.06-.94 2.06-2.06.94zm-11 1L8.5 8.5l.94-2.06 2.06-.94-2.06-.94L8.5 2.5l-.94 2.06-2.06.94zm10 10l.94 2.06.94-2.06 2.06-.94-2.06-.94-.94-2.06-.94 2.06-2.06.94z\"/><path d=\"M17.41 7.96l-1.37-1.37c-.4-.4-.92-.59-1.43-.59-.52 0-1.04.2-1.43.59L10.3 9.45l-7.72 7.72c-.78.78-.78 2.05 0 2.83L4 21.41c.39.39.9.59 1.41.59.51 0 1.02-.2 1.41-.59l7.78-7.78 2.81-2.81c.8-.78.8-2.07 0-2.86zM5.41 20L4 18.59l7.72-7.72 1.47 1.35L5.41 20z\"/>\n",
              "  </svg>\n",
              "      </button>\n",
              "      \n",
              "  <style>\n",
              "    .colab-df-container {\n",
              "      display:flex;\n",
              "      flex-wrap:wrap;\n",
              "      gap: 12px;\n",
              "    }\n",
              "\n",
              "    .colab-df-convert {\n",
              "      background-color: #E8F0FE;\n",
              "      border: none;\n",
              "      border-radius: 50%;\n",
              "      cursor: pointer;\n",
              "      display: none;\n",
              "      fill: #1967D2;\n",
              "      height: 32px;\n",
              "      padding: 0 0 0 0;\n",
              "      width: 32px;\n",
              "    }\n",
              "\n",
              "    .colab-df-convert:hover {\n",
              "      background-color: #E2EBFA;\n",
              "      box-shadow: 0px 1px 2px rgba(60, 64, 67, 0.3), 0px 1px 3px 1px rgba(60, 64, 67, 0.15);\n",
              "      fill: #174EA6;\n",
              "    }\n",
              "\n",
              "    [theme=dark] .colab-df-convert {\n",
              "      background-color: #3B4455;\n",
              "      fill: #D2E3FC;\n",
              "    }\n",
              "\n",
              "    [theme=dark] .colab-df-convert:hover {\n",
              "      background-color: #434B5C;\n",
              "      box-shadow: 0px 1px 3px 1px rgba(0, 0, 0, 0.15);\n",
              "      filter: drop-shadow(0px 1px 2px rgba(0, 0, 0, 0.3));\n",
              "      fill: #FFFFFF;\n",
              "    }\n",
              "  </style>\n",
              "\n",
              "      <script>\n",
              "        const buttonEl =\n",
              "          document.querySelector('#df-ca6eca67-3f44-4f83-a264-3016168a7b6b button.colab-df-convert');\n",
              "        buttonEl.style.display =\n",
              "          google.colab.kernel.accessAllowed ? 'block' : 'none';\n",
              "\n",
              "        async function convertToInteractive(key) {\n",
              "          const element = document.querySelector('#df-ca6eca67-3f44-4f83-a264-3016168a7b6b');\n",
              "          const dataTable =\n",
              "            await google.colab.kernel.invokeFunction('convertToInteractive',\n",
              "                                                     [key], {});\n",
              "          if (!dataTable) return;\n",
              "\n",
              "          const docLinkHtml = 'Like what you see? Visit the ' +\n",
              "            '<a target=\"_blank\" href=https://colab.research.google.com/notebooks/data_table.ipynb>data table notebook</a>'\n",
              "            + ' to learn more about interactive tables.';\n",
              "          element.innerHTML = '';\n",
              "          dataTable['output_type'] = 'display_data';\n",
              "          await google.colab.output.renderOutput(dataTable, element);\n",
              "          const docLink = document.createElement('div');\n",
              "          docLink.innerHTML = docLinkHtml;\n",
              "          element.appendChild(docLink);\n",
              "        }\n",
              "      </script>\n",
              "    </div>\n",
              "  </div>\n",
              "  "
            ]
          },
          "metadata": {},
          "execution_count": 95
        }
      ]
    },
    {
      "cell_type": "markdown",
      "source": [
        "## Question 2"
      ],
      "metadata": {
        "id": "o3rIsje8mipI"
      }
    },
    {
      "cell_type": "code",
      "execution_count": null,
      "metadata": {
        "id": "z9Ql9zogmvKS"
      },
      "outputs": [],
      "source": [
        "import seaborn as sns\n",
        "sns.set(color_codes=True)\n",
        "import pandas as pd\n",
        "import matplotlib.pyplot as plt"
      ]
    },
    {
      "cell_type": "code",
      "source": [
        "df.info()"
      ],
      "metadata": {
        "colab": {
          "base_uri": "https://localhost:8080/"
        },
        "id": "Ny6yecCtmks6",
        "outputId": "8d1b963e-924f-42c8-aab0-9c2c4f7208ff"
      },
      "execution_count": null,
      "outputs": [
        {
          "output_type": "stream",
          "name": "stdout",
          "text": [
            "<class 'pandas.core.frame.DataFrame'>\n",
            "RangeIndex: 200 entries, 0 to 199\n",
            "Data columns (total 8 columns):\n",
            " #   Column   Non-Null Count  Dtype  \n",
            "---  ------   --------------  -----  \n",
            " 0   tenure   200 non-null    float64\n",
            " 1   age      200 non-null    float64\n",
            " 2   address  200 non-null    float64\n",
            " 3   income   200 non-null    float64\n",
            " 4   ed       200 non-null    float64\n",
            " 5   employ   200 non-null    float64\n",
            " 6   equip    200 non-null    float64\n",
            " 7   churn    200 non-null    int64  \n",
            "dtypes: float64(7), int64(1)\n",
            "memory usage: 12.6 KB\n"
          ]
        }
      ]
    },
    {
      "cell_type": "code",
      "source": [
        "df.shape"
      ],
      "metadata": {
        "colab": {
          "base_uri": "https://localhost:8080/"
        },
        "id": "t_TKsZmpm-eK",
        "outputId": "7b6792cc-d6e6-4159-8831-135acecf0aac"
      },
      "execution_count": null,
      "outputs": [
        {
          "output_type": "execute_result",
          "data": {
            "text/plain": [
              "(200, 8)"
            ]
          },
          "metadata": {},
          "execution_count": 98
        }
      ]
    },
    {
      "cell_type": "code",
      "source": [
        "type(df)"
      ],
      "metadata": {
        "colab": {
          "base_uri": "https://localhost:8080/"
        },
        "id": "kdgrSkX-nCLD",
        "outputId": "d194c15a-16c1-45a5-91c1-faf001a00c7c"
      },
      "execution_count": null,
      "outputs": [
        {
          "output_type": "execute_result",
          "data": {
            "text/plain": [
              "pandas.core.frame.DataFrame"
            ]
          },
          "metadata": {},
          "execution_count": 99
        }
      ]
    },
    {
      "cell_type": "code",
      "source": [
        "df.describe()"
      ],
      "metadata": {
        "colab": {
          "base_uri": "https://localhost:8080/",
          "height": 296
        },
        "id": "9mrL3uecnECA",
        "outputId": "831a82f9-d743-4b75-ab35-b28b8985827c"
      },
      "execution_count": null,
      "outputs": [
        {
          "output_type": "execute_result",
          "data": {
            "text/plain": [
              "           tenure         age     address       income         ed     employ  \\\n",
              "count  200.000000  200.000000  200.000000   200.000000  200.00000  200.00000   \n",
              "mean    35.505000   41.165000   11.650000    75.130000    2.82500   10.22500   \n",
              "std     21.640971   13.076803   10.158419   128.430468    1.28555    8.95743   \n",
              "min      1.000000   19.000000    0.000000     9.000000    1.00000    0.00000   \n",
              "25%     16.750000   31.000000    3.000000    31.000000    2.00000    3.00000   \n",
              "50%     33.500000   40.000000    9.000000    48.000000    3.00000    7.50000   \n",
              "75%     55.250000   51.000000   18.000000    80.000000    4.00000   17.00000   \n",
              "max     72.000000   76.000000   48.000000  1668.000000    5.00000   44.00000   \n",
              "\n",
              "            equip       churn  \n",
              "count  200.000000  200.000000  \n",
              "mean     0.425000    0.290000  \n",
              "std      0.495584    0.454901  \n",
              "min      0.000000    0.000000  \n",
              "25%      0.000000    0.000000  \n",
              "50%      0.000000    0.000000  \n",
              "75%      1.000000    1.000000  \n",
              "max      1.000000    1.000000  "
            ],
            "text/html": [
              "\n",
              "  <div id=\"df-3811b96f-3408-41ea-a61a-16f87f3e2ae1\">\n",
              "    <div class=\"colab-df-container\">\n",
              "      <div>\n",
              "<style scoped>\n",
              "    .dataframe tbody tr th:only-of-type {\n",
              "        vertical-align: middle;\n",
              "    }\n",
              "\n",
              "    .dataframe tbody tr th {\n",
              "        vertical-align: top;\n",
              "    }\n",
              "\n",
              "    .dataframe thead th {\n",
              "        text-align: right;\n",
              "    }\n",
              "</style>\n",
              "<table border=\"1\" class=\"dataframe\">\n",
              "  <thead>\n",
              "    <tr style=\"text-align: right;\">\n",
              "      <th></th>\n",
              "      <th>tenure</th>\n",
              "      <th>age</th>\n",
              "      <th>address</th>\n",
              "      <th>income</th>\n",
              "      <th>ed</th>\n",
              "      <th>employ</th>\n",
              "      <th>equip</th>\n",
              "      <th>churn</th>\n",
              "    </tr>\n",
              "  </thead>\n",
              "  <tbody>\n",
              "    <tr>\n",
              "      <th>count</th>\n",
              "      <td>200.000000</td>\n",
              "      <td>200.000000</td>\n",
              "      <td>200.000000</td>\n",
              "      <td>200.000000</td>\n",
              "      <td>200.00000</td>\n",
              "      <td>200.00000</td>\n",
              "      <td>200.000000</td>\n",
              "      <td>200.000000</td>\n",
              "    </tr>\n",
              "    <tr>\n",
              "      <th>mean</th>\n",
              "      <td>35.505000</td>\n",
              "      <td>41.165000</td>\n",
              "      <td>11.650000</td>\n",
              "      <td>75.130000</td>\n",
              "      <td>2.82500</td>\n",
              "      <td>10.22500</td>\n",
              "      <td>0.425000</td>\n",
              "      <td>0.290000</td>\n",
              "    </tr>\n",
              "    <tr>\n",
              "      <th>std</th>\n",
              "      <td>21.640971</td>\n",
              "      <td>13.076803</td>\n",
              "      <td>10.158419</td>\n",
              "      <td>128.430468</td>\n",
              "      <td>1.28555</td>\n",
              "      <td>8.95743</td>\n",
              "      <td>0.495584</td>\n",
              "      <td>0.454901</td>\n",
              "    </tr>\n",
              "    <tr>\n",
              "      <th>min</th>\n",
              "      <td>1.000000</td>\n",
              "      <td>19.000000</td>\n",
              "      <td>0.000000</td>\n",
              "      <td>9.000000</td>\n",
              "      <td>1.00000</td>\n",
              "      <td>0.00000</td>\n",
              "      <td>0.000000</td>\n",
              "      <td>0.000000</td>\n",
              "    </tr>\n",
              "    <tr>\n",
              "      <th>25%</th>\n",
              "      <td>16.750000</td>\n",
              "      <td>31.000000</td>\n",
              "      <td>3.000000</td>\n",
              "      <td>31.000000</td>\n",
              "      <td>2.00000</td>\n",
              "      <td>3.00000</td>\n",
              "      <td>0.000000</td>\n",
              "      <td>0.000000</td>\n",
              "    </tr>\n",
              "    <tr>\n",
              "      <th>50%</th>\n",
              "      <td>33.500000</td>\n",
              "      <td>40.000000</td>\n",
              "      <td>9.000000</td>\n",
              "      <td>48.000000</td>\n",
              "      <td>3.00000</td>\n",
              "      <td>7.50000</td>\n",
              "      <td>0.000000</td>\n",
              "      <td>0.000000</td>\n",
              "    </tr>\n",
              "    <tr>\n",
              "      <th>75%</th>\n",
              "      <td>55.250000</td>\n",
              "      <td>51.000000</td>\n",
              "      <td>18.000000</td>\n",
              "      <td>80.000000</td>\n",
              "      <td>4.00000</td>\n",
              "      <td>17.00000</td>\n",
              "      <td>1.000000</td>\n",
              "      <td>1.000000</td>\n",
              "    </tr>\n",
              "    <tr>\n",
              "      <th>max</th>\n",
              "      <td>72.000000</td>\n",
              "      <td>76.000000</td>\n",
              "      <td>48.000000</td>\n",
              "      <td>1668.000000</td>\n",
              "      <td>5.00000</td>\n",
              "      <td>44.00000</td>\n",
              "      <td>1.000000</td>\n",
              "      <td>1.000000</td>\n",
              "    </tr>\n",
              "  </tbody>\n",
              "</table>\n",
              "</div>\n",
              "      <button class=\"colab-df-convert\" onclick=\"convertToInteractive('df-3811b96f-3408-41ea-a61a-16f87f3e2ae1')\"\n",
              "              title=\"Convert this dataframe to an interactive table.\"\n",
              "              style=\"display:none;\">\n",
              "        \n",
              "  <svg xmlns=\"http://www.w3.org/2000/svg\" height=\"24px\"viewBox=\"0 0 24 24\"\n",
              "       width=\"24px\">\n",
              "    <path d=\"M0 0h24v24H0V0z\" fill=\"none\"/>\n",
              "    <path d=\"M18.56 5.44l.94 2.06.94-2.06 2.06-.94-2.06-.94-.94-2.06-.94 2.06-2.06.94zm-11 1L8.5 8.5l.94-2.06 2.06-.94-2.06-.94L8.5 2.5l-.94 2.06-2.06.94zm10 10l.94 2.06.94-2.06 2.06-.94-2.06-.94-.94-2.06-.94 2.06-2.06.94z\"/><path d=\"M17.41 7.96l-1.37-1.37c-.4-.4-.92-.59-1.43-.59-.52 0-1.04.2-1.43.59L10.3 9.45l-7.72 7.72c-.78.78-.78 2.05 0 2.83L4 21.41c.39.39.9.59 1.41.59.51 0 1.02-.2 1.41-.59l7.78-7.78 2.81-2.81c.8-.78.8-2.07 0-2.86zM5.41 20L4 18.59l7.72-7.72 1.47 1.35L5.41 20z\"/>\n",
              "  </svg>\n",
              "      </button>\n",
              "      \n",
              "  <style>\n",
              "    .colab-df-container {\n",
              "      display:flex;\n",
              "      flex-wrap:wrap;\n",
              "      gap: 12px;\n",
              "    }\n",
              "\n",
              "    .colab-df-convert {\n",
              "      background-color: #E8F0FE;\n",
              "      border: none;\n",
              "      border-radius: 50%;\n",
              "      cursor: pointer;\n",
              "      display: none;\n",
              "      fill: #1967D2;\n",
              "      height: 32px;\n",
              "      padding: 0 0 0 0;\n",
              "      width: 32px;\n",
              "    }\n",
              "\n",
              "    .colab-df-convert:hover {\n",
              "      background-color: #E2EBFA;\n",
              "      box-shadow: 0px 1px 2px rgba(60, 64, 67, 0.3), 0px 1px 3px 1px rgba(60, 64, 67, 0.15);\n",
              "      fill: #174EA6;\n",
              "    }\n",
              "\n",
              "    [theme=dark] .colab-df-convert {\n",
              "      background-color: #3B4455;\n",
              "      fill: #D2E3FC;\n",
              "    }\n",
              "\n",
              "    [theme=dark] .colab-df-convert:hover {\n",
              "      background-color: #434B5C;\n",
              "      box-shadow: 0px 1px 3px 1px rgba(0, 0, 0, 0.15);\n",
              "      filter: drop-shadow(0px 1px 2px rgba(0, 0, 0, 0.3));\n",
              "      fill: #FFFFFF;\n",
              "    }\n",
              "  </style>\n",
              "\n",
              "      <script>\n",
              "        const buttonEl =\n",
              "          document.querySelector('#df-3811b96f-3408-41ea-a61a-16f87f3e2ae1 button.colab-df-convert');\n",
              "        buttonEl.style.display =\n",
              "          google.colab.kernel.accessAllowed ? 'block' : 'none';\n",
              "\n",
              "        async function convertToInteractive(key) {\n",
              "          const element = document.querySelector('#df-3811b96f-3408-41ea-a61a-16f87f3e2ae1');\n",
              "          const dataTable =\n",
              "            await google.colab.kernel.invokeFunction('convertToInteractive',\n",
              "                                                     [key], {});\n",
              "          if (!dataTable) return;\n",
              "\n",
              "          const docLinkHtml = 'Like what you see? Visit the ' +\n",
              "            '<a target=\"_blank\" href=https://colab.research.google.com/notebooks/data_table.ipynb>data table notebook</a>'\n",
              "            + ' to learn more about interactive tables.';\n",
              "          element.innerHTML = '';\n",
              "          dataTable['output_type'] = 'display_data';\n",
              "          await google.colab.output.renderOutput(dataTable, element);\n",
              "          const docLink = document.createElement('div');\n",
              "          docLink.innerHTML = docLinkHtml;\n",
              "          element.appendChild(docLink);\n",
              "        }\n",
              "      </script>\n",
              "    </div>\n",
              "  </div>\n",
              "  "
            ]
          },
          "metadata": {},
          "execution_count": 100
        }
      ]
    },
    {
      "cell_type": "code",
      "source": [
        "sns.relplot(data=df, x=\"employ\", y=\"income\", kind=\"line\")"
      ],
      "metadata": {
        "colab": {
          "base_uri": "https://localhost:8080/",
          "height": 382
        },
        "id": "GAWL-2RUnUqD",
        "outputId": "d6a1c48b-f821-4b47-b260-4f2eafe042e1"
      },
      "execution_count": null,
      "outputs": [
        {
          "output_type": "execute_result",
          "data": {
            "text/plain": [
              "<seaborn.axisgrid.FacetGrid at 0x7f3250287a10>"
            ]
          },
          "metadata": {},
          "execution_count": 101
        },
        {
          "output_type": "display_data",
          "data": {
            "text/plain": [
              "<Figure size 360x360 with 1 Axes>"
            ],
            "image/png": "[encoded data removed]"
          },
          "metadata": {}
        }
      ]
    },
    {
      "cell_type": "code",
      "source": [
        "# Affichage graphique de la variable Age\n",
        "plt.subplot(122)\n",
        "sns.distplot(df['age'])\n",
        "\n",
        "plt.show();"
      ],
      "metadata": {
        "colab": {
          "base_uri": "https://localhost:8080/",
          "height": 340
        },
        "id": "NMDSDaSvTWOS",
        "outputId": "a6259160-33fb-41b5-8844-e72a091af2a5"
      },
      "execution_count": null,
      "outputs": [
        {
          "output_type": "stream",
          "name": "stderr",
          "text": [
            "/usr/local/lib/python3.7/dist-packages/seaborn/distributions.py:2619: FutureWarning: `distplot` is a deprecated function and will be removed in a future version. Please adapt your code to use either `displot` (a figure-level function with similar flexibility) or `histplot` (an axes-level function for histograms).\n",
            "  warnings.warn(msg, FutureWarning)\n"
          ]
        },
        {
          "output_type": "display_data",
          "data": {
            "text/plain": [
              "<Figure size 432x288 with 1 Axes>"
            ],
            "image/png": "[encoded data removed]"
          },
          "metadata": {}
        }
      ]
    },
    {
      "cell_type": "code",
      "source": [
        "df1=df\n",
        "#Relation entre les tranches d age  et Default_Payment \n",
        "bins = [18,35,50,65,80]\n",
        "names = ['18-35','35-50','50-65','65-80']\n",
        "df['age_bin'] = pd.cut(x=df1['age'], bins=bins, labels=names, right=True)\n",
        "\n",
        "age_cnt = df1['age_bin'].value_counts()\n",
        "age_0 = (df1.age_bin[df1['churn'] == 0].value_counts())\n",
        "age_1 = (df1.age_bin[df1['churn'] == 1].value_counts())\n",
        "\n",
        "plt.subplots(figsize=(8,5))\n",
        "plt.bar(age_0.index, age_0.values, label='0:not churn')\n",
        "plt.bar(age_1.index, age_1.values, label='1: churn')\n",
        "\n",
        "plt.xticks(fontsize=12)\n",
        "plt.yticks(fontsize=12)\n",
        "plt.title(\"Number of clients in each age group\", fontsize=15)\n",
        "plt.legend(loc='upper right', fontsize=15)\n",
        "plt.show()"
      ],
      "metadata": {
        "colab": {
          "base_uri": "https://localhost:8080/",
          "height": 343
        },
        "id": "wQgbXtAdTcJT",
        "outputId": "78016909-0105-4d38-b444-a64600a9005d"
      },
      "execution_count": null,
      "outputs": [
        {
          "output_type": "display_data",
          "data": {
            "text/plain": [
              "<Figure size 576x360 with 1 Axes>"
            ],
            "image/png": "[encoded data removed]"
          },
          "metadata": {}
        }
      ]
    },
    {
      "cell_type": "code",
      "source": [
        "df1['churn'].replace({1:'1', 0:'0'}).value_counts().plot(kind='pie',autopct='%.2f') "
      ],
      "metadata": {
        "colab": {
          "base_uri": "https://localhost:8080/",
          "height": 265
        },
        "id": "ndwRGZgFTiKY",
        "outputId": "e5c3ac55-65f5-43af-b82c-a5f0cd8b9b25"
      },
      "execution_count": null,
      "outputs": [
        {
          "output_type": "execute_result",
          "data": {
            "text/plain": [
              "<matplotlib.axes._subplots.AxesSubplot at 0x7f324fc29dd0>"
            ]
          },
          "metadata": {},
          "execution_count": 104
        },
        {
          "output_type": "display_data",
          "data": {
            "text/plain": [
              "<Figure size 432x288 with 1 Axes>"
            ],
            "image/png": "[encoded data removed]"
          },
          "metadata": {}
        }
      ]
    },
    {
      "cell_type": "code",
      "source": [
        "plt.figure(figsize=(20,20))\n",
        "heat = sns.heatmap(df1[['tenure',\t'age','address','income','ed','employ','equip']].corr(), vmax=1, square=True, annot=True)"
      ],
      "metadata": {
        "colab": {
          "base_uri": "https://localhost:8080/",
          "height": 1000
        },
        "id": "aB_q76i2Tlxg",
        "outputId": "7e398676-7eba-4db1-8c36-0af6a0f0468a"
      },
      "execution_count": null,
      "outputs": [
        {
          "output_type": "display_data",
          "data": {
            "text/plain": [
              "<Figure size 1440x1440 with 2 Axes>"
            ],
            "image/png": "[encoded data removed]"
          },
          "metadata": {}
        }
      ]
    },
    {
      "cell_type": "markdown",
      "source": [
        "#III Regression logistique"
      ],
      "metadata": {
        "id": "sJaRuBBnpDUh"
      }
    },
    {
      "cell_type": "markdown",
      "source": [
        "#III/1 Implementation\n",
        "#**III**/1.1 Fonction Sigmoide"
      ],
      "metadata": {
        "id": "8fx3Fxsip6hx"
      }
    },
    {
      "cell_type": "markdown",
      "source": [
        "##Question 3 : La fonction z → log (1 − g(z)) est-elle convexe ?"
      ],
      "metadata": {
        "id": "AzILJl9iqlCa"
      }
    },
    {
      "cell_type": "markdown",
      "source": [
        "Déclare fonction g(z):"
      ],
      "metadata": {
        "id": "MY90L1iLuPly"
      }
    },
    {
      "cell_type": "code",
      "source": [
        "g = lambda z : 1 / ( 1 + np.exp(-z) )"
      ],
      "metadata": {
        "id": "7OYyhE78osrt"
      },
      "execution_count": null,
      "outputs": []
    },
    {
      "cell_type": "code",
      "source": [
        "def sigmoid(z):\n",
        " return (1/(1+np.exp(-z)))"
      ],
      "metadata": {
        "id": "5e4pvvA1TY6s"
      },
      "execution_count": null,
      "outputs": []
    },
    {
      "cell_type": "code",
      "source": [
        "z = np.linspace(-10, 10, 100)"
      ],
      "metadata": {
        "id": "xN_CJhzMvXDp"
      },
      "execution_count": null,
      "outputs": []
    },
    {
      "cell_type": "code",
      "source": [
        "plt.plot(z, g(z), color='red')"
      ],
      "metadata": {
        "colab": {
          "base_uri": "https://localhost:8080/",
          "height": 285
        },
        "id": "fJD4hRFfu2iu",
        "outputId": "a84faf4b-c14e-4cb5-9c6e-9373f3df60f7"
      },
      "execution_count": null,
      "outputs": [
        {
          "output_type": "execute_result",
          "data": {
            "text/plain": [
              "[<matplotlib.lines.Line2D at 0x7f324f9d7950>]"
            ]
          },
          "metadata": {},
          "execution_count": 109
        },
        {
          "output_type": "display_data",
          "data": {
            "text/plain": [
              "<Figure size 432x288 with 1 Axes>"
            ],
            "image/png": "[encoded data removed]"
          },
          "metadata": {}
        }
      ]
    },
    {
      "cell_type": "markdown",
      "source": [
        "On interprete graphiquement que la fonction z → log (1 − g(z)) est une fonction est NON-convex.\n",
        "\n",
        "OU:\n"
      ],
      "metadata": {
        "id": "9LU1ybTfT9V_"
      }
    },
    {
      "cell_type": "code",
      "source": [
        "plt.plot(z, np.log(1-g(z)), color='red')"
      ],
      "metadata": {
        "colab": {
          "base_uri": "https://localhost:8080/",
          "height": 285
        },
        "id": "Wsndj1MkwXNt",
        "outputId": "2991f512-cf9c-4024-98f4-ad4cb5b6bdad"
      },
      "execution_count": null,
      "outputs": [
        {
          "output_type": "execute_result",
          "data": {
            "text/plain": [
              "[<matplotlib.lines.Line2D at 0x7f324f94f990>]"
            ]
          },
          "metadata": {},
          "execution_count": 110
        },
        {
          "output_type": "display_data",
          "data": {
            "text/plain": [
              "<Figure size 432x288 with 1 Axes>"
            ],
            "image/png": "[encoded data removed]"
          },
          "metadata": {}
        }
      ]
    },
    {
      "cell_type": "markdown",
      "source": [
        "->g(z) = 1 / (1 + exp(-z))\n",
        "\n",
        "log(1 - g(z)) = log(1 - (1 / (1 + exp(-z)))) = X\n",
        "\n",
        "X  = log(1) + log(1 + exp(-z))\n",
        "\n",
        "X  = log(1) + log(exp(-z)) = log(exp(-z)) = -z\n",
        "\n",
        "X' = -1\n",
        "\n",
        "X'' =  0\n",
        "\n",
        "   Et on sait que:La fonction f est concave sur I si sa dérivée f ' est décroissante sur I, soit f ''(x) ≤ 0 pour tout x de I. or, log(1-g(z))' = cte = -1 et log(1-g(z))'' = 0 => N'est pas convexe."
      ],
      "metadata": {
        "id": "tfNbAvOGzZHS"
      }
    },
    {
      "cell_type": "markdown",
      "source": [
        "##Question 4"
      ],
      "metadata": {
        "id": "obwSbewJ1nsc"
      }
    },
    {
      "cell_type": "markdown",
      "source": [
        "*)Valeurs Critiques de la fonction sigmoid(x) ou g: "
      ],
      "metadata": {
        "id": "RMn6wFB22ZNt"
      }
    },
    {
      "cell_type": "code",
      "source": [
        "g(0)"
      ],
      "metadata": {
        "colab": {
          "base_uri": "https://localhost:8080/"
        },
        "id": "YRBJvPUI1gqU",
        "outputId": "b9fd57db-be12-445a-ded9-31e0a82be0f2"
      },
      "execution_count": null,
      "outputs": [
        {
          "output_type": "execute_result",
          "data": {
            "text/plain": [
              "0.5"
            ]
          },
          "metadata": {},
          "execution_count": 111
        }
      ]
    },
    {
      "cell_type": "code",
      "source": [
        "g(1)"
      ],
      "metadata": {
        "colab": {
          "base_uri": "https://localhost:8080/"
        },
        "id": "lieTpH352jaH",
        "outputId": "92d497d3-e24c-4fcb-a008-971ca6189e99"
      },
      "execution_count": null,
      "outputs": [
        {
          "output_type": "execute_result",
          "data": {
            "text/plain": [
              "0.7310585786300049"
            ]
          },
          "metadata": {},
          "execution_count": 112
        }
      ]
    },
    {
      "cell_type": "code",
      "source": [
        "g(100000)"
      ],
      "metadata": {
        "colab": {
          "base_uri": "https://localhost:8080/"
        },
        "id": "k8NvbF9B2l2E",
        "outputId": "ac6bf5cd-fa70-4ee5-d151-acbd4cf3c7bd"
      },
      "execution_count": null,
      "outputs": [
        {
          "output_type": "execute_result",
          "data": {
            "text/plain": [
              "1.0"
            ]
          },
          "metadata": {},
          "execution_count": 113
        }
      ]
    },
    {
      "cell_type": "code",
      "source": [
        "g(-100000)"
      ],
      "metadata": {
        "colab": {
          "base_uri": "https://localhost:8080/"
        },
        "id": "eYJK0px32n9m",
        "outputId": "ceafea7b-5736-42e5-dcdf-e56ae91affab"
      },
      "execution_count": null,
      "outputs": [
        {
          "output_type": "stream",
          "name": "stderr",
          "text": [
            "/usr/local/lib/python3.7/dist-packages/ipykernel_launcher.py:1: RuntimeWarning: overflow encountered in exp\n",
            "  \"\"\"Entry point for launching an IPython kernel.\n"
          ]
        },
        {
          "output_type": "execute_result",
          "data": {
            "text/plain": [
              "0.0"
            ]
          },
          "metadata": {},
          "execution_count": 114
        }
      ]
    },
    {
      "cell_type": "code",
      "source": [
        "z = np.linspace(-5200000, 10, 1000000)\n",
        "\n",
        "result = g(z)\n",
        "plt.plot(z, result, color='blue')"
      ],
      "metadata": {
        "colab": {
          "base_uri": "https://localhost:8080/"
        },
        "id": "NNy3nU7v26Sx",
        "outputId": "ba0c9507-b807-4de5-af3c-bfa660d14527"
      },
      "execution_count": null,
      "outputs": [
        {
          "output_type": "stream",
          "name": "stderr",
          "text": [
            "/usr/local/lib/python3.7/dist-packages/ipykernel_launcher.py:1: RuntimeWarning: overflow encountered in exp\n",
            "  \"\"\"Entry point for launching an IPython kernel.\n"
          ]
        },
        {
          "output_type": "execute_result",
          "data": {
            "text/plain": [
              "[<matplotlib.lines.Line2D at 0x7f324f8d43d0>]"
            ]
          },
          "metadata": {},
          "execution_count": 115
        },
        {
          "output_type": "display_data",
          "data": {
            "text/plain": [
              "<Figure size 432x288 with 1 Axes>"
            ],
            "image/png": "[encoded data removed]"
          },
          "metadata": {}
        }
      ]
    },
    {
      "cell_type": "code",
      "source": [
        "from numpy import array, exp\n",
        "\n",
        "z = array([ 0.2, 0.4, 0.1])\n",
        "\n",
        "result = g(z)\n",
        "plt.plot(z, result, color='blue')"
      ],
      "metadata": {
        "colab": {
          "base_uri": "https://localhost:8080/"
        },
        "id": "nPixjCJ13wkG",
        "outputId": "b0250be0-2a75-4312-d4b6-5fe05e27a15b"
      },
      "execution_count": null,
      "outputs": [
        {
          "output_type": "execute_result",
          "data": {
            "text/plain": [
              "[<matplotlib.lines.Line2D at 0x7f324f8b3490>]"
            ]
          },
          "metadata": {},
          "execution_count": 116
        },
        {
          "output_type": "display_data",
          "data": {
            "text/plain": [
              "<Figure size 432x288 with 1 Axes>"
            ],
            "image/png": "[encoded data removed]"
          },
          "metadata": {}
        }
      ]
    },
    {
      "cell_type": "markdown",
      "source": [
        "Automatiquement:"
      ],
      "metadata": {
        "id": "WTixnAotVDwN"
      }
    },
    {
      "cell_type": "code",
      "source": [
        "def sigmoid1(z):\n",
        "    # Convertir l'input à input array\n",
        "    z = np.array(z)\n",
        "    # Retourner ces variables corréctement:\n",
        "    g = np.zeros(z.shape)\n",
        "    g = 1 / (1 + np.exp(-z))   \n",
        "    return g"
      ],
      "metadata": {
        "id": "Qw91bCk_Uhlm"
      },
      "execution_count": null,
      "outputs": []
    },
    {
      "cell_type": "code",
      "source": [
        "print('Test sur ZERO:  = ', sigmoid1(0))\n",
        "print('Test sur une grande valeur positive:  = ', sigmoid1(1000))\n",
        "print('Test sur une grande valeur negative: = ', sigmoid1(-1000))\n",
        "liste = [1,5,15,50,100] \n",
        "vecteur = np.array(liste)\n",
        "print('Test sur les vecteurs:',sigmoid(vecteur),'\\n')\n",
        "B = np.array([[0.5, 0.9], [0.6, 0.9], [0.2, .006]])\n",
        "print('Test sur les matrices:',sigmoid(B),'\\n')"
      ],
      "metadata": {
        "colab": {
          "base_uri": "https://localhost:8080/"
        },
        "id": "DPEdN8wtUjtk",
        "outputId": "5fce1de1-6971-40fd-f4e2-d621b95c1417"
      },
      "execution_count": null,
      "outputs": [
        {
          "output_type": "stream",
          "name": "stdout",
          "text": [
            "Test sur ZERO:  =  0.5\n",
            "Test sur une grande valeur positive:  =  1.0\n",
            "Test sur une grande valeur negative: =  0.0\n",
            "Test sur les vecteurs: [0.73105858 0.99330715 0.99999969 1.         1.        ] \n",
            "\n",
            "Test sur les matrices: [[0.62245933 0.7109495 ]\n",
            " [0.64565631 0.7109495 ]\n",
            " [0.549834   0.5015    ]] \n",
            "\n"
          ]
        },
        {
          "output_type": "stream",
          "name": "stderr",
          "text": [
            "/usr/local/lib/python3.7/dist-packages/ipykernel_launcher.py:6: RuntimeWarning: overflow encountered in exp\n",
            "  \n"
          ]
        }
      ]
    },
    {
      "cell_type": "code",
      "source": [
        "z = np.linspace(-100, 100, 200)\n",
        "g = sigmoid1(z)\n",
        "plt.plot(z,g)\n",
        "plt.xlabel(\"z\")\n",
        "plt.ylabel(\"g(Z)\") \n",
        "plt.show()"
      ],
      "metadata": {
        "colab": {
          "base_uri": "https://localhost:8080/"
        },
        "id": "TkB_zEMBVQXu",
        "outputId": "e65f6e0c-ed86-4080-9240-3180e9e791ef"
      },
      "execution_count": null,
      "outputs": [
        {
          "output_type": "display_data",
          "data": {
            "text/plain": [
              "<Figure size 432x288 with 1 Axes>"
            ],
            "image/png": "[encoded data removed]"
          },
          "metadata": {}
        }
      ]
    },
    {
      "cell_type": "markdown",
      "source": [
        "#III/1.2 Fonction coût et gradient"
      ],
      "metadata": {
        "id": "CKzldY1i53L5"
      }
    },
    {
      "cell_type": "markdown",
      "source": [
        "prepare the data for our model"
      ],
      "metadata": {
        "id": "jTqIvOpFP4Kd"
      }
    },
    {
      "cell_type": "markdown",
      "source": [
        "“m” is the number of rows in the dataset."
      ],
      "metadata": {
        "id": "yG3jT_o16DYV"
      }
    },
    {
      "cell_type": "code",
      "source": [
        "X = df[['tenure', 'age', 'address', 'income', 'ed', 'employ', 'equip']]\n",
        "y = df['churn']"
      ],
      "metadata": {
        "id": "q97e6B3C6U7u"
      },
      "execution_count": null,
      "outputs": []
    },
    {
      "cell_type": "code",
      "source": [
        "import numpy as np\n",
        "m = X.shape[0]\n",
        "a = np.ones((m, 1))\n",
        "X.insert(loc = 0, column = 'Ones', value = a)"
      ],
      "metadata": {
        "id": "2oRWN8aG5_ZO"
      },
      "execution_count": null,
      "outputs": []
    },
    {
      "cell_type": "code",
      "source": [
        "X = df.iloc[:, :-1]\n",
        "y = df.iloc[:, -1].values"
      ],
      "metadata": {
        "id": "aa3zy9UgQKH4"
      },
      "execution_count": null,
      "outputs": []
    },
    {
      "cell_type": "markdown",
      "source": [
        "We will define some functions that will be used to compute the cost."
      ],
      "metadata": {
        "id": "6piaW8R2PQBI"
      }
    },
    {
      "cell_type": "code",
      "source": [
        "def sigmoid(x):\n",
        "    # Activation function used to map any real value between 0 and 1\n",
        "    return 1 / (1 + np.exp(-x))\n",
        "\n",
        "def net_input(theta, x):\n",
        "    # Computes the weighted sum of inputs\n",
        "    return np.dot(x, theta)\n",
        "\n",
        "def probability(theta, x):\n",
        "    # Returns the probability after passing through sigmoid\n",
        "    return sigmoid(net_input(theta, x))"
      ],
      "metadata": {
        "id": "CxOtXzG6PQlD"
      },
      "execution_count": null,
      "outputs": []
    },
    {
      "cell_type": "code",
      "source": [
        "def cost(X, y, theta):\n",
        "    h = hypothesis(X, theta)\n",
        "    J = np.dot((h - y).transpose(), (h - y))\n",
        "    J /= 2\n",
        "    return J[0]"
      ],
      "metadata": {
        "id": "n0hSn03UrdwJ"
      },
      "execution_count": null,
      "outputs": []
    },
    {
      "cell_type": "code",
      "source": [
        "def cost_function(x, y,theta):\n",
        "    # Computes the cost function for all the training samples\n",
        "    m = x.shape[0]\n",
        "    total_cost = -(1 / m) * np.sum(\n",
        "        y * np.log(probability(theta, x)) + (1 - y) * np.log(\n",
        "            1 - probability(theta, x)))\n",
        "    return total_cost"
      ],
      "metadata": {
        "id": "RsbynACNPCWL"
      },
      "execution_count": null,
      "outputs": []
    },
    {
      "cell_type": "code",
      "source": [
        "def cost_function2(X, y, theta, m):\n",
        "  y = y.reshape(y.shape[0], 1)\n",
        "  H = h(theta, X)\n",
        "  return (sum((y)*np.log(H) + (1-y)*np.log(1-H))) / (-m)"
      ],
      "metadata": {
        "id": "LPn76WyKTtPH"
      },
      "execution_count": null,
      "outputs": []
    },
    {
      "cell_type": "code",
      "source": [
        "def gradient(self, theta, x, y):\n",
        "    # Computes the gradient of the cost function at the point theta\n",
        "    m = x.shape[0]\n",
        "    return (1 / m) * np.dot(x.T, sigmoid(net_input(theta,   x)) - y)"
      ],
      "metadata": {
        "id": "Cdvrt1HyPDg4"
      },
      "execution_count": null,
      "outputs": []
    },
    {
      "cell_type": "code",
      "source": [
        "def gradient(theta, x, y):\n",
        "    # Computes the gradient of the cost function at the point theta\n",
        "    m = x.shape[0]\n",
        "    return (1 / m) * np.dot(x.T, sigmoid(net_input(theta,   x)) - y)"
      ],
      "metadata": {
        "id": "l9OFoSSO5Gx5"
      },
      "execution_count": null,
      "outputs": []
    },
    {
      "cell_type": "markdown",
      "source": [
        "##Question 5"
      ],
      "metadata": {
        "id": "e93FVrqI6Doc"
      }
    },
    {
      "cell_type": "markdown",
      "source": [
        "Expression de la fonction de coût dans la régression logistique:"
      ],
      "metadata": {
        "id": "T5OoYZhP6gaZ"
      }
    },
    {
      "cell_type": "markdown",
      "source": [
        "Redefining functions:"
      ],
      "metadata": {
        "id": "GyIIgIfSBnTF"
      }
    },
    {
      "cell_type": "code",
      "source": [
        "g = lambda z : 1 / ( 1 + np.exp(-z) )\n",
        "\n",
        "w=2\n",
        "b=3"
      ],
      "metadata": {
        "id": "FpWzn4KT7pQP"
      },
      "execution_count": null,
      "outputs": []
    },
    {
      "cell_type": "code",
      "source": [
        "x = df.iloc[:, :-1].values\n",
        "y = df.iloc[:, -1].values"
      ],
      "metadata": {
        "id": "5XKVCfMVGyCW"
      },
      "execution_count": null,
      "outputs": []
    },
    {
      "cell_type": "code",
      "source": [
        "def h(theta, X):\n",
        " return sigmoid(np.matmul(X, theta))"
      ],
      "metadata": {
        "id": "LLLe4jsTKLWn"
      },
      "execution_count": null,
      "outputs": []
    },
    {
      "cell_type": "code",
      "source": [
        "def loss(y, h):\n",
        "    loss = -np.mean(y*(np.log(h)) - (1-y)*np.log(1-h))\n",
        "    return loss"
      ],
      "metadata": {
        "id": "PWoy1Wt4Io2K"
      },
      "execution_count": null,
      "outputs": []
    },
    {
      "cell_type": "code",
      "source": [
        "m=25\n",
        "for i in np.arange(0,m):\n",
        "  J = lambda θ : (1/m) *  sum(-y[i] * np.log(h[θ](x ** i)) - (1- y ** i) * np.log(1 - h[θ](x ** i)))"
      ],
      "metadata": {
        "id": "qVX3LPmg55w2"
      },
      "execution_count": null,
      "outputs": []
    },
    {
      "cell_type": "markdown",
      "source": [
        "##Question 6"
      ],
      "metadata": {
        "id": "as2t-UdbLFyd"
      }
    },
    {
      "cell_type": "code",
      "source": [
        "X = np.c_[np.ones((X.shape[0], 1)), X]\n",
        "y = y[:, np.newaxis]\n",
        "theta = np.zeros((X.shape[1], 1))"
      ],
      "metadata": {
        "id": "5kQaHcgTP43_",
        "colab": {
          "base_uri": "https://localhost:8080/"
        },
        "outputId": "af061912-7a07-4502-8b6a-0423017e36b0"
      },
      "execution_count": null,
      "outputs": [
        {
          "output_type": "stream",
          "name": "stderr",
          "text": [
            "/usr/local/lib/python3.7/dist-packages/ipykernel_launcher.py:2: FutureWarning: Support for multi-dimensional indexing (e.g. `obj[:, None]`) is deprecated and will be removed in a future version.  Convert to a numpy array before indexing instead.\n",
            "  \n"
          ]
        }
      ]
    },
    {
      "cell_type": "code",
      "source": [
        "theta_test = np.array([0.4, -0.033, -0.02, 0.003, -0.0002, 0.15, -0.023, 2])"
      ],
      "metadata": {
        "id": "UckTrqP3LlqU"
      },
      "execution_count": null,
      "outputs": []
    },
    {
      "cell_type": "code",
      "source": [
        "X = df[['tenure', 'age', 'address', 'income', 'ed', 'employ', 'equip']]\n",
        "y = df['churn']"
      ],
      "metadata": {
        "id": "LLv4637nUPuJ"
      },
      "execution_count": null,
      "outputs": []
    },
    {
      "cell_type": "code",
      "source": [
        "import numpy as np\n",
        "m = X.shape[0]\n",
        "a = np.ones((m, 1))\n",
        "X.insert(loc = 0, column = 'Ones', value = a)"
      ],
      "metadata": {
        "id": "fWu1mm6KUj1K"
      },
      "execution_count": null,
      "outputs": []
    },
    {
      "cell_type": "markdown",
      "source": [
        "Ou"
      ],
      "metadata": {
        "id": "7idi1VJGWlja"
      }
    },
    {
      "cell_type": "code",
      "source": [
        "def costFunction(theta, X, y):\n",
        "   \n",
        "    # Initialize some useful values\n",
        "    m = y.size  # number of training examples\n",
        "\n",
        "    # You need to return the following variables correctly \n",
        "    J = 0\n",
        "    grad = np.zeros(theta.shape)\n",
        "    hyp = sigmoid(np.dot(X, theta)) \n",
        "    J =  1/m * np.sum((-y * np.log(hyp)) + (-(1 - y) * np.log(1 - hyp)))\n",
        "    # Could also be written as \n",
        "    # -1/m * np.sum((y * np.log(hyp)) + ((1 - y) * np.log(1 - hyp)))\n",
        "    # J = (-1/m) * np.sum(np.multiply(y, np.log(sigmoid(X @ theta))) + np.multiply((1-y), np.log(1 - sigmoid(X @ theta))))\n",
        "\n",
        "    grad = 1/m * np.dot(X.T, (hyp - y)) \n",
        "    return J, grad"
      ],
      "metadata": {
        "id": "TJGeDj8EWk1n"
      },
      "execution_count": null,
      "outputs": []
    },
    {
      "cell_type": "code",
      "source": [
        "X= df.iloc[:, 0:7]\n",
        "y= df.iloc[:, 7]\n",
        "\n",
        "m, n = X.shape\n",
        "\n",
        "# Add intercept term to X\n",
        "X = np.concatenate([np.ones((m, 1)), X], axis=1)"
      ],
      "metadata": {
        "id": "DcqoYJ1LWo9K"
      },
      "execution_count": null,
      "outputs": []
    },
    {
      "cell_type": "markdown",
      "source": [
        "Partie Opérationalle:"
      ],
      "metadata": {
        "id": "cyhM2k19XlMF"
      }
    },
    {
      "cell_type": "code",
      "source": [
        "def costFunction(theta, X, y):\n",
        "   \n",
        "    # Initialize some useful values\n",
        "    m = y.size  # number of training examples\n",
        "\n",
        "    # On doit Retourner ces valeurs correctement:\n",
        "    J = 0\n",
        "    grad = np.zeros(theta.shape)\n",
        "    hyp = sigmoid(np.dot(X, theta)) \n",
        "    J =  1/m * np.sum((-y * np.log(hyp)) + (-(1 - y) * np.log(1 - hyp)))\n",
        "\n",
        "    grad = 1/m * np.dot(X.T, (hyp - y)) \n",
        "    return J, grad"
      ],
      "metadata": {
        "id": "AMVbHWPUXunt"
      },
      "execution_count": null,
      "outputs": []
    },
    {
      "cell_type": "code",
      "source": [
        "X= df.iloc[:, 0:7] #Puisqu'il y a des 8 valeurs en theta test à considérer\n",
        "y= df.iloc[:, 7]\n",
        "\n",
        "m, n = X.shape\n",
        "\n",
        "# Add intercept term to X\n",
        "X = np.concatenate([np.ones((m, 1)), X], axis=1)"
      ],
      "metadata": {
        "id": "YqY_wQ8mYFdV"
      },
      "execution_count": null,
      "outputs": []
    },
    {
      "cell_type": "code",
      "source": [
        "theta_test = np.array([0.4, -0.033, -0.02, 0.003, -0.0002, 0.15, -0.023, 2])\n",
        "cost, grad = costFunction(theta_test, X, y)\n",
        "\n",
        "print('La fonction cout est : {:.3f}'.format(cost))\n",
        "print('et les gradients attendus :')\n",
        "print('\\t[{:.3f}, {:.3f}, {:.3f}, {:.3f}, {:.3f}, {:.3f}, {:.3f}, {:.3f}]'.format(*grad))"
      ],
      "metadata": {
        "colab": {
          "base_uri": "https://localhost:8080/"
        },
        "id": "YEt3XCzuYIg4",
        "outputId": "4b8a312e-b3ba-4160-9e77-df3191fce5bf"
      },
      "execution_count": null,
      "outputs": [
        {
          "output_type": "stream",
          "name": "stdout",
          "text": [
            "La fonction cout est : 0.537\n",
            "et les gradients attendus :\n",
            "\t[0.124, 4.355, 5.218, 1.350, 9.972, 0.404, 1.322, 0.105]\n"
          ]
        }
      ]
    },
    {
      "cell_type": "markdown",
      "source": [
        "#III/1.3 Paramètres d’apprentissage à l’aide d’un problème d’optimisation\n"
      ],
      "metadata": {
        "id": "H6p-oAVN7yaB"
      }
    },
    {
      "cell_type": "markdown",
      "source": [
        "##Question 7 : La fonction J(θ) est-elle coercive ? Justifiez votre r´eponse."
      ],
      "metadata": {
        "id": "zrnC4PcX8Tka"
      }
    },
    {
      "cell_type": "markdown",
      "source": [
        "On a:\n",
        "\n",
        "![va.png](data:image/png;base64,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)\n",
        "\n",
        "Une fonction réelle est dite coercive si « elle tend vers l'infini à l'infini », éventuellement dans une partie spécifiée de l'ensemble de départ.Dans notre cas:\n",
        "\n",
        "lm (θ-> +∞) J(θ) = \n",
        "\n",
        "lm (θ-> +∞) (1/constante) * Somme(-Yi*log(hθ(Xi)) - (1 - Yi)*log(1 - hθ(Xi)))\n",
        "\n",
        "Or, hθ(x) = g(θ'T*x), lm (θ-> +∞) g(θ'T*x) -> 1 \n",
        "\n",
        "D'oû, lm (θ-> +∞) J(θ) -> ∞"
      ],
      "metadata": {
        "id": "Ij5acihO9gn3"
      }
    },
    {
      "cell_type": "markdown",
      "source": [
        "**coercive : car limite de norme de z de j tend vers + l'infini**"
      ],
      "metadata": {
        "id": "r2sih-_ket5j"
      }
    },
    {
      "cell_type": "markdown",
      "source": [
        "## Question 8 : Montrez que J(θ) est convexe. Est-elle strictement convexe ?"
      ],
      "metadata": {
        "id": "qvCiaFLXHeG4"
      }
    },
    {
      "cell_type": "markdown",
      "source": [
        "Il en résultera une fonction de coût non convexe. Mais cela se traduit par une fonction de coût avec des optima locaux, ce qui est un très gros problème pour Gradient Descent pour calculer les optima globaux.\n",
        "\n",
        "![Cost_func_Non_Convex.jpg](data:image/jpeg;base64,/9j/4AAQSkZJRgABAQAAAQABAAD/2wBDAAMCAgICAgMCAgIDAwMDBAYEBAQEBAgGBgUGCQgKCgkICQkKDA8MCgsOCwkJDRENDg8QEBEQCgwSExIQEw8QEBD/2wBDAQMDAwQDBAgEBAgQCwkLEBAQEBAQEBAQEBAQEBAQEBAQEBAQEBAQEBAQEBAQEBAQEBAQEBAQEBAQEBAQEBAQEBD/wAARCAHwAxgDASIAAhEBAxEB/8QAHQABAAMBAQEBAQEAAAAAAAAAAAYHCAUEAwECCf/EAGUQAAECBAIDCAoNCAQKCAYDAAABAgMEBQYHEQgSIRMVFzFRVZTRFBZBWGFzdpOV0iIyNjc4UldxkaaytNQjMzSBoaKjpCRCgrMJQ0RTYmVydZKxGCUmY2RmdMEnNXeDhMLD0/D/xAAaAQEAAwEBAQAAAAAAAAAAAAAAAgMEBQEG/8QAQREAAgECAgINCwQCAgMBAQAAAAECAxEEEiExBRQyQVFSYXGRkqGx0hMVIjNUY3KBwdHhNFOywiNCgpNiovCzNf/aAAwDAQACEQMRAD8A/wBUwAAAAAAAAAAAAAAAAAAAAAAAAAAAAAAAAAAAAAAAAAAAAAAAAAAAAAAAAAAAAAAAAAAAAAAAAAAAAAAAAAAAAAAAAAAAAAAAAAAAAAAAAAAAAAAAAAAAAAAAAAAAAAAAAAAAAAAAAAAAAAAAAAAAAAAAACD4k4xWXhckpK12YmZurVJVbTqRT4KzE9OO4socJu1Uz2ZrknhPpi/iPBwssSeutJB1QnWqyVp0izPWnJyK7Vgwky27XKnFtyRSH4YYbxbCa67rtayu4mXMixahOPXW7HR23seDx7nBhpkmSceS+DKEm75YmDEYirKrtbDWzWu29UVvaN9uzsuRt8D8L750pLma6ctrCm1rXkF9oty1Z8SYVvxnMgNyYv8AornlyqeN1b0s2Lquq2DiL/6ud9QuKBbbZlUmK9MvnYy7dRVyhM8CNT/3Pc2iUdqZJTJbLxSDJysh5vk9M682+dLsSSKO390sed8HOlzvqDf3Sx53wc6XO+oXlvNSObJXzTeobzUjmyV803qGTlY83e+n1vwUbv7pY874OdLnfUG/uljzvg50ud9QvLeakc2Svmm9Q3mpHNkr5pvUMnKx5u99Prfgo3f3Sx53wc6XO+oN/dLHnfBzpc76heW81I5slfNN6hvNSObJXzTeoZOVjzd76fW/BRu/uljzvg50ud9Qb+6WPO+DnS531C8t5qRzZK+ab1Deakc2Svmm9QycrHm730+t+Cjd/dLHnfBzpc76g390sed8HOlzvqF5bzUjmyV803qG81I5slfNN6hk5WPN3vp9b8FG7+6WPO+DnS531Bv7pY874OdLnfULy3mpHNkr5pvUN5qRzZK+ab1DJysebvfT634KN390sed8HOlzvqDf3Sx53wc6XO+oXlvNSObJXzTeobzUjmyV803qGTlY83e+n1vwUbv7pY874OdLnfUG/uljzvg50ud9QvLeakc2Svmm9Q3mpHNkr5pvUMnKx5u99Prfgo3f3Sx53wc6XO+oN/dLHnfBzpc76heW81I5slfNN6hvNSObJXzTeoZOVjzd76fW/BRu/uljzvg50ud9Qb+6WPO+DnS531C8t5qRzZK+ab1Deakc2Svmm9QycrHm730+t+Cjd/dLHnfBzpc76g390sed8HOlzvqF5bzUjmyV803qG81I5slfNN6hk5WPN3vp9b8FG7+6WPO+DnS531Bv7pY874OdLnfULy3mpHNkr5pvUN5qRzZK+ab1DJysebvfT634KN390sed8HOlzvqDf3Sx53wc6XO+oXlvNSObJXzTeobzUjmyV803qGTlY83e+n1vwUbv7pY874OdLnfUG/uljzvg50ud9QvLeakc2Svmm9Q3mpHNkr5pvUMnKx5u99Prfgo3f3Sx53wc6XO+oN/dLHnfBzpc76heW81I5slfNN6hvNSObJXzTeoZOVjzd76fW/BRu/uljzvg50ud9Qb+6WPO+DnS531C8t5qRzZK+ab1Deakc2Svmm9QycrHm730+t+Cjd/dLHnfBzpc76g390sed8HOlzvqF5bzUjmyV803qG81I5slfNN6hk5WPN3vp9b8FG7+6WPO+DnS531Bv7pY874OdLnfULy3mpHNkr5pvUN5qRzZK+ab1DJysebvfT634KN390sed8HOlzvqDf3Sx53wc6XO+oXlvNSObJXzTeobzUjmyV803qGTlY83e+n1vwUbv7pY874OdLnfUG/uljzvg50ud9QvLeakc2Svmm9Q3mpHNkr5pvUMnKx5u99Prfgo3f3Sx53wc6XO+oN/dLHnfBzpc76heW81I5slfNN6hvNSObJXzTeoZOVjzd76fW/BRu/uljzvg50ud9Qb+6WPO+DnS531C8t5qRzZK+ab1Deakc2Svmm9QycrHm730+t+Cjd/dLHnfBzpc76g390sed8HOlzvqF5bzUjmyV803qG81I5slfNN6hk5WPN3vp9b8FG7+6WPO+DnS531Bv7pY874OdLnfULy3mpHNkr5pvUN5qRzZK+ab1DJysebvfT634KN390sed8HOlzvqDf3Sx53wc6XO+oXlvNSObJXzTeobzUjmyV803qGTlY83e+n1vwUbv7pY874OdLnfUG/uljzvg50ud9QvLeakc2Svmm9Q3mpHNkr5pvUMnKx5u99Prfgo3f3Sx53wc6XO+oN/dLHnfBzpc76heW81I5slfNN6hvNSObJXzTeoZOVjzd76fW/BRu/uljzvg50ud9Qb+6WPO+DnS531C8t5qRzZK+ab1Deakc2Svmm9QycrHm730+t+Cjd/dLHnfBzpc76g390sed8HOlzvqF5bzUjmyV803qG81I5slfNN6hk5WPN3vp9b8FG7+6WPO+DnS531Bv7pY874OdLnfULy3mpHNkr5pvUN5qRzZK+ab1DJysebvfT634KN390sed8HOlzvqDf3Sx53wc6XO+oXlvNSObJXzTeobzUjmyV803qGTlY83e+n1vwUbv7pY874OdLnfUG/uljzvg50ud9QvLeakc2Svmm9Q3mpHNkr5pvUMnKx5u99Prfgo3f3Sx53wc6XO+oN/dLHnfBzpc76heW81I5slfNN6hvNSObJXzTeoZOVjzd76fW/BRu/uljzvg50ud9Qb+6WPO+DnS531C8t5qRzZK+ab1Deakc2Svmm9QycrHm730+t+Cjd/dLHnfBzpc76g390sed8HOlzvqF5bzUjmyV803qG81I5slfNN6hk5WPN3vp9b8FG7+6WPO+DnS531Bv7pY874OdLnfULy3mpHNkr5pvUN5qRzZK+ab1DJysebvfT634KN390sed8HOlzvqDf3Sx53wc6XO+oXlvNSObJXzTeobzUjmyV803qGTlY83e+n1vwUbv7pY874OdLnfUG/uljzvg50ud9QvLeakc2Svmm9Q3mpHNkr5pvUMnKx5u99Prfgo3f3Sx53wc6XO+oN/dLHnfBzpc76heW81I5slfNN6hvNSObJXzTeoZOVjzd76fW/BRu/uljzvg50ud9Qb+6WPO+DnS531C8t5qRzZK+ab1Deakc2Svmm9QycrHm730+t+Cjd/dLHnfBzpc76g390sed8HOlzvqF5bzUjmyV803qG81I5slfNN6hk5WPN3vp9b8FG7+6WPO+DnS531Bv7pY874OdLnfULy3mpHNkr5pvUN5qRzZK+ab1DJysebvfT634KN390sed8HOlzvqDf3Sx53wc6XO+oXlvNSObJXzTeobzUjmyV803qGTlY83e+n1vwUbv7pY874OdLnfUHbHpYy/5VZvB6aRP8U2dnGq79atT/mXlvNSObJXzTeobzUjmyV803qGTlY83e+n1vwUnK6RtzWc5GY2Ybvo8kio11doc2lSkGZr7aK1qJEgt8Ko5M+Qu2j1ilXBS5Wt0Ooy89ITsNI0vMy8RHw4rF4la5NinmnbWt6oQHy81SJZ8OI1WvbqIiKi8aKUNGpsxosXzIzlHjPfhjd862TmpJ65pRKg/wDNxYfxYURc0cmxEXLwHl3DXpRGU6+x7Tqyz09TbtmjfU3aya4dCa1u6vbRwP4gxoUxCZHgvR8N6I5rk4lQ/ssOoAAAAAAUpi3FdW8eMIbMi+yk4UepXDGYvE6NLQWtgL/ZWJEX58iz7ehpORpqvRfZPmYisg5/1YTVyTL58syqcQ1VNKbDRUXJUt+vKn/BDLdtZES35HL/ADX/ALkIa5c/0RzsDprYhvjpdEIHVABM6IAAAAAAAAAAAAAAAAAAAAAAAAAAAAAAAAAAAAAAAAAAAAAAAAAAAAAAAAAAAAAAAAAAAAAAAAAAAAAAAAAAAAAAAAAAAAAAAAAAAAAAAAAAAAAAAAAAAAAAAAAAAAAAAAAAAAK20kbel7mwKvenzDEcsGjTM9CXutiQGLGaqeHNifSWSRHF5uthNereW3akn8tEIyV4szY2CqYapCWpxfccnBCvTdYsaixJ56viTVKk55rl413SEiv/AHs/pLEKmwB9wNjuT+takpn+otkR0xR7g5OeHpylrcV3AAEjQAAAUbiJ8KXDXyer32IZbtre5+R8UhUWInwpcNfJ6vfYhlu2t7n5HxSEIa5c/wBEc3AetxHx/wBIHVABM6QAAAAAAAAAAAAAAAAAAAAAAAAAAAAAAAAAAAAAAAAIninffBpYdVvferfLexjH9i7vuO6a0RrPb6rsvbZ8S8RVXrQw1KVaq7Rim2+RaWRnJQi5S1IlgIXhJijRcXbNlrso8Psd7nLBm5N0RHvlY6cbFXJM0yVFRckzRUXJOI8lw4q7xYuW3hXvDu/bDJxpvs/srV3Dc0eurueoutnufHrJxmfzjhvIQxKn6E3FRenS5Oy6W9/VvkPL08infQ7W+eon4ANpaAAAACt8QMbKRZ1fgWTQqDUrpuuah7qyk01qZwmLxPjRF2Qmrx5rmqJkqoiKimfE4qjg4eUrystXO3qSS0t8i0kKlSNJZpuxZAKVntIC77MfAnMWcFKrbFFjxEhOqcrU4NThwFVURFipCRFY3b4V5EVdhccjOylSk4FRp8zDmJaahtjQYsN2s2IxyZtci91FRSrC7IYfGSlCk3mjrTTi1fU7SSdnw2sRp1oVW1F6VvNNPoZ9wAbS0AAAAAAAAAAAAAqy7ceJKm3TGsKwrRql6XJKoizUtIObCl5TwRph3sWL+pURdiqi7DkzuP8AdtmOhTeLeC1XtekRojYS1OUqUGqQYCquSLF3JE1G7fCq9xFOVU2bwNOTUpu0XZtRk4p8sknFW37vRvmaWLoxbTerfs7dNrdpdIPjJTkpUZOBUJGYZHlpmG2LBiw1za9jkza5F7qKin2Oommro06wAD0AAhmL+I3BTYc/e+8++nYT4TOxeyNw19eIjPb6rsstbPiKcRXp4WlKvVdoxTbfAlr1aSM5xpxc5akTMHnp812dIS09uep2RBZF1c89XWai5Z93jPQWpqSuiWsAjWI19UzDWzKlelXl40eWp0NrlhQcteI5zka1qZ7Ezc5NvcObhled83nKRqhduGj7UlnwoUaRc+rQpt00x6KuatY1qw8k1djtvsvApmljaMcQsLd52r2SbstOltKyvZ2u1feK3Vgp+T3/AJ//AC+ZNwAaiwAAAAAAAAAAAAAAAAAAAAAAAAAAAAAAAAAAAAAAAEVxWbrYXXi3loFQT+XeSojOJ7dbDW7W8tDn0/l3nktTKcT6mfM+4hWj67PD2xF5bVli2yodHlc8ObBX/wArS/8AzLePIblFWA/SUvhj3IAAkawAACjcRPhS4a+T1e+xDLdtb3PyPikKixE+FLhr5PV77EMt21vc/I+KQhDXLn+iObgPW4j4/wCkDqgAmdIAAAAAAAAAAAAAAAAAAAAAAAAAAAAAAAAAAAAAAAFUaU3vD3V4mD/fwy1yqNKb3h7q8TB/v4ZzNm//AOZiPgn/ABZnxfqJ8z7iq5WDH0dqza+KFLgv7Sbvp0hK3FLw09jJzSwm6syiJxIqqq/8af1mkpvmYgTeljhlNS0ZkWDGok1EhxGLm17VZHVFRe6ioWdR7Zo95YQ0m2K9KpMSFRoMpAjMXjyWAzJyL3HIuSovcVEMv4e0i8rQ0nbPw8u6M6Zh2zLzkrSptzVzjyL4UZ8Nc+6iZqngyVvcPk8ZSnsb5ChBXo1alJr/AMJ5ouS5pbpcDvwo5tWMqGSCXoylF8zur/J6+ctieqF6414r3HY9HvSqWralnLCgTkakPSFOzs09FzRI2SqxrcnJs2bNqLnmn8y89e2B2KdtWlVr1qt1WjeMR8pLRazFSNOyU21EyRY2SK9qq5vHsyVdiKma+JK5/wBHzGO8K5edPnm2hesSFPQKzLyz48KUmGo7WhxkYiubmrnZbFXiyRduX8TdfXSHxcs2esmnT0S0LMmX1KarUxKvgQZmP7HVhQtdEc7a1qLsRdqrlkiKtjqx153tzytst3fLn4t7ZPJ6b2tv3uSzLXd+Vzar71+Dgt8vmfGlQMRMQ8ccRrJg4k12iW3To8tGi9gzC9ktzhIjYUu9+aQGqus5ysbmuSJ3Ts2HO3fhzjxEwiqd61a56FVKMtWkotYjbvNy0RrlRWrF2K5F1XeDiyRNuf1we+ENjD46n/3SisfDGoPkjG/vIhKhTyU6eLUnndeUb5nuXUlHLa9rW3ra9J7CNoxqXd87WvezNWL2M+aKbW12p4i37UGK+q1K4osq+JET2bIMPa2H4ETWyy/0U5DQZnSFMVTRsxGuWpVG36jULAu6a3ySekICxlpc0qrrpFYm1GLrLt7qI3LNUVDt7LtUMVhsXV9XByzPiuUbKT5FpV965rxPoVKdWW5V78l1of8A9wl+V6hUm56NOW/XZJk5T5+E6BMQHqqI9i8aZoqKnzoqKncKrxhuWewntC2bAwslIEhUq/PQqJSVeixGSTF9tEydnrKmsmWefHntyyOJeeknR7wocza2BMGrXLc1UhLLQIspIxoEOQ1/YrGiRIjW6uqi5ovEiptVD4YnYdYh07DywbghzE3dly2HPwqlPsVyxI041VRYrWd16tyaid1UTPapj2Q2Rp4ulVlses0oxV6kNNlmV4xktby3dle3PYqr141IydDS0t0ufSk+G13oPtdmFGJdg2rNXzamN931Sv0eA6emZWrTSR6fONY3WiMbAVMoeaIuW1cuLNONOTi3ixdNdwow2vux5+NS6jXK1KsdBhR3shPiq17XQYiNVNeHujdrV2KibTpXrpL2heFmVC1cOZCtVm7KzKRJGHSG0yM2LKviNVrnRlVuoiMRVz1XLtTuJmqRrEqzJrD7CfB60Z97XTchc8gkwrFzakVznveiL3URXKmfgOTjatFU6y2MqN0siu1JtKedWs23aVr3V+C5mqyjlnteXo202d9N1v8ADbWdjFezMRcK7MmMVaVjZdlSrdKiQY87KzsdrqbMo57WvayVRqNhp7LYm3YmzJdqdjEe8a9bdzYYYrQ6vPy9u1ncqdWaeky/sVvZMPWhxVh56ubVc72WWfsWkh0pveHurxMH+/hn93JZDcQ9HaBa7WZzMe3pSLKL3WzEOCx8NU/tNRPmVTficHOliK+HwbaahCpFXb9NSlwt7qyT4d8uqUnGc4UuBNaXrTffazOdjtXq9UbosbCu061PU2euCpdmT0xIzD4MWHIQEziezYqKiO293bq5EVvzEWJeeLdSw0mMWYOH1s23AhrPTcOowpOdqEy9EXc4UaIubUai7cs+Jc0XNMv40ZJqs4n3XVMXbml3si0ymyltSSP7kSHDa6Zf4FV+3+2qHPu+h2thZjdcF4YoWFLVyzLthwo0KqRqU2fZTJpqIjmvRWuViO2rsTNfY5Z5KiY8Tia2Lw62Qi8tKrUV7tpKnFNK9tKUp6W9Ghq+gqqVJVYeWTtGUuXcpaL8jes9tu4gQ8OMUbdtSi4zJiFa91RHSjmzdVg1Ceps1s1HLFhrmrHKqJkqInH3UzXp3vd9w6P2KES6rhq9Zq2H90Q3tdDjR4kytLnWtVyMhI5V1WP25NTJMlX4iH9WbdmDl233TKfhBgnRqrKQHbvOXHDokOQg05W7Wqxz4CPdE5ETVXPLJV2qngu2E/SdxHmbDkpyPCsK0FctTm5d2XZtRVFa2Gx3EqM2/Q7laozzWFthaqlU8ovJZXJxvZZleW6ha7lZtK9lpSQu/J/45Xlm9G17cqu9a4eAmOBEtflyrUcWb7qtRg9si69JoazUTsaQkv6jtyz1d0ciIutlnlt43KhZdzVKLR7bq1XgN1okjIx5licrmQ3ORP2FS4B3pWaRUKhgTiBMKtw2umUhMPX/AOY0/wDxcRqrxq1Ms/Bl3UcXTMy8Gbl4srMMR8KMx0N7V4nNVMlT6D6TYdxq7HpU5PNpUs26U/8Aa/KnvarWtosb8K1Kisr0799d9+/zKT0P6TLwcJIdzRHJGqdxz81Oz8wq5viPSK5iI5ePYjVX53KvdOnfmPmj5DfWcPr6uhjlTdJCoyT6dOOTkc3WhwlT9bV8KKQyyazWtGCPUbIvagVOcsh85Em6RX5CWdMMlYb1zWFMNbtZlx55ceeSKi5p7Lwx4wtvSi1Og4aWzUL0rtVlY0sxshRYjdyfEarUiRYkVjVaiZ56yIvFty4zhUNkI4PYyng1OEKsFllCcXJyaWm0VKLlmem6ummY4VlSw8aV0pJWaavfmV1e/wAz5Y2XnI0vR+oFfwVrUxI01tUk5emxZR8eX1oLViN3NUdqvVmbclR3HkTehWBe9kUiqXRK3xct43LN012506pz7EkFnFyciwoa6rYTdbZlrZauZUGJ9o1uxdFO0bWuKDDg1GSrMpu8NkRHoxzosV+rrJsVURyIuWaZ91S98Zot5QcJ69FsBsda4kmnY/Y6KsZEzbrrDRNuvqa2WW3PLLbkTw2apWq4jERalClTlljdZW4zuox1X0WV78B7TvKUpzTuoxdlvOzvZFbxcKL1iWkl0Yj6Qd2W/csaAseKyBV4UpTJSKqZpDWE3JrkbxKqORFyU49PxSvK6dEa4Lsna5Hh16mLEkt8pOIsGI9WRoeURroeWSq1yIqplnt5SIWZF0YX0KUiwbNrd4Ygulk7Jp01KTszMxp1U9nuiO/II1H55r3G7VzU/bM1oOhpf1PmIbYM3J1KZhTEumSLBfusDNqonFkcWGLXpeQkkpUat8tSU7tRTTk2klNadWlad6xlVTXkeuEtUm9Nlr5Sw7bwoxWvCw6feVTxuuuQueakIUzIyspNalPhJqIsJkaFlnGcqZaz3Lmqquetlti1/wCI1SxM0RKtWK9DhsrEjPQadUdzREa6NCmIeb0RNiayK1ck2ZquWwk9p6T9rUPDykUiu0mtw7wg0yBBl6K2nRnRZ96Q0SHEhPRqscx+xUVVz2rsXuwy7bErdi6IFbh3PAWBV61U4dWnIC+2guizEPJjv9JGtTPkVVTuF+JqUJYSe0ZuSdCflNLenKsua70TvfRodr6LJEqjg6b8i7rI82m+9ovy6yYVjDHEiWw0iYhR8bLrlrkkKUlSZKSsw2FS4aQ4WukDsZG5ORGpq6yqua7VReItnCC756/MM7du2psY2cqMm18xqNyasRqq1zkTuIqtVcvCfG8feXrHk1H+7KcfRl94m0P/AEb/AO+efRYKhHB7JRo0m8sqTbu27tSir6W9Olm+lBUq6jHU431791pItpi2zvlhPP3F2wVqV3qbDTsGWm9SUm90jw0zjw8vyit427UyU8V11G5MG8PrdtSybsrlYuK+KjLycjO1+bScWQ14bEesPNqIjG+xyaqKiK5V28RJtLP3hLl//F+8wzmY4WrctStKxr4tOlxapP2XOStTfIQkziTEDUZuiMTjV3sW7E25Z5Z8Rz9lKLhjcVWoJ5/J09KvezlNSa5cq0W4NGkoxEWqtScNeWOrXrd+w8V2YUYl2Das1fNqY33fVK/R4Dp6ZlatNJHp841jdaIxsBUyh5oi5bVy4s04042LGKd23Phvhbd9i1iYolQuSswID2wYzkh7q5rmOZEai5RGJERV1XZouSZodW9dJe0LwsyoWrhzIVqs3ZWZSJIw6Q2mRmxZV8Rqtc6Mqt1ERiKueq5dqdxM1SNYgWZNYfYf4I2jPva6bkLnk0mFYubUiuVz3oi91EVypn4DFjalFQrR2MqN0skbtSbSlnilZ3dpWvez4L6SqrKNpLDy9GyvZ791v8Nr3L1w+w6nLFfORp3EG6bmiTzYeulZnd2ZBemessFqImojs/a7cskJmAfd0KFPDU1SpKyXK336TsQhGmssdQABcSAAAAAAAAAAAAAAAAAAAAAAAAAAAAAAAAABHcR262Hl0N5aLOp/AeSI4F/t1rEuRvLSJxP4Lzx6iqv6qXM+4r7R1XPDXD9eW14P/MuApzRwXPDHD5eW2If2i4zyG5RRsf8ApKXwx7kAASNgAABRuInwpcNfJ6vfYhlu2t7n5HxSFRYifClw18nq99iGW7a3ufkfFIQhrlz/AERzcB63EfH/AEgdUAEzpAAAAAAAAAAAAAAAAAAAAAAAAAAAAAAAAAAAAAAAAh+IFs4h3E6RWxMTu1FJdIvZSbywKh2Traup+dVNTVydxcett4kJgCqvRjiKbpzbSfA3F9MWmvk+QjOCmsr7G12oqDg00g++a+pcj644NNIPvmvqXI+uW+Dn+ZsNxqn/AHVfGUbVp8MutL7lQcGmkH3zX1LkfXHBppB9819S5H1y3wPM2G41T/uq+MbVp8MutL7lQcGmkH3zX1LkfXHBppB9819S5H1y3wPM2G41T/uq+MbVp8MutL7lQcGmkH3zX1LkfXHBppB9819S5H1yzq/cNEtWkTNfuKpwKfT5NmvGmI7tVrU7nzqq7ERNqqqIm0qt2lFakWA+p0vD/EKp0Zmbt+JS33OklYnG/Xc5F1U8LTFisPsZgpKFetNN6beWq3tw2z3ty6iqpDD0nacmv+Uvufbg00g++a+pcj644NNIPvmvqXI+uWDZV9WriHQ4dxWfWINQkYiqxXMRWuhvTjY9q5Oa5M02KicaLxKh3jTT2KwdaCqU6k3F6mq1Vp/+5ZHD0prNFtr4pfcqDg00g++a+pcj644NNIPvmvqXI+uW+CzzNhuNU/7qvjPdq0+GXWl9yoODTSD75r6lyPrjg00g++a+pcj65YV73rb+Htszl2XPMvgU+SRFiOhw1iOc5yo1rWtTjVVVE5Nu1UTadeTmoc7KQJ2EjkZMQ2xWo7jRHJmmfh2la2LwbqOkqlTMkm15arezvZ7vfs+g82vSby3d/il9ypuDTSD75r6lyPrjg00g++a+pcj65MMUcTqDhLbCXXccnUJqUWZhyqQ5GGx8XXeiqi5Pe1MvYr3Svk0r7dVEVMJ8TlRf9RM//uMOJjsTg6nka9aala9vK1tT/wCZTUWGpSyzm0/il9zo8GmkH3zX1LkfXHBppB9819S5H1yb4eX9J4i0N9dkqBXKPDZMOl+x6vKpLx1VqIusjUc72K62xc+4pKDbR2MweIpqrTnUcXqflavjLo4elNKUXK3xS+5UHBppB9819S5H1xwaaQffNfUuR9ct8FvmbDcap/3VfGe7Vp8MutL7lQcGmkH3zX1LkfXHBppB9819S5H1y3wPM2G41T/uq+MbVp8MutL7lQcGmkH3zX1LkfXHBppB9819S5H1yeVy/rbt66KFZtQmIu+1xOipJQYcJVRWw2q573O4momSJx5qqpknGqeZ+JVCZiWzCtZSf32iUxaqkbc2dj7kjtXV1tbW1s+5q5eEzSwWx8HldWd7qPrqu6aulu9bTIOlQTtmeu26lr6SGcGmkH3zX1LkfXPHeeGeLs/hNeVs1jEDt6qVXloEOmQN6pWmbg5sTOIms1+q7WTV9sqZamzjLrBfLYXDShKGafpJrTUqS0NNPRKTjqei6dnpJvCU2mrvTdbqT187aKyiWNifMWPaFHtbEftKm6TTIcvUoe88vUt3iJChtRM3uybqK1+1qqjtfwIc3g00g++a+pcj65b4LJbE4ebTcp6ktFSpFaFbVGSS+SXCevDQetvrSXc7FQcGmkH3zX1LkfXHBppB9819S5H1y3wR8zYbjVP+6r4zzatPhl1pfcqDg00g++a+pcj644NNIPvmvqXI+uW+B5mw3Gqf91XxjatPhl1pfcqDg00g++a+pcj644NNIPvmvqXI+uW+B5mw3Gqf91XxjatPhl1pfch+H9s4h266eW+8Tu25JhIXYqbywKf2Nq62v+aVdfWzbx8Wrs41JgAdChRjh6apwbaXC3J9Mm2/m+QvhBQWVdrb7WAAWkgAAAAAAAAAAAAAAAAAAAAAAAAAAAAAAAAAcS+E1rLr7eWlzSfwnHbOReDda0q23lp0yn8Jx49RXV005czKw0bFzwtw7Xltln2i5il9Ghc8KcOV5baT7ZdB5DcozbG/o6Pwx7kAASNoAABRuInwpcNfJ6vfYhlu2t7n5HxSFRYifClw18nq99iGW7a3ufkfFIQhrlz/AERzcB63EfH/AEgdUAEzpAAAAAAAAAAAAAAAAAAAAAAAAAAAAAAAAAAAAAAAAAAAAAAAAAAAGe8c2svbHPDfCqprr0V6xaxOyy56kw6Gj1Y1ycSplDcmXI9TQUOHDgw2woTGsYxEa1rUyRqJxIidxCjdIaiVq37ntDHGgUyPUe1KM+FVZaA3WiOkYntntTu6qK/Pk1s12Iqkwk9IXBWdoiV9mJFEhQNz3RYMaZbDmUyTam4L+UVfAjVz7mZ85g8RRweOxSxUlGcpKSbaV4ZUla+8nmvwPnMNKcKVaoqjs276eCy7tJ9qVYllYRTF34hU+JOS0CptdUqjL7oiy8Pc2uc5YUNETVVc3LtVdq9xNhX1pTmkPjFRO3+j3/TLIpU8r30mlto8KdfFgo5Ua6PEibWquXG3PZtyTiPy3K9iJjxQcRZuExZSzqrIRqfbEGZlmwosd+5q1YutlnqKqd3Pa7JPaqffAnGjD6i4YU617xuSQt2t2vAWn1CQqcZJeM10JVTNrX5K/NETY3Nc9mRhWJwuIrUqcZOlh5RnJWbp5pZtd007WvJK6undqxTnpzlGKbjBptabXd+HtXCdCyMcLgjWle8K9qFAZdmH0OKs/LyjlSDNo1jnQ4jM81ajtVc+PZkqceSR20Z7SCxFs2HiLa2M9vRJqYhLMstuXo0u+XY/jSWfMOdujHZbFz4l7uW08+FNXqdVq2LOO1KtWZqdKqqMhUmSem5PqUKXY5HK3WauxyIncXaqplmikTi0HRWum10xGt+8Ew9r6S75l8rTqxuUxLzKIqrDSA72Sojtibk1qKnFkc+WMr1aNKU6t1adk6jpOUVNqM1JK0nltolo033yl1ZyjFuW899xbV9DvqejefOSvSfhYg1nR/l65cE3Dt+PAbB37okKDCmWTMZ0ZiMVsdHKsNGqiuRGquaOyVdhdOGFJuajWdJSt13b2xTj2NismuwIcpqQlY3VhakNVRdXb7LjXMz3d1UvW49Ch9VvVZmPUXuguSNHblFiyyTTUhxH91VVuW1dqpkq555mj7EuGg3La1PnrerMlU5dkvChPiykdsVrIiMbmxytVcnJmmaLtQ6mxUqVfZN4i8rzo02lJu7u5XvG+W+hXsrJttWu76MM4zxDnd6Yxel8+9q/+5SpdNN7YeDsF71ya2tyiqvgyedeX0tNH5kCGx1/5OaxEVN6p3jy8ScnTQRFwfgIvPcn/wAnlxytu2+stBVaFT/zbf8AJWcnzFjjjJbMYjak4x9CnfNFy49rWlG3ae2qvFT8m0tEdab4eVFcY34nz1LwKmcSMNq5uTo7ZWNIzvYyO1oUSK1M9zjMXLNqr7ZuaE0uWtVOn4Y1K4ZSZ3OoS9DizkONqNXVjJAVyO1VTVX2W3JUy8BCdKijTM7gNcEnSJLW7GbLx9ygs9rChxmOcqIncRqKvzIpxryx1wzmsEZqFRLqkalU6nRHScrTJaIkSc3Z8FW5Pgt9mxG7VVXIiZIu3izlicc8Ji68cRVt/ii1pss153cU3r1arvVyHtSt5KrNTlb0V06b27DxXPizfdJ0V6PiZLVr/tDMMk3x5rsaD+U14+q9NRWKxM27NjdncPrc0bSVp1lzOKrb+okospKb5vtdlHY+A2A1uusN0y5d0V+px5ZJnmiKiZEMvb4DtA8XIfeS+cS/eUuTybmfu6nOoqrjFJ1Ks1loU5K0pL0mp+k7PS9Gm+h76egpjmq3vJ6IRetrTp0kUurHuapuD9tXxQqJCma9d6y8pTJCI5VhpNRU26ypkqtaqL3Uz2bUzzOXW5XSgsSkwrzdechej4L4bp62pahMhrubnIjkl4sNN0iK3PZmibEVVRcslgVYp1Sl9HnCG/pKRjTktZ07LVOfhQWaz0lkeus9E5EyTP58+JFLUvzSSsmmWYlTw8uCk3FcNRWHBpNKgxN2ixIz3IiJEgsVIjERFXNF1VzTLjCxixClUx1eVNxpwlG0st7xu5KKspvNos01vW0nnlc95VptWimrO2taXbf06LFcYs0e/q1pAYezVOv6NSI1al5mPSWxqLBfEoqbi1YkNzHL+Wc5c89fLVVdnEWXAvS8ZbSLkcOJqvdkUdLVSejQuxYTN1mkfqrFzRus3PL2qO1U5CIYoVl9FxqwbuC+pqQpSskpzfCO6JuUrBjuhN1m671yRus7JM15Np00mIE3phSU1Kx4caDGspYkOJDcjmvasXNHIqbFRU2oqEKb8hiqrpzkpSr07rNLU4RelX1Nt/JJakkvIvJUllbu5x33qst7/wC4N4/afeOLeNdzV6DhtdcjZ1rW9OvpyVJ9NZPTM/MM9vkyJ7BGJy7F2px5qidbDvEO/aRiTM4NYrRpKoVF0mtQpNZlIO4tn4CL7JHw02NemS+1yT2Kpt2KsSwIvC3MIalduFeItXlaBPwK1HqMnHqEVIECclYuWq9kR+Tf6vFn3dmeS5emh1uTxd0nJS7LPcs7b1mUiLJR6nDRdwjTMTX9hDdxO9vxpx6qrxZKs8Ni5ONCuqzdedS0oZm1a7UlkvaOVabpJ6NLd9MqdR2hPM87dmr8ulW3rLfPJh3dWPmLU3dNJpV8yFvyNBrk1KpVolJgzUxERHqkOXZCybDRrWpmr3ZuVXJt4yZYL3/fM9eF14WYjzUnUava6wYsKpy0FIKTcCKmbVdDb7FrkRW8SJx5bcs15Oin+h4g+WU//wDqMO/hU4nf7tp/93DJbHyrQp4PEurOUqk3GV5Npq02vRbtoyrSlfhbFFySpVMzbk2npdrWe9q3i9gAfbHWAAAAAAAAAAAAAAAAAAAAAAAAAAAAAAAAAAAAAAAAAAAAABzLobrWzV28sjMJ/DcdM59wN1qDUm8snGT9xQyFTTB8xUmjGueE2HC/+XMv3y6yktGBc8I8OF/8vuT98u0hT3CMuxn6Kj8Ee5AAEzaAAAUbiJ8KXDXyer32IZbtre5+R8UhUWInwpcNfJ6vfYhlu2t7n5HxSEIa5c/0RzcB63EfH/SB1QATOkAAAAAAAAAAAAAAAAAAAAAAAAAAAAAAAAAAAAAAAAAAAAAAAAAAAVnc3/SU39nO07gz3l1/6Hvn2f2VqZJ+c3P2GeefF3MiDzGGOOE3PrVJvD3R7jTrn7oszEpM46Krvja6szz8OZoQHIr7DU8TLNUqTem9r6FzaDNPCxqO8pPpKfa3S4Y1GMbg+1rUyRESpoiIcOs2HpA3HOtqVw2ZgHVJtiI1sxO06djxGonEiOe1VQvwEamwsKsctSrNrllf6HjwqkrOT6SnoULS1gw2wYMPB6HDYiNa1qVNEaicSIicSEfmcOcd52qLW5yw9H+PUXP3RZyLS5x0dX/G11brZ+HM0CBPYWnVSU6s3bhlf6B4SMtcn0lNTUnpXT0rFkZ6VwbmJaOxYcWDFZUnsexUyVrmrsVFTuKeOhW1pL2vKOkLZoGB9IlXvWK6DIStQl4bnqiIrlaxERVyREz8CF4g9ew0HJTdapdb+bT3DaqvfM785SNaoGk5ckmlOuKiYI1SVR7YqQJ2WqEeGj04nar0VM0zXJfCe5E0uGojWphAiJsRE3z2FwA9WxEVJyVapd/+X4Pdqq98z6SoFTS5VMlTCBUX/eZwJHD/AB+pkxMzdNsnAKUjzsN8KZiwKbOw3xmO9s16taiuRe6i8ZfwIz2FhUac6s3bVeX4PHhVLXJ9JRUe0dI6ZocO2Jm2MCotGhI1IdOfJT7pZmqubcoSt1EyXamzYp75mQ0rJ2Si0ycksGY8nGhrBiS8WHUnQ3w1TJWOauxWqmzJdmRcwC2FgtVWeq263uDVqG1Uv9n0lL0+l6U9IkIVKpVOwXkpKXZucKWl4NRhwobfitY1ERE8CIcul2FpAUOpOrFFszAOnz789aaladOwoy58eb2tR235y/AePYSm7Xqz0avS1c2jQNqRdvSejlKOrts6S10yrJG5rfwOq8vDfujIM/KVCYY13FrI16KiL4T8lrW0k5KoQatJ27gbAnpaWSSgzMKTn2xYcunFBa9EzaxPiouXgLyAewlNyzurO/Dm06NW8NqRbvmfSUXXrT0kLqhw4N0WzgXWIcFVWG2fkp+YRirxqiPRcv1HrplL0pqLJQ6bR6dgtISkFMocvLQajChsTwNaiIhdIPVsLBTdRVZ5nv5tPTYbUSebM785SNJoGk7QWzDaHRcEqck3GdMzCSktUIKRorvbRH6qJrOXuuXap1LRoGO8neTa7c1FwlgQJ5UZVZykS042ox4TW5NRIj0ydkqNyR6qiIhbQJ09iIU3FqrP0XdLNo7j2OGUWvSejlAAOsaQAAAAAAAAAAAAAAAAAAAAAAAAAAAAAAAAAAAAAAAAAAAAAeOsN1qRPN5ZaKn7qnsPPUG60hMt5YL0/dUHktTKX0XVzwhw4X/UcVP4heBRmiyueD+G/wDuaOn8QvMhT3C5jFsX+ho/BHuQABM3AAAFG4ifClw18nq99iGW7a3ufkfFIVFiJ8KXDXyer32IZbtre5+R8UhCGuXP9Ec3AetxHx/0gdUAEzpAAAAAAAAAAAAAAAAAAAAAAAAAAAAA8EGtSMeuzluw3P7MkZSWnYyK32KQo74zIeS91c5eJmncyTlIuSi0m9erv+h42ke8AEj0AAAAAAAAAAAAAAAAAAAAAAAAAAAAAAAAAAAAAAAAAAAAAAAAAAAAAAAAAAAAAAAAAAAAAAAAAAAAAAAAAAAAAAAAAAAAAAAAAAAHzmW60vFbyscn7D6H4qZoqL3UyAKL0Vlzwcw3X/VMyn8RS9Sh9FNf/g1hv/uybT+KpfBCnuFzGDYr9BQ+CPcgACZvAAAKNxE+FLhr5PV77EMt21vc/I+KQqLET4UuGvk9XvsQy3bW9z8j4pCENcuf6I5uA9biPj/pA6oAJnSAAAAAAAAAAAAAAAAAAAAAAAAAAABD6X77ty+TdD+9VQmBD6X77ty+TdD+9VQyYj1lH4n/AAkVz3Uef6MmAANZYAAAAAAAAAAAAAAAAAAAAAAAAAAAAAAAAAAAAAAAAAAAAAAAAAAAAAAAAAAAAAAAAAAAAAAAAAAAAAAAAAAAAAAAAAAAAAAAAAAAAAAUPoqbMHMOk5JGdb/GcXwUPor7MIMP05JeoJ/HeXwQp7hcxg2K/QUfgj3IAAmbwAACjcRPhS4a+T1e+xDLdtb3PyPikKixE+FLhr5PV77EMt21vc/I+KQhDXLn+iObgPW4j4/6QOqACZ0gAAAAAAAAAAAAAAAAAAAAAAAAAAAQ+l++7cvk3Q/vVUJgQ+l++7cvk3Q/vVUMmI9ZR+J/wkVz3Uef6MmAANZYAAAAAAAAAAAAAAAAAAAAAAAAAAAAAAAAAAAAAAAAAAAAAAAAAAAAAAAAAAAAAAAAAAAAAAAAAAAAAAAAAAAAAAAAAAAAAAAAAAAAAAURos7MJLDTkZUm/wAxEL3KH0XNmE9jpyPqqfzMUvghT3C5jBsV+go/BHuQABM3gAAFG4ifClw18nq99iGW7a3ufkfFIVFiJ8KXDXyer32IZbtre5+R8UhCGuXP9Ec3AetxHx/0gdUAEzpAAAAAAAAAAAAAAAAAAAAAAAAAAAAh9L9925fJuh/eqoTAh9L9925fJuh/eqoZMR6yj8T/AISK57qPP9GTAAGssAAAAAAAAAAAAAAAAAAAAAAAAAAAAAAAAAAAAAAAAAAAAAAAAAAAAAAAAAAAAAAAAAAAAAAAAAAAAAAAAAAAAAAAAAAAAAAAAAAAAAAKI0XtmFdlpyTFXb/NRi9yiNGHZhfaCck7Wk/m45e5CnuFzGDYr9DR+CPcgACZvAAAKNxE+FLhr5PV77EMt21vc/I+KQqLET4UuGvk9XvsQy3bW9z8j4pCENcuf6I5uA9biPj/AKQOqACZ0gAAAAAAAAAAAAAAAAAAAAAAAAAAAQ+l++7cvk3Q/vVUJgQ+l++7cvk3Q/vVUMmI9ZR+J/wkVz3Uef6MmAANZYAAAAAAAAAAAAAAAAAAAAAAAAAAAAAAAAAAAAAAAAAAAAAAAAAAAAAAAAAAAAAAAAAAAAAAAAAAAAAAAAAAAAAAAAAAAAAAAAAAAAAAURox7MMrUTkqdcb/ADkwXuURozbMNrYTkrFfb9E7Ml7kKe4XMYNiv0NH4Y9yAAJm8AAAo3ET4UuGvk9XvsQy3bW9z8j4pCosRPhS4a+T1e+xDLdtb3PyPikIQ1y5/ojm4D1uI+P+kDqgAmdIAAAAAAAAAAAAAAAAAAAAAAAAAAAEPpfvu3L5N0P71VCYEPpfvu3L5N0P71VDJiPWUfif8JFc91Hn+jJgADWWAAAAAAAAAAAAAAAAAAAAAAAAAAAAAAAAAAAAAAAAAAAAAAAAAAAAAAAAAAAAAAAAAAAAAAAAAAAAAAAAAAAAAAAAAAAAAAAAAAAAAAFEaNOzDq3W/Fr1wt/nZkvcojRs2WDRW/FuO4W/zswXuQp7hGDYr9DR+GPcAATN4AABRuInwpcNfJ6vfYhlu2t7n5HxSFRYifClw18nq99iGW7a3ufkfFIQhrlz/RHNwHrcR8f9IHVABM6QAAAAAAAAAAAAAAAAAAAAAAAAAAAIfS/fduXybof3qqEwIfS/fduXybof3qqGTEeso/E/4SK57qPP9GTA8Vbq0tQaNP12dbFdL06VizcZsJms9WQ2K5yNb3VyRck5T2nzjwIMzAiS0xDbEhRWKx7HcTmqmSov6jVK9nbWSldp5dZ+S0zAnJaFOSsVIkGOxsSG9vE5rkzRU+dFPqQvBuPGdhvR6bMxFfMURsWhR3O9s6JJRXyrnL4VWDreHPPuk0IUanlacanCk+krw9Xy1KNThSfSgACwuAAAAAAAAAAAAAAAAAAAAAAAAAAAAAAAAAAAAAAAAAAAAAAAAAAABzbkr9PtW3apdFXc9sjR5KPPzSw26zkhQmK96ondXVauw6RB8c/eUv8ATltiqJ/KxCrETdKlKcdaTfYUYqo6NCdSOtJvoROAAWl4AAAAAAAAAAAAAAAAAAAAAAAAAAAAAAAAAAAAAABQ+jfssinN+LdNwN/nI5fBQ2jnss6Wb8W8Lgb/ADcYvkhT3KMGxX6Gl8K7gACZvAAAKNxE+FLhr5PV77EMt21vc/I+KQqLET4UuGvk9XvsQy3bW9z8j4pCENcuf6I5uA9biPj/AKQOqACZ0gAAAAAAAAAAAAAAAAAAAAADKWnN7rdHD/6tU77tMEhxwuyRu/Gy3cGalOJBte16RGxDvNdZNWLLSz8pOWiJ3YbozXRXJ3UgInEqoAaMBgqnYj403Fobz2nBAxLuOSuqFHnrqkrbc+GtEbSZeeiQmUyLLIxN0hOloessZHNja7kdr7MltrDa/pW2sdqFJ0pqw7Ox5tpLypMFHZw5SsQ4UJ8y1i57EjwIsOIqIiIr4b3cblANNkPpfvu3L5N0P71VCYEPpfvu3L5N0P71VDJiPWUfif8ACRXPdR5/oyYAA1lhCLL/AOqL4vW13bGRJqWr8q3khTcJYb0Tl/Lysw5fGJ4CbkIudUoWItq3JqokCqtmLdm3bdjojd3l3L4EfAiQ08MwnKTcz4f0VKnwN9uld9vkZML6KnS4sn0P0l0Xt8gADQawAAAAAAAAAAAAAAAAAAAAAAAAAAAAAAAAAAAAAAAAAAAAAAAAAAAQnG56swcvdzUaqrb8+iazUcm2A9NqLsUmxCMbUa7CO7Yb1VEiUqPDVUTNfZN1eL9Znxf6ep8L7jLjv0tX4ZdzJuADQagAAAAAAAAAAAAAAAAAAAAAAAAAAAAAAAAAAAAAAChdHbZaur8S9rgb/NRS+ihNHrZbkw34t93A3+ZiF9kKe4Rz9iv0VL4UAATOgAAAUbiJ8KXDXyer32IZbtre5+R8UhUWInwpcNfJ6vfYhlu2t7n5HxSEIa5c/wBEc3AetxHx/wBIHVABM6QAAAAAAAAAAAAAAAAAAK40g8YImA+FtSxRW1Ji4JSjxpdZ6XgR9ydBlXxWsiTCqjHqrYbXa6oiZqjVyLHP4jQYMxCfAmITIsKI1WPY9qOa5qpkqKi8aKAYn0hsXsLMfcU9HW0cGcQKFedTlb+gXHOQaHOw51ZKQgSsbdIsxuaruOWu1Mn5Ln3D23ra9WuHSl0h7Pl4apUb0wXlpSiK7iiLqzcByNVeLKLEZmicqKpqW0cK8MLAm5uoWHhxa9tzVQVXTcekUeXk4kwvHnEdCY1X8XdzIVi9hvcE1iHY2NdgU5s5cVqzESmVCTSKyE6o0SbVqTEJHxHNZrw3Nhx2ay5KsNzU2uQAw9Z9hvnv8FTMYjQcZsRIUmyyanBWhMnZRKZukONGl3QdzWW3TcliNXNN0z2rtLelaFU5Gp6C9mNRW1ihURJmfRrs1ZLQKDDhRs0+LrvY3PwoXXN6HuHM7TZuzX3DczMP6hW3XBN2Q2Zg70x5p0bd3scqwuyOx3RvyjpfdtyVyr7HLYdaz8Mq7UcebixqvWmMkkp0g21rQkt1hxFgU5HJEmJpdRVRjo8XVRGZ5pDgszRFVUQC4CH0v33bl8m6H96qhMCH0v33bl8m6H96qhkxHrKPxP8AhIrnuo8/0ZMAAaywjuIFvzVzWlPU2muhsqUPc5ymviZ6rJ2BEbGl3Oy26qRYbM+VM07p7bVuKUuy26dcklDfChVCXZG3KJ7eC5U9lDenccx2bXJ3FaqHVIPGjRcOaxPz0xCmo9rVaK+ce6DCdGdS5t22Lmxub1gxnez9ii6sVXquyImpnqf4qnlXqas/o+bXfn4EZKv+Gr5Z7lqz5LanzaWnzpvQmTgEJW6LkvRiNw7hwpGRzVIlbq8hFdDfll7GXlldDiReNfyjlbDTJNXddqJ+trN2WXGa++ahT6pRIz2w0q0rKOlYkk5zkazsmHrva6GqqiLGZqoxVTWYjdaI1tmOtJ5eHe+9uW1uU923DdJPLxt7vvbltbl1k1ABoNQAAAAAAAAAAAAAAAAAAAAAAAAAAAAAAAAAAAAAAAAAAAAAAAAIRjU1X4Y1yCmWcaHCg7Vy9vGY3/3JuQnGNj4tivl2NVyzFWo8DJEz2PqUs1f2OM+L/T1PhfcZcf8Apavwy7mTYAGg1AAAAAAAAAAAAAAAAAAAAAAAAAAAAAAAAAAAAAAAFCaPmygzyfFv+vJ/MP6y+yg9H/ZRaonxcQq4n8ZS/CFPco5+xX6KnzAAEzoAAAFG4ifClw18nq99iGW7a3ufkfFIVFiJ8KXDXyer32IZbtre5+R8UhCGuXP9Ec3AetxHx/0gdUAEzpAAAAAAAAAAAAAAAAAAAAAAAAAAAAh9L9925fJuh/eqoTAh9L9925fJuh/eqoZMR6yj8T/hIrnuo8/0ZMAAaywAAAHzjwIE1AiSs1BhxoMZiw4kOI1HNe1UyVqouxUVNmR9ABrIZh3MzNKfUcOqlMRI0zbW5JJxor1dEmaZFR3YsRzl2uc3c4kFzlzVzoDnr7YmZCL7VLeuK2r7htRsODNJQ6k7lk5x7GMcvcXUmmyy5r7VjovEjnZzcz4f0b0n/rq5t77fIy4V5L0H/rq5nq6NXLZgAGg1AAAAAAAAAAAAAAAAAAAAAAAAAAAAAAAAAAAAAAAAAAAAAAhGLSLGo1DkURV7JumhqqJyQp+DG/8A4ibkIxFTsivYf05NqTFz7o9M/wCrBp85Gz/4obE/Whnxemi48Nl0u31MmO00JR4bLpaX1JuADQawAAAAAAAAAAAAAAAAAAAAAAAAAAAAAAAAAAAAAACgsAdlJrSfFxFrSfxE6y/SgMA9lNuFPi4kVhP3m9Zf5CnuUc/Yr9HT5gACZ0AAACjcRPhS4a+T1e+xDLdtb3PyPikKixE+FLhr5PV77EMt21vc/I+KQhDXLn+iObgPW4j4/wCkDqgAmdIAAAAAAAAAAAAAAAAAAAAAAAAAAAEPpfvu3L5N0P71VCYEPpfvu3L5N0P71VDJiPWUfif8JFc91Hn+jJgADWWAAAAAAHNuShSlz2/Ubdn80gVKViSz3IiK5mu1U1m5/wBZFXNF7ioinNw8uCduS0pOdq6MbVZZYkhVGMTJGzsu90KPkncasRjnN5WuaqbFQkhCZtVsi93VaI/c6BdCw4M05c9SUqiK2HBfyNbHYqQ1VckSJCgomaxVUz1f8c1V3tT+j+T72zLW/wAVSNbe1P6P5PR8294mwANBqAPJVatS6FTo9XrVRlpCRlW68aYmYrYcOG3PLNznbE2qifrIpwh1qfyjW1hhc1SknIr2TkVZWRZFamftIcxGZGzXLZrQ2tXNF1kRcyqdaFN2b08CTb6FpKamIp0nlk9PAk2+hXduUmwOLbd10+5EjwYcrOU+flEY6ap0/C3KZgNerkY9W5qjmOVj0bEYrmOVj0Ryq1yJ2icJxms0XoJwnGpHNB3QABImAAAAAAAAAAAAAAAAAAAAAAAAAAAAAAADz1CflKVITNUqEdsGVk4L5iPEdxMhsarnOX5kRVPG0ldnjaSuzmXJe1pWgsu25bgkqe+bR6wIcaIiRIrWZK9zWJ7JWtRUVzssmoqKqoh0abU6bWZCDVKPUJaekpluvBmZaK2LCiN5Wvaqo5PCikbw4ps4+k9uFfk1g1+5GsnJxsRPyktBXNYEn/opBY5Gq1vsViLFf7aI5V89wwXWDNxb1pEFyUiLER1fkoaexbD2Is9DanE+Gm2Iie3ho5dr2NR2ZVqij5WS9F72+lwv6qyty2041XqqPl5pZHptpulwvh5VZW4XbTNiEXD/AE7Fqz5BFzSRptWqj0+K5Ox5dn0pMRMvmUmsKLDjQ2RoMRsSHEajmPauaOReJUXuoQuhJvtipc9YRGrBo8jI0SE5FzyjLrzMdF5PYxpXZx7O7mmUsR6WWHC12el9CWK9JQgt+S7PS/qTYAGg1gAAAAAAAAAAAAAAAAAAAAAAAAAAAAAAAAAAAAAAGf8AAbZJXOnxcS6sn931mgDP+BC5S92t+LibU0/dg9ZoAhT3KOfsV+jh8+9gAEzoAAAFG4ifClw18nq99iGW7a3ufkfFIVFiJ8KXDXyer32IZbtre5+R8UhCGuXP9Ec3AetxHx/0gdUAEzpAAAAAAAAAAAAAAAAAAAAAAAAAAAAh9L9925fJuh/eqoTAh9L9925fJuh/eqoZMR6yj8T/AISK57qPP9GTAAGssAAAAAAB56jT5GrSEzSqpJwZuTnIT4ExAjMR8OLDcio5jmrsVFRVRUU9APGk1ZnjSasyErCxEtB/Y9Llod30dFzhNmp5IFTlm/5tHubucyicSOiPhvyRNd0R2b1/O2jEyqJuFKwx3piO/wAorlVl0hsTlRkq6M56/wCjmxF+MhNwUeQa0Rm0uDR9U32mXaslojUklwaO9pvt5iK0qxmrUmXFd9SdX6vDdry7osJGSkguf+TQM1SGv/eOV8Vc1TX1cmpKgC2FONNWii+nShSVoL7vnetkXv2j1KZkIVx21Aa64aHrTEiiZNdMwlVqx5NzviRmsRuS7Ee2FEyzhtVO1Q6zT7io0jXqVFWJJ1CXZMwHK1WqrHtRUzRdqLt2ou1FzRT3EIw4atGn7nsh2SMpFVfOSSZ/5HO5zDNncRsZ0zDRO42EmRU/8dZPel3rV2XvzIpl/ixCa1T0fNK66Ve/MibgA0GoAAAAAAAAAAAAAAAAAAAAAAAAAAAAAAEIxeas/asC1m5KtzVOTo72quWtLxIqOmU8P9GZH2E3ITdsOJUMRrEpqMcrJOJUq09ctiblLdjJn+ue/wD9kZ8VppOPDZdLS+plxumg4ca0flJpPvJsADQaiDS8tdthsfRbctyJcNHcqrTWpPQoD6dm79Hibpl/R2Z+wczXe1vsNzVGtV3ds+3HWxR+w5mbbOT01Hizs/NJD3NJiZiuVz3I3NdVuao1rc1ya1qZrlmdwFMKEYSunq1Lg5vze28Z6eGjTlmTejQlvLm/N7alYAAuNAAAAAAAAAAAAAAAAAAAAAAAAAAAAAAAAAAAAAAABn7ArZDvNPi4oVFP4cDrNAmfMDNnbynxcU59P4Mt1mgyFPco5+xX6SHz72AATOgAAAUbiJ8KXDXyer32IZbtre5+R8UhUWInwpcNfJ6vfYhlu2t7n5HxSEIa5c/0RzcB63EfH/SB1QATOkAAAAAAAAAAAAAAAAAAAAAAAAAAACH0v33bl8m6H96qhMCH0v33bl8m6H96qhkxHrKPxP8AhIrnuo8/0ZMAAaywAAAAAAAAAAAAAAAEHmP+qsaJONxQ7jtyNLvXuLFkZhr4bfnVs9HVPAxxOCD4g/0S58P6umxIVwRJSKv/AHceQmmInndx+gz4nRFS4Gu9J9jZkxmiEZ8Eo96T7GycAA0GsAAAAAAAAAAAAAAAAAAAAAAAAAAAAAAEHg/0/GybdxpRLXl2ovIs7NxVVPokW5/q8BOCEWGq1C779ryqqsWrQKVAXlhS0pCV30R40wn6jPX0ypx5e5N99jJifSnShwy7k332JuADQawAAAAAAAAAAAAAAAAAAAAAAAAAAAAAAAAAAAAAAAAAAAADPmB65Rb/AG8mKs7+2XlTQZnvBPZO4ht5MUppfpl5Y0IQp7k52xX6SPz/AJMAAmdEAAAo3ET4UuGvk9XvsQy3bW9z8j4pCosRPhS4a+T1e+xDLdtb3PyPikIQ1y5/ojm4D1uI+P8ApA6oAJnSAAAAAAAAAAAAAAAAAAAAAAAAAAABD6X77ty+TdD+9VQmBD6X77ty+TdD+9VQyYj1lH4n/CRXPdR5/oyYAA1lgAAAAAAAAAAAAAAAITi8rIFpy1Ve1y711yjzmbXZZNbUICRF4l/xavJsQ3GWVjTmE14QpVutMMok5HgJyxocJz4f7zWmfF+onbgfcZccm8NUtxX3EyB8ZSahTspBnIC5wpiG2KxeVrkzT9in2NCd9KNKd1dAAA9AAAAAAAAAAAAAAAAAAI7d1xzlKWSodBgwZivVlz4chDjIqwoTWIixZmMjVRVhQ0c3NEVFc50NiK1Xo5OYzDyqyqwqnJYiXE6tQ8nPmJuYWNKR1zzVr5JFbBaxeLKEkNyIiZPRc1X+bCVLlrNcxCjNR0OamH0mkOX+rISz1a56dz8rMJGfrJ7ZiQM89VpNzJCCxP8Aknq3ubh53rvwfMw06ccWvKz1Pc6Xq4ed677ysuG/Dtq5d++yadUZLe2uU3UbUKe6Jum562epFhPyTdZeJqvWHFRqZ6r2uayJDiQ2dw4ly246tNl56mz602tU5XPp8+2HuiQ1dlrwosPNu7QImq1IkJVTPVa5rmRGQ4jP6t24t+eyZGekX06r05zWT0i92vqa2epFhPyTdYERGuVkRETPJzXIyIyJDZbCUovydT5Ph/PfrW+ldTnKEvJ1Ne8+H88O89a30uyAeCu1+g2tSJm4LmrchSKXJNR8zOz8yyXl4Lc0TN8R6o1qZqiZqvGqFxoPXHjQpaDEmI8RsOFCar3vcuSNaiZqq/qIfg7AjJh5TKrNwnQ5mvOj12O1yZOa+djPmdRfC1IqMy7iNRO4ce772tTEawt68PrxpFdg3bOpbsKcpE/DmoaNemc3qxIKuRHw5VI7+PNFa3izRSyYUKFAhMgQIbYcOG1GMY1Mka1EyRETuIZ16de6/wBV2v7JLpMi/wAmJutUVb5yafYkuk/sAGg1gHxmZyUk2bpNzUGA340R6NT9pyn3rabXLDh1+TjvTjZLREjOT9TM1KKuJo0XapNLnaRdTw9asr04N8ybO2Dh9tsrF/QqRWprk1adFhIvzLFRiftG/Vwxv0Wz5iHyLOTkGGn8N0Rf2Fe3qD3DcvhTkulJlm0qy3SS52o97R3AcPWvaP8A4miSX/3Iszl+7DG9N0R/0q7WwuXsKnsh/RuqxBtqT0wpSa+S7JNPsG1ord1Ip/N/xTXadw/FVETNTidqqRf064a5Ncv9NWBn5hGBLJtZy5zNHhTa8s450z/eK4eVxUtMaaXPKz7Itdo8nh1olN/KOjtafYeqcuW3KeuU/X6dLqmzKLNMav0Kp5e3OgP/AEWLNznJ2JIx46L+tjFT9p0pOl0ynplT6dKyyJsygwWs/wCSHqGXFy05or/i325l3DNhVoyyfzS7Mr7zmU+txKhMJBbQ6nAhKiru8xCZDYngyV2vt/2TpgF9KMoRtOV30FFSUZO8I2QABYQAAAAAAAAAAAAAAAAAAAAAAAAM9YL+xquJLOTE6Ov0y8uaFM84OexruJreTEuIv0wIBoYhT3Jztiv0keeX8mAATOiAAAUbiJ8KXDXyer32IZbtre5+R8UhUWInwpcNfJ6vfYhlu2t7n5HxSEIa5c/0RzcB63EfH/SB1QATOkAAAAAAAAAAAAAAAAAAAAAAAAAAACH0v33bl8m6H96qhMCH0v33bl8m6H96qhkxHrKPxP8AhIrnuo8/0ZMAAaywAAAAAAAAAAAAAAAHwnpOBUZKYp803WgzMJ8GInK1yKip9Cn3B41fQzxpNWZDsHZyPO4V2o+bdrTUGky8rMryx4LEhRf32OJiQjCxewpe5rZdsWiXJPw2pyQ5lzZ6GnzIybaifMTcowj/AMEU9aVnzrQ+0zYJt4eCetJJ860PtQABoNQAAAAAAAAAAPjMzkpJs3SbmoMBvxoj0an7TyUlFXb0HqTk7I+wOI+9bTa5YcOvycd6cbJaIkZyfqZmp+dtsrF/QqRWprk1adFhIvzLFRiftMu38LqVRN8jTfQtJp2lidbg1zqy6Wdwi2Jtan6FZFSj0eJqVWcbDptMXknZl7YEB3zNiRGuXwNVdmWZ7d+rhjfotnzEPkWcnIMNP4boi/sIfckS6q/flr25Fg0uUfIJM3C5GRYkzDTcmJLw2xfYw1XN00r2omXsoKrn7HJaMRjYum404yu9C9GS16NbSWjXrM+LwtSNJrPGN9F8ydr6L6G3ovfUT6h0iTt+iyFBp7XJK02VhSkFHLmupDYjW5r3VyRD3HD3puiP+lXa2Fy9hU9kP6N1WIO1VIv6dcNcmeX+mrAz8wjC1Vq1ssKLXO4pdjk+wvjh6FNJeUVlwJ/VJdp21VETNSKXctszTpefW6qfRq3TkiJT590eHrQtdER8N7Fcm6wX6rNeEq5KrGORWxIcOIzoJZNrOXOZo8KbXlnHOmf7xXHSk6XTKemUhTpWWTkgwWs/5IJxxVVZZRivm5fSPeeTp4OUcsnKS5lHtvL5aNBCqPiq3VmINzUGdlnSbEc+fp8F85ITCZbXQ3MRYjPmiMblnsV3GYG/wh9/U/FC/bXoMDEqmSdqU2mvnJemx93e6NU91iMjRlhwWPa5zIKwWMWJkrEixcskiO1v9OCKYlYWYe4w2y+z8S7Vkq9SXRWzDYMwjmugxmorUiwojFR8KIjXPbrsc12q9yZ5OVFyYnAYzE0XRlXST31Gz6bvu1GDGUIV8O6FNXvxm3/DJ8+Q/wAytAaFvPpKU+Xw/r0zVZqepU8lWl1pepJdiMZm2PFirE14atjOhMZESErs4yw82tiuU/1E7FvOP+crFJlW/FhSMSI79TnRUT90j+E+BeE2B1OnaZhZZUnQodSiNiTkVkSJHmJlW62okSPGc+K9rdd+q1XK1uu7VRNZc54e4HYp4WgqVWpKXzy/xs+0lsbDzfh1RjGKa5G/5uRw+1+qxv0y8aq5O6yDDgQm/SkNXfvDtOpETbNxqnNr3UmKlMPav9jX1f2HcBs2hh3u45vibl/Js37drrcyy/DaPdY5MtaVrSj90lrdprIn+c7FYr1+dypmp1GMZDajIbEa1NiIiZIh/QLqVClRVqcUuZWKalapWd6km+d3AALSsAAAAAAAAAAAAAAAAAAAAAAAAAAAAAAAAAAAAAAAzxhDsuXFJvJiOq/TAgmhzPGE2y7cV28mIjV+mBDNDkKe5OdsV+lXPL+TAAJnRAAAKNxE+FLhr5PV77EMt21vc/I+KQqLET4UuGvk9XvsQy3bW9z8j4pCENcuf6I5uA9biPj/AKQOqACZ0gAAAAAAAAAAAAAAAAAAAAAAAAAAAQ+l++7cvk3Q/vVUJgQ+l++7cvk3Q/vVUMmI9ZR+J/wkVz3Uef6MmAANZYAAAAAAAAAAAAAfGZnJSTZuk3NQYDfjRHo1P2nKfetptcrIdfk4702KyWiJGcn6mZqUVcTRou1SaXO0i6nh61ZXpwb5k2dsHD7bZWL+hUitTXJq06LCRfmWKjE/aN+rhjfotnzEPkWcnIMNP4boi/sK9vUHuG5fCnJdKTLNpVluklztR72jiyaOouLtQldXKWuejQp6Hs2dlScTcoyqvK6FHlck5ITvDlNivr3pt8zsCRueSpdObUbamHVCVgSsd8xFmGrCfDiwE1mw0drw3uyaqoivbDXNuSOT3NrCzFuJd85iVIytFWFuzp2BKQ5eExueS6yx3P1VR3sVR21HbFTPYZqeLdOUoqnJrS1qWh6XunF6772jQZKWHhh5Tp1asY6XJaW9D0vSk1olff0KxMyN1+84dNnHUShUmZr1aa1r4kjKPY1JeG7PViR4r1RkFq6q6qKus7JdVrsnZRFsndl9ruNCqdx0qjREVH1ufj9jTcVqpxykoxjcvBEjo1EVEVIUVq5kukcObLkITobaDLzCxHrFivm85h0WIvtnvWIq6zlXjU9WIxeIX+GmkuFy0/K0WvnpXOSXkK6tTqNLjKOh/Dma6WrcFzz0jEehTW7ytfiQqBUpTV3eTnpmFsRyZtdDiNcrIqLtTNqrkqKioinQ7c6A/wDRYs3OcnYkjHjov62MVP2nHvS2mU6nQbptGiM34txXzktLScNsN07By/LymSJku6sTJqLsSI2E5fakppNVp9cpcnW6RNsmpGoS8OalY8P2sWFEajmPTwK1UX9ZKntxydOc4p/C3dc+ZaeHRwPfsSpVcPGTozUm1pTuldc2V6Vv2fA9F7HO7ZJ2L+hWlWY3I57YMFP17pEa79ijs68I/wCYt6ny6cszUXayf2WQ3Iv/ABHcBdteq91Vl8lHwt9pf5emtVJfNy+6XYcPsW84/wCcrFJlW/FhSMSI7/idFRP3R2v1WN+mXjVXJ3WQYcCE36Uhq7947h/L3thtV73I1rUzVVXJETlPNpU3unJ/8pd17dg25UWpRX/GPfa5xe06kRNs3GqU2vdSYqUw9q/2NfV/YfaWtK1pR+6S1u01kT/OdisV6/O5UzUj7r7rNxu3PDa3odVlVXLfqdmex6au3asJzUdEmPArGbmvFuiH4kLGqVXsqJPWVUmoiu7CZJzUm7Z/VSYWLFTbxZ7kmXIpTGlg081OknyqK79/5XMj2XrTVoynKPJe3y06f+NyasYyG1GQ2I1qbEREyRD+jiW1dMtcTZiXiSUzTapIK1s9TptESNLq7PVdm1Va+G7J2rEYqtdquTPWa5re2dCEozinHUeQqRqxzxd0wQmzXrWr3vK5nI1YUvMS9vyjtVNsOWhrEiuReP8APzMZi+GEhJLlr0la1vVO5akq9i0uUizkbV9srYbFcqJyquWSJ3VVDmYcUKct2y6bIVRjW1KM189UdVc29mzER0eYyz7m6xH5eDIpn6daMeC7+i6bvoM9T/JiIQ4t5PuXTd9BJQAaDUAAAAAAAAAAAAAAAAAAAAAAAAAAAAAAAAAAAAAAAAAAAAAAAAAAAAAAAAAZ3wq2Xpi23kv+E76ZdhogzthdsvrF5vJfMs76YDTRJCnuTnbFfpVzz/nIAAmdEAAAo3ET4UuGvk9XvsQy3bW9z8j4pCosRPhS4a+T1e+xDLdtb3PyPikIQ1y5/ojm4D1uI+P+kDqgAmdIAAAAAAAAAAAAAAAAAAAAAAHxmZyUk2bpNzUGA340R6NT9p5KSirt6D1JydkfYHEfetptcrIdfk4702KyWiJGcn6mZqfnbbKxf0KkVqa5NWnRYSL8yxUYn7TK8fhdSqJvkab6FpNO0sTrcGudWXSzuEPpfvu3L5N0P71VDqb9XDG/RbPmIfIs5OQYafw3RF/YRWnOuuPijcKsh0mSmloFH3RHPiTMNIfZFR1FRcoaq7PdM02JkjclXNcsuIxkJVKWWMm8z/1kv9ZcKS7SueEkpRcpRSvxk957ybfYWMDh703RH/SrtbC5ewqeyH9G6rEHaqkX9OuGuTPL/TVgZ+YRhq8vWlojSa53FLscn2FnkKMdMqqfMpN9qS7TtqqImanOnLltynrlPV+nS68WUWaY1foVTy9pNrOXOZo8KbXlnHOmf7xXHSk6XTKemUhTpWWTkgwWs/5IL4uWi0Y/Ny7LR7xbCx03lL5KPbeXcc3tzoD/ANFizc5ydiSMeOi/rYxU/aO2Sdi/oVpVmNyOe2DBT9e6RGu/Yp3APJYmW7qW+GNv5OXcPK4eO5p355X7lE4fZ14R/wAxb1Pl05Zmou1k/sshuRf+Idi3nH/OVikyrfiwpGJEd/xOion7p3ANqZvWVJP52/iojbWXcQivlf8Ak2cPtfqsb9MvGquTusgw4EJv0pDV37w7TqRE2zcapTa91JipTD2r/Y19X9h3ANoYd7uOb4m5fybG3a63Msvw2j3WOTLWla0o/dJa3aayJ/nOxWK9fncqZqdRjGQ2oyGxGtTYiImSIf0C6lQpUVanFLmVimpWqVnepJvndwAC0rBH24fWKyvuuptn0dKw+JuqzvYUPdt02flNbLPXXJEV3tlRETPYhIARlCM7ZlexCdOFS2dJ21XAAJEwQizv+yl01bD2L7GTjbpXaFnxdjRIn9Kl08TMREd3EbDmoDE9qpNyJYj0qoRaXLXPQJR8zWrYmN85OBD9vNsRqtmJVOVYsF0RjUX2KRNyevtEM9dNJVY649q319VypGXEpxSrR1x7Vvro0pcKRLQeam1GSrFOlatTZhseUnYDJiXitRUSJDe1HNcme3aiop47iuei2tJsnazNrD3aIkGXgw2OiR5mKqKqQoMJqK+I9URV1Woq5Iq8SKpc5xjHO3o4S91IRjnb0cO8e2oVCQpMjMVSqTsCUk5SG6NHmI8RGQ4UNqZuc5y7ERETNVUiaUqdxCiNnLkk4ktbGSOlaPMQlZEn0VPzs7DciK1m32Ms5M09tFTWXcoX3kqHVrnqEKu3nLtl5WUjNj0yi66PbBe1c2R5lzVVsSMi5Oa1M4cNyIqK97WxElpTldfdL0eDh5+Tk6eAoyvE6Zq0ODh5+Tk6eA/GtaxqMY1GtamSIiZIiH6AaDURW+aRUNWUu+3ICxK1QldEbBb7aelF/Pyi8uuiI5ncSLDhKuzNF79Iq1Or1LlK1SJpkzJT0FkxLxmZ5PhuTNFyXamxeJdqd09ZDJm2LtoMzMvw+qdJgSc/HdMxpGpy8SJBloz1VYkSBuTmqiPcqvcxdiu1lRWq5ymeSlSm5xV09aXDw/R/LlMs1KjN1IK6etLXfh+j+XKfxeyrctxUXD6AiPgPiMrNZXLNGScCIiwYS8ixZhrERF9syDHTuE2OLbFsw7egzEaPOPn6pUYiR6hPxGo10xERqNTJqbGQ2tRGsYmxETarnK5zu0SpQkm5z1vsW8vrztkqEJJyqT1y7EtS+r5WwAC40AAAAAAAAAAAAAAAAAAAAAAAAAAAAAAAAAAAAAAAAAAAAAAAAAAAAAAAAAGdsMdmIGMLeS9JN30wENEmdcNtmI2MreS7qe76YBolOIhT3PT3nN2J/Tf8p/zkfoAJnSAAAKNxE+FLhr5PV77EMt21vc/I+KQqLET4UuGvk9XvsQy3bW9z8j4pCENcuf6I5uA9biPj/pA6oAJnSAAAAAAAAAAAAAAAAAAAAAOfUqFTau9j6hDjRNzTVRiTMRjF+djXI1fnVD4y1pWtKP3SWt2msif5zsVivX53KmanWBnlhMPKflJQTlw2V+kvWJrxjkU3bgu7H8sYyG1GQ2I1qbEREyRD+gDRqKAQ+l++7cvk3Q/vVUJgQ+l++7cvk3Q/vVUMmI9ZR+J/wkVz3Uef6MmAANZYAAAAAAAAAAAAAAAAAAAAAAAAAAAQ2Yw9nZeajxLUvut27JzUR8aLIycGUjQGxH7XxISR4MRYSqqq5URdRXKrtXNXZ9G3rGodvTb6q1Zqo1aMxIcWp1GOsxNOZ8VHLshs7upDRrM9uWe0kIKY4enGWZL8cy1L5GeOFpQlmS5tbS5k9C+VgAC40AAAAAAAAAAAAAAAAAAAAAAAAAAAAAAAAAAAAAAAAAAAAAAAAAAAAAAAAAAAAAAAAAAAAAGdMOdmJuNDeS6aY76YBopOIzrh7sxTxrbyXHSHfTAU0UnEQp7np7zm7E/pv+U/5yP0AEzpAAAFG4ifClw18nq99iGW7a3ufkfFIVFiJ8KXDXyer32IZbtre5+R8UhCGuXP9Ec3AetxHx/0gdUAEzpAAAAAAAAAAAAAAAAAAAAAAAAH8RojoUGJFZBfGcxquSGxURz1RPaprKiZrxbVRPChEu3i5vkcu/pVI/HEwBTVpyqWyzcea31TIyi5anbo+xD+3i5vkcu/pVI/HEWp143E3FG4ZlMKbpdEiUCjw3S6TNL3SG1sxUVR7lWc1NV2sqJk5VzY7NGpqq62SH0v33bl8m6H96qhgxGHqeUpf5Zbp70eLL/xKZwlmj6T18nA+QdvFzfI5d/SqR+OHbxc3yOXf0qkfjiYA1bXqfvS6IeEsyS4z7PsQ/t4ub5HLv6VSPxw7eLm+Ry7+lUj8cTADa9T96XRDwjJLjPs+xD+3i5vkcu/pVI/HDt4ub5HLv6VSPxxMANr1P3pdEPCMkuM+z7EP7eLm+Ry7+lUj8cO3i5vkcu/pVI/HEwA2vU/el0Q8IyS4z7PsQ/t4ub5HLv6VSPxw7eLm+Ry7+lUj8cTADa9T96XRDwjJLjPs+xD+3i5vkcu/pVI/HDt4ub5HLv6VSPxxMANr1P3pdEPCMkuM+z7EP7eLm+Ry7+lUj8cO3i5vkcu/pVI/HEwA2vU/el0Q8IyS4z7PsQ/t4ub5HLv6VSPxw7eLm+Ry7+lUj8cTADa9T96XRDwjJLjPs+xD+3i5vkcu/pVI/HDt4ub5HLv6VSPxxMANr1P3pdEPCMkuM+z7EP7eLm+Ry7+lUj8cO3i5vkcu/pVI/HEwA2vU/el0Q8IyS4z7PsQ/t4ub5HLv6VSPxw7eLm+Ry7+lUj8cTADa9T96XRDwjJLjPs+xD+3i5vkcu/pVI/HDt4ub5HLv6VSPxxMANr1P3pdEPCMkuM+z7EP7eLm+Ry7+lUj8cO3i5vkcu/pVI/HEwA2vU/el0Q8IyS4z7PsQ/t4ub5HLv6VSPxw7eLm+Ry7+lUj8cTADa9T96XRDwjJLjPs+xD+3i5vkcu/pVI/HDt4ub5HLv6VSPxxMANr1P3pdEPCMkuM+z7EP7eLm+Ry7+lUj8cO3i5vkcu/pVI/HEwA2vU/el0Q8IyS4z7PsQ/t4ub5HLv6VSPxw7eLm+Ry7+lUj8cTADa9T96XRDwjJLjPs+xD+3i5vkcu/pVI/HDt4ub5HLv6VSPxxMANr1P3pdEPCMkuM+z7EP7eLm+Ry7+lUj8cO3i5vkcu/pVI/HEwA2vU/el0Q8IyS4z7PsQ/t4ub5HLv6VSPxw7eLm+Ry7+lUj8cTADa9T96XRDwjJLjPs+xD+3i5vkcu/pVI/HDt4ub5HLv6VSPxxMANr1P3pdEPCMkuM+z7EP7eLm+Ry7+lUj8cO3i5vkcu/pVI/HEwA2vU/el0Q8IyS4z7PsQ/t4ub5HLv6VSPxw7eLm+Ry7+lUj8cTADa9T96XRDwjJLjPs+xD+3i5vkcu/pVI/HDt4ub5HLv6VSPxxMANr1P3pdEPCMkuM+z7Hmps1HnpGDNzVNmafFit1nysy6G6LCX4rlhPexV/2XKnhPSAakrKzdyxAAHoAAAAAAAAAAAAAAAAAAAAAAAAAAAM52AuWLWNzeSu0V30wHGi04jOdiZpjBji3krFCd9MB5oxOIrp7np7zm7E/pv+VT/wDSR+gAsOkAAAUbiJ8KXDXyer32IZbtre5+R8UhUWInwpcNfJ6vfYhlu2t7n5HxSEIa5c/0RzcB63EfH/SB1QATOkAAAAAAAAAAAAAAAAAAAAAAAAAAACH0v33bl8m6H96qhMDzQ6bIwqjHq8OWY2cmYEKWjRk9s+FCdEdDavgasWIqf7alNWk6k4SX+rv/AOrX1ISjdp8H2Z6QAXEwAAAAAAAAAAAAAAAAAAAAAAAAAAAAACu9IfFFmCuB18YqKkN0a3KLMzcqyJ7WJNaurLsXwOiuht/WZVvms3xgFo3YW6U0bEW7p26Y8zbs5fEOqVqZmafUZSo6iTkFZN71l4Go6Mm5Ogw2LD1ERNiuRbs0/wC0ale+hvipQqS1XTMOib5I1EzVzJONDmnoiJxqrIDkRPCZk0rsPLfr3+D4syp21Vruj1G+Ze0JWny89dlTm5VYs26Xe1vY0aYdCXJM8k1PY5JllkmQH+joPxrUa1GovEmR+gAAAAAAAAAAAAAAAAAAAAAAAAAAAAAAAAAAAAAAAAAAAAAAAAAAAAAAAofHzHi/MMsQLTsWxrQka/N3VLxmwYMd74b2zCPa1jtZFy1ERXK5FTiTjTIvgidTw2oVWxIo2Js6+M+pUKnzEhJwtm5M3ZU1onFnraqOam3LJykJptWiYsfSxFajkw0ssrrTwK6vr5LkVhUHSWbKpPxcQrJfPq3WWn7xRkk0d8RIu67rl3NZU8Or3DyYPaQEO/Lmq+GV6ULtbvmgOVJqnrF14UyxERd1gOXJXNyVFyVM8nIu1M8rhMTaYky/D3SSwvxJof5CoR2tgzDmbN1bDjo1Udy60OO5i+BEQhUbprMjmbJ1J7D044unJuKklJNt3Tdrq+pp6dGg0TjhjxQsG5GQk20+NXLmrkZJekUWVX8rMvVctZV/qsRVRM+NVXJEXbl5pOk6S1Yp8Op1C87Qt+cisSIlMgUeJNw4KqmepEjOior1TiVWIicnKZ6t6pOxI/whU9EqirElrXhzEKShOXNGbhARiKnzxHud+s28IN1G3vHuArT2WqVqspNQjJwik2tzrk2tLu9S1JbxnzDjHXFSp46xMEMSLPpFMmZGmTE7FnZJ0V0OdRrmblFgay+xhua52aLmuaZZoqKhoMitQw6olQxGpOJr4kaHVaTT5imsazLUiwYqtVdfZnm1W7Ml7qkqJwTV02dHA0a9CM4V5uXpOzevLote3Bp7zONkbMZ8dG/6yt938CIaNTiM5Wbsxtx0T/xtvL/AeaNTiQU9z833lexP6d/HU/8A0kfoAJnSAAAKNxE+FJhp5P177EMt21vc/I+KQqbHiE23MSMLsTI8RsKSkalNW/PRHLk2GyfhI2HEcvEjUiQ0RV/0y2LVcjrfksv6sPVX50VSEdcv/t452C9GviIvXmT+ThH6pr5HWABM6IAAAAAAAAAAAAAAAAAAAAAAAAAAAAAAAAAAAAAAAAAAAAAAAAAAAAAAAAAAAAAAB8pmWl52Wiyc5AhxoEdjoUWFEajmvY5MlaqLsVFRVRUKhtzRQwituoUKNBl61P0m05xKjbVv1Gqxpmk0SaTW1Y0tLPXVR7Nd+5q9X7lrLueoXGAAAAAAAAAAAAAAAAAAAAAAAAAAAAAAAAAAAAAAAAAAAAAAAAAAAAAAAAAAAYO0ocJbBpGkNhvR6RRGSEjdMy3fWBAiOayOqzCIq8exVRyouWRvEgOJ+B+HeLqyUxd9KjrUKZtkKjJzL5ealVzzzY9q8u3JyKme3Irqwzxsjj7ObGvZPC+Tgk5Jpq/I02r2drrQeSX0b8CpWEkGFhhQ9VO66ArlX51Vc1MjXnhxZGMWldSsO8LLVkZW2rXbD3/mJSHlAerHq+Nm5OPjZCTldrdzaadn9Hy4KpI7x1DH/EKLSFTUfLpNQGRns+K6O2Gj3Zpx5qpN8N8KbDwmo28djUGFIQnrrx4yqr48y/48WI72T1+dck7iIhCVPPZWsjDitifOLhSdGNOmmnLc3dv9VbUnvu/yMW4pYZ2TgjpW0SuXLa0kmHVzORjYcSFnKy73QkhxEXuJqv1YnHsR2fEhrZdHbAedl0VMM7fiwYrUVHMgIqOTjRUVFJbedj2niFQY9s3nQ5aq02Y9vBjIuxe45rkyc1ydxzVRUKzo2jhULTllpFlY3X1R6MmyHILMQZlsBvxYb4sNXMTkyCp5G7K6Z7R2IWArVMlGNSnN5ktF4t61p0OPBp0cBm+g4L4cRdOatYbRaG2JbMhJJPQaa6M9YSRHScGJqrtzVqOiOciZ8ncQ3pLS0CSloUnKwmwoMBjYUNjeJrWpkiJ8yIVzh3o+YeYcXBM3lIQajVbnnWqyZrdXnXzM3ERURFTNcmtzRETY1FyRE4iy+IlShkTvvmvYXY17HwqOUUnOcpaN5PUr2Wro4DOVpbMcsck/8Rbq/wABxoxvtU+YzthHC7YZrE/FOHtlbsuiDJU1/GkaWksoTYjV7qOcsRE/2DRLdjUTwEqe56e80bE/ps285Ta5nOTXSmfoAJnSAAAI9iBY1CxKs6qWTckJz5CqQFgvczJHw142vYq8TmqiKi8qFP4V4l1LCypQ8GscZttPqDHqyh16YdqSdagoqI3KI5cmxuLWYq55r4UNAnAvaxLVxDocW3ruo0tUZOJtRkZiO1HfGavGi+FCEou+aOsw4nCzlUWIw7tNK2nVJcD+j1rlTafeRUVEVFzRT9M8O0c67aSuhWPilflDkE/Ny8hUGzUCGncRIUdrnJ8yOyPxMN8SU/OaSl+sXkdRpfqGaXAQ21i46JYdt8ko27Wn2GiAZ34N8Ru+Yvv0NA6hwb4jd8xffoaB1DNLi9w25ifZ5daHiNEAzvwb4jd8xffoaB1Dg3xG75i+/Q0DqGaXF7htzE+zy60PEaIBnfg3xG75i+/Q0DqHBviN3zF9+hoHUM0uL3DbmJ9nl1oeI0QDO/BviN3zF9+hoHUODfEbvmL79DQOoZpcXuG3MT7PLrQ8RogGd+DfEbvmL79DQOocG+I3fMX36GgdQzS4vcNuYn2eXWh4jRAM78G+I3fMX36GgdQ4N8Ru+Yvv0NA6hmlxe4bcxPs8utDxGiAZ34N8Ru+Yvv0NA6hwb4jd8xffoaB1DNLi9w25ifZ5daHiNEAzvwb4jd8xffoaB1Dg3xG75i+/Q0DqGaXF7htzE+zy60PEaIBnfg3xG75i+/Q0DqHBviN3zF9+hoHUM0uL3DbmJ9nl1oeI0QDO/BviN3zF9+hoHUODfEbvmL79DQOoZpcXuG3MT7PLrQ8RogGd+DfEbvmL79DQOocG+I3fMX36GgdQzS4vcNuYn2eXWh4jRAM78G+I3fMX36GgdQ4N8Ru+Yvv0NA6hmlxe4bcxPs8utDxGiAZ34N8Ru+Yvv0NA6hwb4jd8xffoaB1DNLi9w25ifZ5daHiNEAzvwb4jd8xffoaB1Dg3xG75i+/Q0DqGaXF7htzE+zy60PEaIBnfg3xG75i+/Q0DqHBviN3zF9+hoHUM0uL3DbmJ9nl1oeI0QDO/BviN3zF9+hoHUODfEbvmL79DQOoZpcXuG3MT7PLrQ8RogGd+DfEbvmL79DQOocG+I3fMX36GgdQzS4vcNuYn2eXWh4jRAM78G+I3fMX36GgdQ4N8Ru+Yvv0NA6hmlxe4bcxPs8utDxGiAZ34N8Ru+Yvv0NA6hwb4jd8xffoaB1DNLi9w25ifZ5daHiNEAzvwb4jd8xffoaB1Dg3xG75i+/Q0DqGaXF7htzE+zy60PEaIBnfg3xG75i+/Q0DqHBviN3zF9+hoHUM0uL3DbmJ9nl1oeI0QDO/BviN3zF9+hoHUODfEbvmL79DQOoZpcXuG3MT7PLrQ8RogGd+DfEbvmL79DQOocG+I3fMX36GgdQzS4vcNuYn2eXWh4jRAM78G+I3fMX36GgdQ4N8Ru+Yvv0NA6hmlxe4bcxPs8utDxGiAZ34N8Ru+Yvv0NA6hwb4jd8xffoaB1DNLi9w25ifZ5daHiNEAzvwb4jd8xffoaB1Dg3xG75i+/Q0DqGaXF7htzE+zy60PEaIBnfg3xG75i+/Q0DqHBviN3zF9+hoHUM0uL3DbmJ9nl1oeI0QDO/BviN3zF9+hoHUODfEbvmL79DQOoZpcXuG3MT7PLrQ8RogGd+DfEbvmL79DQOocG+I3fMX36GgdQzS4vcNuYn2eXWh4jRAM78G+I3fMX36GgdQ4N8Ru+Yvv0NA6hmlxe4bcxPs8utDxGiAZ34N8Ru+Yvv0NA6hwb4jd8xffoaB1DNLi9w25ifZ5daHiNEAzvwb4jd8xffoaB1Dg3xG75i+/Q0DqGaXF7htzE+zy60PEaIBnfg3xG75i+/Q0DqHBviN3zF9+hoHUM0uL3DbmJ9nl1oeI0QDO/BviN3zF9+hoHUODfEbvmL79DQOoZpcXuG3MT7PLrQ8RogGd+DfEbvmL79DQOocG+I3fMX36GgdQzS4vcNuYn2eXWh4jRAM78G+I3fMX36GgdQ4N8Ru+Yvv0NA6hmlxe4bcxPs8utDxGiAZ34N8Ru+Yvv0NA6hwb4jd8xffoaB1DNLi9w25ifZ5daHiNEAzvwb4jd8xffoaB1Dg3xG75i+/Q0DqGaXF7htzE+zy60PEaIBnfg3xG75i+/Q0DqHBviN3zF9+hoHUM0uL3DbmJ9nl1oeI0QDO/BviN3zF9+hoHUODfEbvmL79DQOoZpcXuG3MT7PLrQ8RogGd+DfEbvmL79DQOocG+I3fMX36GgdQzS4vcNuYn2eXWh4jRAM78G+I3fMX36GgdQ4N8Ru+Yvv0NA6hmlxe4bcxPs8utDxGiAZ34N8Ru+Yvv0NA6hwb4jd8xffoaB1DNLi9w25ifZ5daHiNEAzvwb4jd8xffoaB1Dg3xG75i+/Q0DqGaXF7htzE+zy60PEaHc5rGq97ka1qZqqrkiIULf+JlRxim5vB/A2eWZ3d3Y1w3TLLrydJlnZo9kOIi5RI7kzRqNXZtXPup5G4H0StORMRMR8Sb1g92QmZhZaVf/tQ4LWq5PArsvAWpb9uNpFHg27aNuytsUeEmTWQobWvy8DU4l8K7TxqU9D0IhOGLxq8nNeTg9em8muDRojz3b4LPSfO2LXolAlKNYltS+50e2ILGcub2p7FFXuuzzcq8qk2PNT6fK0yWbKyrNVibVVdquXuqq91T0liVtB0oQjTioRVkgAASAAAAAAAAAAAAAAAAAAAAAAAAAAAAAAAAAAAAAAAAAAAAAAAAAAAAAAAAAAAAAAAAAAAAAAAAAAAAAAAAAAAAAAAAAAAAAAAAAAAAAAAAAAAAAAAAAAAAAAAAAAAAAAAAAAAAAAAAAAAAAAAAAAAAAAP/2Q==)\n"
      ],
      "metadata": {
        "id": "Du0NhwIcIIKm"
      }
    },
    {
      "cell_type": "markdown",
      "source": [
        "##Question 9 : Montrez que le problème de minimisation admet au moins une solution."
      ],
      "metadata": {
        "id": "fzr5XN2WI5gm"
      }
    },
    {
      "cell_type": "markdown",
      "source": [
        "Ainsi, pour la régression logistique, la fonction de coût est\n",
        "\n",
        "![quicklatex.com-cc75211ad9199ec33f790ca7d3ec43e1_l3.png](data:image/png;base64,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)\n",
        "\n",
        "Si y = 0\n",
        "\n",
        "![y=0.jpg](data:image/jpeg;base64,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)\n",
        "\n",
        "hθ(X) -> 0\n",
        "Coût -> Infini\n",
        "\n",
        "Si y = 1\n",
        "\n",
        "![y=1.jpg](data:image/jpeg;base64,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)\n",
        "\n",
        "Coût = 0 si y = 1, h θ (x) = 1\n",
        "\n",
        "Alors,\n",
        "\n",
        "![Conclusion Q9.png](data:image/png;base64,iVBORw0KGgoAAAANSUhEUgAAAo4AAABfCAMAAABRLbZxAAAABGdBTUEAALGPC/xhBQAAACBjSFJNAAB6JgAAgIQAAPoAAACA6AAAdTAAAOpgAAA6mAAAF3CculE8AAAACXBIWXMAAA7EAAAOxAGVKw4bAAAAB3RJTUUH4wUDEBwH4mSInAAAADxQTFRF////AAAAAAAAAAAAAAAAAAAAAAAAAAAAAAAAAAAAAAAAAAAAAAAAAAAAAAAAAAAAAAAAAAAAAAAAAAAAKNcQVgAAABN0Uk5TABAiMkBEVGZ2iZmru83R3e/z+XGwQ7IAAAABYktHRACIBR1IAAAMGUlEQVR42u2d2ZqkIBJGAxhFFgd64v3fdS5ExQ1BqCzJIm66v9QyVX5jE04CfKmxcYRmzd5hAyIveLh+oAWeEB7zUbPvM4XYZQrQ+z8xAzMstHc3Ghxujtjpkw/F0Abrb6pRaKlF7BE0enqUFvSN2pi+0z815OzjsWvD9f2R+iAeMkoAEOeaOBH0uO5IUIE29E6/N0cc+3OV2jZe320U8TjGcvpoVOnH62LSULypnPor2cV77GZVmjwpYwhK5zjZA2d7/zcMb1RlhkuxkzZk32wWj4GzdwrtMN0Z6QjBDNjfyPXyGLZV199sHFGfFDe9k0V6O9LafMkKE0hT25h9d6w+Bkbj5EgxQltMrQkdNwbRmLt+DBoQSl6XyWbJWYmUmgNVUrLZscZe2XJeSrdhrsU0ngRO6/owBO8Hn0rovHQxJr4z1JICiEsfuWSzVBEgyBUwO85/G5nOrueFTY41pY7dyYcsWo6SAPcOcZcWTvsYAgD91a50OZ4i7mwGV1wB9f+ot7g1vTmvATsA6LA1z2uS49Hd4CrH27pEblNBhfcvCPV0+GFWHRFKSjV43tOdEhtcaAdgS9Hv1zKEbo3szgsAQDxoDzR7kxwTvCOhQHynZCJyO2ucKp2PMz0AwLC8WexnSdNJnHLzqEQW+2Q+rxHbKNctR+M+oxgzlJv4HFGLz/pyquxmJ8lnFfKNh92F/604w00D3lLHb5Dj6BTCYiprMNZP+2SETHqv6CF2KaNHs/OOZ10hTHiTTlrq+A1ylEsbPMIVMZQurMLaQA+ZmvQlkQEhMGDnBDbwpd3Jtl0hWL8A/C/o8bqUAZiK8ZY6Vi/H3rkgHlEmg0Dmao7IwXdB2hoAQWFEYpyWGKpdZU0B3Id6KWX6uFIGyPSHLXWsXo7Oscx+LGyjcQ0ZvzwJmIvnFCWABjAIWgghhFB09m5zfLVIQOEAAP0swi7e2aEEAIrtNU71cpwGnUbNER81MLHTcUTqSJCDYADjKvnZO85vZShqYHJUAJ1cC5voS9MGgIzY5gBVL0foTU97EzVdgY1KJFUybhYlH1UPAGLtoS+Jp3Q1zSCkAKKUXKuRhHfWRGkpZEsdv0COQPqBp8/l6tMHn6Dy3Zlzk5e99NQZPca0Mf4COT4wRudpu0nG177jcibmKsJ20bG6swIiJwM3e439998/WuZIHPW1jIIudUoKBrO++S4wG1yhBH9uULO/5R0F8u5ZZCRCSqU33er8tTKDACBjU+NflSORUtNSp0XPhW0SVhIKqVTfBvjP5o5FrTvza7K972ty/CU9NgpFk2OzZk2OzZo1OTZrcmzWrMmxWZNjs5daQpPiIWjzWRvkJ+RYBDf6BwRQqnHF+MApAJDokew0APBB8Mhd9xYD2nwE4ywjxzTcaHXWaWNDNzeCn/pz+FRujeCD0gR07OGoIQBEGlRxux4tBrT5BMaJWIAJloobLWpJYNSn/ueGj3rLTy2LT/XcKhndnCWmRfCuU+8ejTPz5l6OGZMHnsA4EQusJUnGjZazRDDq8wcub3tJfCoV6xI1YnEFIgTl2K1ynOdLkXs5Zk2tSvcSDLHw/NQPzzDMAKMmPbVj1vaC+FRh5LDKcfQkyINylOs3zUivCDlmgTbTYZwDll5LMny0Us8BoyY9tSJre1l8KlvkyDexLZTfEivWPyexcswEbSbDODVi4biqP8qnzQGjppQLN6nhDSjr+ah2YTluixF1LUdm1hu00DPv5ZgJ2kyFcRIsvu7TfpQmnwNGTfqarGfw+ahqHpIj3YK0ew4AQKSWSrrlcWIQgmvgxqI1Zmp4LDPkCSrgUo3XKk4DbR6ImkNiXSLOcHpd7wU+2vc33u4BbjTiYJGM0CQw6mVprhR0FABAKk2ASamXhePT1rv1ujf81Of41N6E5MhPho+ZHgA60wGAEIvivfCxSJigEiyY7SeBNo9ETZaWQlE8LkRlFu1So3VmFHIMxpMHuNGYg0WCnlLAqFeluQKg08oa3oPRnQAAo/2t+jZ1DPNTM/CplgXkOBybxnOOOCAFmLaSrRxXxgdB2wMsWJAzfUSCNqdi6UDU3O4TonG6umw8PlwdABvRUAAQk3cfQnp8gBsNHuzICA1dRgoY9VyN08pXhRwAFICdhs1F52Vrf5M6BvmpaaO6y1otSZKjWm6IXuo8sZEj81tDk/OeI8tz0CbAGVFzt08IYQMAEsfDtWrirsoSEOOqkmsFpeNGbw62uaKby0gBo55/43QAhRSASCCu7+VGaNlKblLHID81bVT3J3gco1CwXh5LiwQ0WulyrVWOKx+OOG9kyoA2T4iaKaFSnRRWC/tpRNMtvWV6nQw+wY0GfFUqIzTXO845p7XTtTiv7M5i2XrTm73hpyaMKjmasn1kKUM6j8hpsAOiEREV2ciRe3LU/pjlgzYPRM14GCcMZ88lX051Aw2X0V2O3Ao3kRGaBkY9c46OX6Xm2o7BmitIj24VTB3D/NT4UeV4akNco6fvgW3kCEC5mponkxzpzjv6ciwA2jwQNRO8I8OTiQ7C2+wdKzgcqbjRiJZJNCM0DYx6WZnz+dF0XtkF6WXrTX53w0/Nw6eqQ8F+1QaXdBusCXcX080np3a5oy/HHNDm/J17oua2DxWkcQKzx9u8eEeg6P3Eh7zzDSm40XDcOzJCQ5eRBEY9DfZ0Th2p59ytAaDeVgI0mPWE+ampo7p9PnWgDb55SUgUAMxzOSiaZbE68tmDq11l7csxC7Tpt9XXRGu3z00pQ48/R7jOFRm5XN7YdDzYu0zEjYb78ieM0MBlJIFRT73jkjqq1cF1KADUutVMW29Sx0t+auKobv3DCCE5ErumVIp64UkgA+oGwzKX/hAJsNIzd3J8BtpkfhN9T9Ts0tRwUpnNt10rgBHtpMdgIpeKG71pKCcyQlPAqKeObYpTehoqR/cTyKDnh62X5dAdPzUDn2ppUI5AjHMpRLk4YTkA9LYHoFO7juv5Dg3btzLzqyyLBJ6CNpXf0tgTNVPfyoy4b2sxTQCATjNkFCInpDPBBzgVN3oTmxIZoSlg1FMp9QBiMAqGbvXKA85xbbM1nDoG+KnP8an8zCv3m1lYgzWC8/WVEJFaKUkBgGgilZzRHdI4wTp6JjWIaBVoi4jmKWizs15quydqpr6z7o8TeuiopZkF2BlEtOHnNxU3ehOtUxmhCWDU07PXUvXAxulGj3KODYoet15J5paf+hyfqo/Z/WgREc3oZ1gDT4iKF/TMp6DNfvfVHlEzeUbP2exbyjyPSRhLkneReV5JjNBnYNSfs5NhfY5PZWe9Wf+fR7dXXHj5R6DNYT6TA1GzS87cJGIxytdD3OjmIr+BEXoyrAXwqQXtajLwM9CmXPPwHVEzfW5xj8V+lOoxbnRTWXwDI/Q4rAVng5ewi6USj0Cba1a9J2o+WHnBiqyVca2Fp7hRLy3/DkbocVhLrpXJN2pyd12eNP/98Y6oadLXpZEiKwldRVcAN/qtjNAC+NSS1qm8XWNAm49gnFh8dUKzoqP6Q6fDc3ati0LRrNyo/jFrcmzW5NisWZNjsybHZs2aHJs1OTZr9jY5NtzoibHW6PmYHBtu9Pdwo02Oe/tV3OgnvMyrcKOf4Kv+lv0rIcdfxI1u6Zs/Zu/BjX6Ir/pL9j/E/5QNbJ+drLilb/6YvQc3+iG+6reUMsPHK3X283J8D270Q3zVr5HjZ3GjH5Lje3CjH+Krfo0c7cdnlH5Aju/BjX6Ir/oiOdaEGy0hx6pwoyX4qjXJsS7caL4cK8ON5vNVq5JjZbjRbDnWhhvN5qvWJcfKcKPZcqwNN5rNV61KjrXhRnPlWB1u9G95x9pwo7lyrA43mstXrUuOteFGc+VYHW40l69aqXesBDeaK8fqcKO5fNWXm9kiHmvDjeZ7xyV1rAM3mstXfbnpHQG3Ntxophzrw41m8lVfbnJHeKwNNwp7+mZqZV0bbjSTr/pyY/sfyawMN3pC30y7/tpwo7l81fcnj7t4UBduNJ++Wdh+Gjf6Or5qUePFfmC94UbnO/py3Ojb3SMpMwoNNzqH05fjRl+ePRaZL9hwo2s4fTlu9N0Pc5lw3XCjoQr+XbjRt+tRtrvws/Yy3Oi747VB1e7CD+uxUSgSkrb2nNZn/wd5qsyv81tkUgAAACJ0RVh0Y29tbWVudABSZW5kZXJlZCBieSBRdWlja0xhVGVYLmNvbSBJ0LYAAAAldEVYdGRhdGU6Y3JlYXRlADIwMTktMDUtMDNUMTY6Mjg6MDcrMDk6MDANrpLdAAAAJXRFWHRkYXRlOm1vZGlmeQAyMDE5LTA1LTAzVDE2OjI4OjA3KzA5OjAwfPMqYQAAAABJRU5ErkJggg==)"
      ],
      "metadata": {
        "id": "k0drp4aeLX_1"
      }
    },
    {
      "cell_type": "markdown",
      "source": [
        "D'oû, le problème de minimisation admet au moins une solution si h θ (x) = y"
      ],
      "metadata": {
        "id": "opNEgnTNOOV6"
      }
    },
    {
      "cell_type": "markdown",
      "source": [
        "(Maintenant, vous devriez trouver les paramètres θ ∈ Rn+1 en utilisant des m´ethodes d’optimisation.)"
      ],
      "metadata": {
        "id": "krD8NjCrOube"
      }
    },
    {
      "cell_type": "markdown",
      "source": [
        "##Question 10 : descent gradient "
      ],
      "metadata": {
        "id": "EW1r2pLBO-qg"
      }
    },
    {
      "cell_type": "code",
      "source": [
        "def gradient_descent(theta, X, y, alfa, m):#grad, theta, alpha,numIters\n",
        " H = h(theta, X)\n",
        " H = H.reshape((H.shape[0],))\n",
        " grad = np.subtract(H, y)\n",
        " a = np.matmul(np.transpose(X), grad).reshape((theta.shape[0],1))\n",
        " \n",
        " theta = theta - (alfa/m) * a\n",
        " return theta"
      ],
      "metadata": {
        "id": "-IDz_nbPHUqo"
      },
      "execution_count": null,
      "outputs": []
    },
    {
      "cell_type": "code",
      "source": [
        "def gradient_descent2(grad, theta, alpha, numIters):\n",
        "    vector = theta\n",
        "    for _ in range(numIters):\n",
        "        diff = -alpha * grad(vector)\n",
        "        vector += diff\n",
        "    return vector"
      ],
      "metadata": {
        "id": "CyRjJ_z8jw0a"
      },
      "execution_count": null,
      "outputs": []
    },
    {
      "cell_type": "code",
      "source": [
        "def gDescent(grad,theta,alpha,numIters):\n",
        "    J_vals = []\n",
        "    \n",
        "    for i in range(numIters):\n",
        "        theta = theta - (alpha * grad)\n",
        "        J_vals.append(cost)\n",
        "    \n",
        "    return theta , J_vals\n",
        "#On aurra le résultat avec ceci."
      ],
      "metadata": {
        "id": "5yn97a37iJ2R"
      },
      "execution_count": null,
      "outputs": []
    },
    {
      "cell_type": "code",
      "source": [
        "#X"
      ],
      "metadata": {
        "id": "F6XHEuPWhfYC"
      },
      "execution_count": null,
      "outputs": []
    },
    {
      "cell_type": "markdown",
      "source": [
        "## Question 11"
      ],
      "metadata": {
        "id": "osNLBtCzQVuI"
      }
    },
    {
      "cell_type": "code",
      "source": [
        "gradient=lambda v: 2 * v\n",
        "start=0.0\n",
        "learn_rate=0.2\n",
        "numIters=20\n",
        "gradient_descent2(gradient, start, learn_rate, numIters)"
      ],
      "metadata": {
        "id": "6BbdYY88QELq",
        "colab": {
          "base_uri": "https://localhost:8080/"
        },
        "outputId": "fdf5fdd6-4404-4a22-f420-09a0c4dad40a"
      },
      "execution_count": null,
      "outputs": [
        {
          "output_type": "execute_result",
          "data": {
            "text/plain": [
              "0.0"
            ]
          },
          "metadata": {},
          "execution_count": 147
        }
      ]
    },
    {
      "cell_type": "code",
      "source": [
        "start=10.0\n",
        "gradient_descent2(gradient, start, learn_rate, numIters)"
      ],
      "metadata": {
        "colab": {
          "base_uri": "https://localhost:8080/"
        },
        "id": "AmWVuNzGlV-w",
        "outputId": "dcb1db16-9164-4c0d-b26a-f8731ae9bdc0"
      },
      "execution_count": null,
      "outputs": [
        {
          "output_type": "execute_result",
          "data": {
            "text/plain": [
              "0.0003656158440062973"
            ]
          },
          "metadata": {},
          "execution_count": 148
        }
      ]
    },
    {
      "cell_type": "markdown",
      "source": [
        "OU:"
      ],
      "metadata": {
        "id": "3nVaPwEZM_PZ"
      }
    },
    {
      "cell_type": "code",
      "source": [
        "X= df.iloc[:, 0:7]\n",
        "y= df.iloc[:, 7]\n",
        "\n",
        "m, n = X.shape\n",
        "\n",
        "X = np.concatenate([np.ones((m, 1)), X], axis=1)\n",
        "theta_t = np.array([0.4, -0.033, -0.02, 0.003, -0.0002, 0.15, -0.023, 2])\n",
        "cost, grad = costFunction(theta_test, X, y)\n",
        "teta, JJ = gDescent(grad,theta_t,0.01,100)\n",
        "print(\"theta\" , teta,\"\\n\")\n",
        "print(\"J\" , JJ,\"\\n\")"
      ],
      "metadata": {
        "colab": {
          "base_uri": "https://localhost:8080/"
        },
        "id": "KWuDZCiLhvPt",
        "outputId": "be395aaa-c618-4530-b3b9-ce8e3716327c"
      },
      "execution_count": null,
      "outputs": [
        {
          "output_type": "stream",
          "name": "stdout",
          "text": [
            "theta [ 0.2755698  -4.38762381 -5.237628   -1.34665334 -9.97242952 -0.25382744\n",
            " -1.34458417  1.89506658] \n",
            "\n",
            "J [0.5365616851842919, 0.5365616851842919, 0.5365616851842919, 0.5365616851842919, 0.5365616851842919, 0.5365616851842919, 0.5365616851842919, 0.5365616851842919, 0.5365616851842919, 0.5365616851842919, 0.5365616851842919, 0.5365616851842919, 0.5365616851842919, 0.5365616851842919, 0.5365616851842919, 0.5365616851842919, 0.5365616851842919, 0.5365616851842919, 0.5365616851842919, 0.5365616851842919, 0.5365616851842919, 0.5365616851842919, 0.5365616851842919, 0.5365616851842919, 0.5365616851842919, 0.5365616851842919, 0.5365616851842919, 0.5365616851842919, 0.5365616851842919, 0.5365616851842919, 0.5365616851842919, 0.5365616851842919, 0.5365616851842919, 0.5365616851842919, 0.5365616851842919, 0.5365616851842919, 0.5365616851842919, 0.5365616851842919, 0.5365616851842919, 0.5365616851842919, 0.5365616851842919, 0.5365616851842919, 0.5365616851842919, 0.5365616851842919, 0.5365616851842919, 0.5365616851842919, 0.5365616851842919, 0.5365616851842919, 0.5365616851842919, 0.5365616851842919, 0.5365616851842919, 0.5365616851842919, 0.5365616851842919, 0.5365616851842919, 0.5365616851842919, 0.5365616851842919, 0.5365616851842919, 0.5365616851842919, 0.5365616851842919, 0.5365616851842919, 0.5365616851842919, 0.5365616851842919, 0.5365616851842919, 0.5365616851842919, 0.5365616851842919, 0.5365616851842919, 0.5365616851842919, 0.5365616851842919, 0.5365616851842919, 0.5365616851842919, 0.5365616851842919, 0.5365616851842919, 0.5365616851842919, 0.5365616851842919, 0.5365616851842919, 0.5365616851842919, 0.5365616851842919, 0.5365616851842919, 0.5365616851842919, 0.5365616851842919, 0.5365616851842919, 0.5365616851842919, 0.5365616851842919, 0.5365616851842919, 0.5365616851842919, 0.5365616851842919, 0.5365616851842919, 0.5365616851842919, 0.5365616851842919, 0.5365616851842919, 0.5365616851842919, 0.5365616851842919, 0.5365616851842919, 0.5365616851842919, 0.5365616851842919, 0.5365616851842919, 0.5365616851842919, 0.5365616851842919, 0.5365616851842919, 0.5365616851842919] \n",
            "\n"
          ]
        }
      ]
    },
    {
      "cell_type": "markdown",
      "source": [
        "##Question 12"
      ],
      "metadata": {
        "id": "AJLzU5zJVjJl"
      }
    },
    {
      "cell_type": "code",
      "source": [
        "error=[]\n",
        "# initializing beta to initial value\n",
        "beta = 0\n",
        "# learning rate\n",
        "learn_rate = 0.1\n",
        "for i in range (50):\n",
        "  gradient = 2*(beta - 5)\n",
        "  beta  = beta - learn_rate*gradient\n",
        "  J = (beta -5 )**2\n",
        "  error.append(J)\n",
        "  print(beta)"
      ],
      "metadata": {
        "id": "boDjcqyLWcWu",
        "colab": {
          "base_uri": "https://localhost:8080/"
        },
        "outputId": "6633549a-07a4-4635-82fd-f49af7627164"
      },
      "execution_count": null,
      "outputs": [
        {
          "output_type": "stream",
          "name": "stdout",
          "text": [
            "1.0\n",
            "1.8\n",
            "2.4400000000000004\n",
            "2.9520000000000004\n",
            "3.3616\n",
            "3.68928\n",
            "3.9514240000000003\n",
            "4.1611392\n",
            "4.32891136\n",
            "4.4631290880000005\n",
            "4.570503270400001\n",
            "4.65640261632\n",
            "4.725122093056\n",
            "4.7800976744448\n",
            "4.82407813955584\n",
            "4.859262511644672\n",
            "4.8874100093157375\n",
            "4.90992800745259\n",
            "4.927942405962073\n",
            "4.942353924769658\n",
            "4.953883139815726\n",
            "4.9631065118525814\n",
            "4.9704852094820655\n",
            "4.976388167585652\n",
            "4.981110534068522\n",
            "4.984888427254818\n",
            "4.987910741803854\n",
            "4.990328593443083\n",
            "4.992262874754466\n",
            "4.993810299803573\n",
            "4.995048239842858\n",
            "4.996038591874287\n",
            "4.996830873499429\n",
            "4.9974646987995435\n",
            "4.997971759039634\n",
            "4.9983774072317075\n",
            "4.998701925785366\n",
            "4.998961540628293\n",
            "4.999169232502634\n",
            "4.999335386002107\n",
            "4.999468308801686\n",
            "4.9995746470413485\n",
            "4.999659717633079\n",
            "4.9997277741064625\n",
            "4.99978221928517\n",
            "4.999825775428136\n",
            "4.999860620342509\n",
            "4.999888496274007\n",
            "4.999910797019206\n",
            "4.999928637615365\n"
          ]
        }
      ]
    },
    {
      "cell_type": "markdown",
      "source": [
        "## Question 13 : Optimal Gradient Descent"
      ],
      "metadata": {
        "id": "xjIyWrmyzl7i"
      }
    },
    {
      "cell_type": "code",
      "source": [
        "X = 2 * np.random.rand(100,1)\n",
        "y = 4 +3 * X+np.random.randn(100,1)"
      ],
      "metadata": {
        "id": "xVR6m7MG6HPK"
      },
      "execution_count": null,
      "outputs": []
    },
    {
      "cell_type": "code",
      "source": [
        "X_b = np.c_[np.ones((100,1)),X]\n",
        "theta_best = np.linalg.inv(X_b.T.dot(X_b)).dot(X_b.T).dot(y)\n",
        "print(theta_best)"
      ],
      "metadata": {
        "colab": {
          "base_uri": "https://localhost:8080/"
        },
        "id": "WbEfiUj96Ub6",
        "outputId": "b2178552-1b5f-4d42-a5ab-a29609d1e0e0"
      },
      "execution_count": null,
      "outputs": [
        {
          "output_type": "stream",
          "name": "stdout",
          "text": [
            "[[4.00941998]\n",
            " [2.93073048]]\n"
          ]
        }
      ]
    },
    {
      "cell_type": "code",
      "source": [
        "X_new = np.array([[0],[2]])\n",
        "X_new_b = np.c_[np.ones((2,1)),X_new]\n",
        "y_predict = X_new_b.dot(theta_best)\n",
        "y_predict"
      ],
      "metadata": {
        "colab": {
          "base_uri": "https://localhost:8080/"
        },
        "id": "xzFf_9CV6XNZ",
        "outputId": "dc285620-c3d7-4473-a63d-e5e52bac2f9e"
      },
      "execution_count": null,
      "outputs": [
        {
          "output_type": "execute_result",
          "data": {
            "text/plain": [
              "array([[4.00941998],\n",
              "       [9.87088094]])"
            ]
          },
          "metadata": {},
          "execution_count": 153
        }
      ]
    },
    {
      "cell_type": "code",
      "source": [
        "plt.plot(X_new,y_predict,'r-')\n",
        "plt.plot(X,y,'b.')\n",
        "plt.xlabel(\"$x_1$\", fontsize=18)\n",
        "plt.ylabel(\"$y$\", rotation=0, fontsize=18)\n",
        "plt.axis([0,2,0,15])"
      ],
      "metadata": {
        "colab": {
          "base_uri": "https://localhost:8080/",
          "height": 307
        },
        "id": "R5AYej9M6aJp",
        "outputId": "3629f4b5-d597-466c-e9f3-8a2cce48e15a"
      },
      "execution_count": null,
      "outputs": [
        {
          "output_type": "execute_result",
          "data": {
            "text/plain": [
              "(0.0, 2.0, 0.0, 15.0)"
            ]
          },
          "metadata": {},
          "execution_count": 154
        },
        {
          "output_type": "display_data",
          "data": {
            "text/plain": [
              "<Figure size 432x288 with 1 Axes>"
            ],
            "image/png": "[encoded data removed]"
          },
          "metadata": {}
        }
      ]
    },
    {
      "cell_type": "code",
      "source": [
        "def  cal_cost(theta,X,y):\n",
        "    '''\n",
        "    \n",
        "    Calculates the cost for given X and Y. The following shows and example of a single dimensional X\n",
        "    theta = Vector of thetas \n",
        "    X     = Row of X's np.zeros((2,j))\n",
        "    y     = Actual y's np.zeros((2,1))\n",
        "    \n",
        "    where:\n",
        "        j is the no of features\n",
        "    '''\n",
        "    \n",
        "    m = len(y)\n",
        "    \n",
        "    predictions = X.dot(theta)\n",
        "    cost = (1/2*m) * np.sum(np.square(predictions-y))\n",
        "    return cost\n"
      ],
      "metadata": {
        "id": "VjteQJPfzmyA"
      },
      "execution_count": null,
      "outputs": []
    },
    {
      "cell_type": "code",
      "source": [
        "def gradient_descent(X,y,theta,learning_rate=0.01,iterations=100):\n",
        "    '''\n",
        "    X    = Matrix of X with added bias units\n",
        "    y    = Vector of Y\n",
        "    theta=Vector of thetas np.random.randn(j,1)\n",
        "    learning_rate \n",
        "    iterations = no of iterations\n",
        "    \n",
        "    Returns the final theta vector and array of cost history over no of iterations\n",
        "    '''\n",
        "    m = len(y)\n",
        "    cost_history = np.zeros(iterations)\n",
        "    theta_history = np.zeros((iterations,2))\n",
        "    for it in range(iterations):\n",
        "        \n",
        "        prediction = np.dot(X,theta)\n",
        "        \n",
        "        theta = theta -(1/m)*learning_rate*( X.T.dot((prediction - y)))\n",
        "        theta_history[it,:] =theta.T\n",
        "        cost_history[it]  = cal_cost(theta,X,y)\n",
        "        \n",
        "    return theta, cost_history, theta_history\n"
      ],
      "metadata": {
        "id": "KlFhrYRk2A-p"
      },
      "execution_count": null,
      "outputs": []
    },
    {
      "cell_type": "code",
      "source": [
        "lr =0.01\n",
        "n_iter = 1000\n",
        "\n",
        "theta = np.random.randn(2,1)\n",
        "\n",
        "X_b = np.c_[np.ones((len(X),1)),X]\n",
        "theta,cost_history,theta_history = gradient_descent(X_b,y,theta,lr,n_iter)\n",
        "\n",
        "\n",
        "print('Theta0:          {:0.3f},\\nTheta1:          {:0.3f}'.format(theta[0][0],theta[1][0]))\n",
        "print('Final cost/MSE:  {:0.3f}'.format(cost_history[-1]))\n"
      ],
      "metadata": {
        "colab": {
          "base_uri": "https://localhost:8080/"
        },
        "id": "TM2PFcBe1fOU",
        "outputId": "945310ae-3fec-495e-a4b1-7704f16b17ac"
      },
      "execution_count": null,
      "outputs": [
        {
          "output_type": "stream",
          "name": "stdout",
          "text": [
            "Theta0:          3.748,\n",
            "Theta1:          3.147\n",
            "Final cost/MSE:  4340.404\n"
          ]
        }
      ]
    },
    {
      "cell_type": "code",
      "source": [
        "fig,ax = plt.subplots(figsize=(12,8))\n",
        "\n",
        "ax.set_ylabel('J(Theta)')\n",
        "ax.set_xlabel('Iterations')\n",
        "_=ax.plot(range(n_iter),cost_history,'b.')"
      ],
      "metadata": {
        "colab": {
          "base_uri": "https://localhost:8080/",
          "height": 502
        },
        "id": "_YrzZL-G4rUK",
        "outputId": "66271c8d-1482-4067-bb59-af3e77433d50"
      },
      "execution_count": null,
      "outputs": [
        {
          "output_type": "display_data",
          "data": {
            "text/plain": [
              "<Figure size 864x576 with 1 Axes>"
            ],
            "image/png": "[encoded data removed]"
          },
          "metadata": {}
        }
      ]
    },
    {
      "cell_type": "markdown",
      "source": [
        "##Question 14 : Batch Gradient Descent"
      ],
      "metadata": {
        "id": "6yyNkt1oOhTX"
      }
    },
    {
      "cell_type": "code",
      "source": [
        "def bgDescent(x,y,lr,it):\n",
        "    x = np.array(x)\n",
        "    ones = np.ones(shape=(x.shape[0],1))\n",
        "    x = np.concatenate((ones, x), axis=1)\n",
        "    y = np.array(y)\n",
        "    W = np.zeros(shape=(x.shape[1],1))\n",
        "    all_W = []\n",
        "    for i in range(it):\n",
        "        y_p = x @ W\n",
        "        dW = np.dot(x.T, y_p - y)\n",
        "        W = W - lr * dW\n",
        "    all_W.append(W)\n",
        "    return all_W"
      ],
      "metadata": {
        "id": "BUY2WpjHOkS5"
      },
      "execution_count": null,
      "outputs": []
    },
    {
      "cell_type": "markdown",
      "source": [
        "##Question 15 : Stochastic Gradient Descent"
      ],
      "metadata": {
        "id": "n6UsTdt95abx"
      }
    },
    {
      "cell_type": "code",
      "source": [
        "def stocashtic_gradient_descent(X,y,theta,learning_rate=0.01,iterations=10):\n",
        "    '''\n",
        "    X    = Matrix of X with added bias units\n",
        "    y    = Vector of Y\n",
        "    theta=Vector of thetas np.random.randn(j,1)\n",
        "    learning_rate \n",
        "    iterations = no of iterations\n",
        "    \n",
        "    Returns the final theta vector and array of cost history over no of iterations\n",
        "    '''\n",
        "    m = len(y)\n",
        "    cost_history = np.zeros(iterations)\n",
        "    \n",
        "    \n",
        "    for it in range(iterations):\n",
        "        cost =0.0\n",
        "        for i in range(m):\n",
        "            rand_ind = np.random.randint(0,m)\n",
        "            X_i = X[rand_ind,:].reshape(1,X.shape[1])\n",
        "            y_i = y[rand_ind].reshape(1,1)\n",
        "            prediction = np.dot(X_i,theta)\n",
        "\n",
        "            theta = theta -(1/m)*learning_rate*( X_i.T.dot((prediction - y_i)))\n",
        "            cost += cal_cost(theta,X_i,y_i)\n",
        "        cost_history[it]  = cost\n",
        "        \n",
        "    return theta, cost_history"
      ],
      "metadata": {
        "id": "_l2Fsgqh5Z8L"
      },
      "execution_count": null,
      "outputs": []
    },
    {
      "cell_type": "code",
      "source": [
        "lr =0.5\n",
        "n_iter = 50\n",
        "\n",
        "theta = np.random.randn(2,1)\n",
        "\n",
        "X_b = np.c_[np.ones((len(X),1)),X]\n",
        "theta,cost_history = stocashtic_gradient_descent(X_b,y,theta,lr,n_iter)\n",
        "\n",
        "\n",
        "print('Theta0:          {:0.3f},\\nTheta1:          {:0.3f}'.format(theta[0][0],theta[1][0]))\n",
        "print('Final cost/MSE:  {:0.3f}'.format(cost_history[-1]))"
      ],
      "metadata": {
        "colab": {
          "base_uri": "https://localhost:8080/"
        },
        "id": "UFuF25R55e06",
        "outputId": "6c9a3bc5-43f9-4eb0-9cb6-4a6ec345dcbc"
      },
      "execution_count": null,
      "outputs": [
        {
          "output_type": "stream",
          "name": "stdout",
          "text": [
            "Theta0:          3.904,\n",
            "Theta1:          2.919\n",
            "Final cost/MSE:  56.189\n"
          ]
        }
      ]
    },
    {
      "cell_type": "markdown",
      "source": [
        "## Question 16 : MiniBatch Gradient Descent"
      ],
      "metadata": {
        "id": "vhdt-_Cqrt7v"
      }
    },
    {
      "cell_type": "code",
      "source": [
        "def create_mini_batches(X, y, batch_size):\n",
        "    mini_batches = []\n",
        "    data = np.hstack((X, y))\n",
        "    np.random.shuffle(data)\n",
        "    n_minibatches = data.shape[0] // batch_size\n",
        "    i = 0\n",
        " \n",
        "    for i in range(n_minibatches + 1):\n",
        "        mini_batch = data[i * batch_size:(i + 1)*batch_size, :]\n",
        "        X_mini = mini_batch[:, :-1]\n",
        "        Y_mini = mini_batch[:, -1].reshape((-1, 1))\n",
        "        mini_batches.append((X_mini, Y_mini))\n",
        "    if data.shape[0] % batch_size != 0:\n",
        "        mini_batch = data[i * batch_size:data.shape[0]]\n",
        "        X_mini = mini_batch[:, :-1]\n",
        "        Y_mini = mini_batch[:, -1].reshape((-1, 1))\n",
        "        mini_batches.append((X_mini, Y_mini))\n",
        "    return mini_batches"
      ],
      "metadata": {
        "id": "NHCVXvGsrvmu"
      },
      "execution_count": null,
      "outputs": []
    },
    {
      "cell_type": "code",
      "source": [
        "def minibatch_gradient_descent(X,y,theta,learning_rate=0.01,iterations=10,batch_size =20):\n",
        "    '''\n",
        "    X    = Matrix of X without added bias units\n",
        "    y    = Vector of Y\n",
        "    theta=Vector of thetas np.random.randn(j,1)\n",
        "    learning_rate \n",
        "    iterations = no of iterations\n",
        "    \n",
        "    Returns the final theta vector and array of cost history over no of iterations\n",
        "    '''\n",
        "    m = len(y)\n",
        "    cost_history = np.zeros(iterations)\n",
        "    n_batches = int(m/batch_size)\n",
        "    \n",
        "    for it in range(iterations):\n",
        "        cost =0.0\n",
        "        indices = np.random.permutation(m)\n",
        "        X = X[indices]\n",
        "        y = y[indices]\n",
        "        for i in range(0,m,batch_size):\n",
        "            X_i = X[i:i+batch_size]\n",
        "            y_i = y[i:i+batch_size]\n",
        "            \n",
        "            X_i = np.c_[np.ones(len(X_i)),X_i]\n",
        "           \n",
        "            prediction = np.dot(X_i,theta)\n",
        "\n",
        "            theta = theta -(1/m)*learning_rate*( X_i.T.dot((prediction - y_i)))\n",
        "            cost += cal_cost(theta,X_i,y_i)\n",
        "        cost_history[it]  = cost\n",
        "        \n",
        "    return theta, cost_history"
      ],
      "metadata": {
        "id": "Nv9vwgVZ6_s6"
      },
      "execution_count": null,
      "outputs": []
    },
    {
      "cell_type": "code",
      "source": [
        "lr =0.1\n",
        "n_iter = 200\n",
        "\n",
        "theta = np.random.randn(2,1)\n",
        "\n",
        "\n",
        "theta,cost_history = minibatch_gradient_descent(X,y,theta,lr,n_iter)\n",
        "\n",
        "\n",
        "print('Theta0:          {:0.3f},\\nTheta1:          {:0.3f}'.format(theta[0][0],theta[1][0]))\n",
        "print('Final cost/MSE:  {:0.3f}'.format(cost_history[-1]))"
      ],
      "metadata": {
        "colab": {
          "base_uri": "https://localhost:8080/"
        },
        "id": "P7KUlW0w7Avx",
        "outputId": "4d09515a-7906-40ed-b641-34aead6042ef"
      },
      "execution_count": null,
      "outputs": [
        {
          "output_type": "stream",
          "name": "stdout",
          "text": [
            "Theta0:          3.910,\n",
            "Theta1:          3.011\n",
            "Final cost/MSE:  854.345\n"
          ]
        }
      ]
    },
    {
      "cell_type": "code",
      "source": [
        "fig,ax = plt.subplots(figsize=(10,8))\n",
        "\n",
        "ax.set_ylabel('{J(Theta)}',rotation=0)\n",
        "ax.set_xlabel('{Iterations}')\n",
        "theta = np.random.randn(2,1)\n",
        "\n",
        "_=ax.plot(range(n_iter),cost_history,'b.')"
      ],
      "metadata": {
        "colab": {
          "base_uri": "https://localhost:8080/",
          "height": 502
        },
        "id": "3q6-sZVw7I9K",
        "outputId": "22a7a8d2-4d5e-457b-c4da-445787023adc"
      },
      "execution_count": null,
      "outputs": [
        {
          "output_type": "display_data",
          "data": {
            "text/plain": [
              "<Figure size 720x576 with 1 Axes>"
            ],
            "image/png": "[encoded data removed]"
          },
          "metadata": {}
        }
      ]
    },
    {
      "cell_type": "markdown",
      "source": [
        "## Question 17: scipy.optimize.minimize"
      ],
      "metadata": {
        "id": "S04asYcyuVZp"
      }
    },
    {
      "cell_type": "code",
      "source": [
        "from scipy.optimize import minimize, rosen, rosen_der"
      ],
      "metadata": {
        "id": "2AVA1ascuWo3"
      },
      "execution_count": null,
      "outputs": []
    },
    {
      "cell_type": "code",
      "source": [
        "x0 = [1.3, 0.7, 0.8, 1.9, 1.2]\n",
        "res = minimize(rosen, x0, method='TNC', jac=rosen_der, tol=1e-6, options ={'maxiter' : 400})\n",
        "res.x\n",
        "array([ 1.,  1.,  1.,  1.,  1.])"
      ],
      "metadata": {
        "colab": {
          "base_uri": "https://localhost:8080/"
        },
        "id": "2TZN8OK8uZN_",
        "outputId": "b6c86bbe-2a7a-4aa6-abc3-47b09afc4feb"
      },
      "execution_count": null,
      "outputs": [
        {
          "output_type": "execute_result",
          "data": {
            "text/plain": [
              "array([1., 1., 1., 1., 1.])"
            ]
          },
          "metadata": {},
          "execution_count": 167
        }
      ]
    },
    {
      "cell_type": "markdown",
      "source": [
        "Second Attempt"
      ],
      "metadata": {
        "id": "fiXal6A0wNSH"
      }
    },
    {
      "cell_type": "code",
      "source": [
        "import numpy as np\n",
        "from scipy.optimize import minimize"
      ],
      "metadata": {
        "id": "kOTc6xHBwPQY"
      },
      "execution_count": null,
      "outputs": []
    },
    {
      "cell_type": "code",
      "source": [
        "def rosen(x):\n",
        "    \"\"\"The Rosenbrock function\"\"\"\n",
        "    return sum(100.0*(x[1:]-x[:-1]**2.0)**2.0 + (1-x[:-1])**2.0)"
      ],
      "metadata": {
        "id": "JqMgVE4OwV3f"
      },
      "execution_count": null,
      "outputs": []
    },
    {
      "cell_type": "code",
      "source": [
        "x0 = np.array([1.3, 0.7, 0.8, 1.9, 1.2])\n",
        "res = minimize(rosen, x0, method='nelder-mead',\n",
        "               options={'xatol': 1e-8, 'disp': True})"
      ],
      "metadata": {
        "colab": {
          "base_uri": "https://localhost:8080/"
        },
        "id": "xz-0f1YdwYmV",
        "outputId": "a45efe2e-98d2-4219-b837-0b7682c95043"
      },
      "execution_count": null,
      "outputs": [
        {
          "output_type": "stream",
          "name": "stdout",
          "text": [
            "Optimization terminated successfully.\n",
            "         Current function value: 0.000000\n",
            "         Iterations: 339\n",
            "         Function evaluations: 571\n"
          ]
        }
      ]
    },
    {
      "cell_type": "code",
      "source": [
        "print(res.x)"
      ],
      "metadata": {
        "colab": {
          "base_uri": "https://localhost:8080/"
        },
        "id": "_-CrzsiRwdvp",
        "outputId": "b4a25cb7-54b8-4858-9cc4-40a548b04e83"
      },
      "execution_count": null,
      "outputs": [
        {
          "output_type": "stream",
          "name": "stdout",
          "text": [
            "[1. 1. 1. 1. 1.]\n"
          ]
        }
      ]
    },
    {
      "cell_type": "code",
      "source": [
        "def rosen_with_args(x, a, b):\n",
        "    \"\"\"The Rosenbrock function with additional arguments\"\"\"\n",
        "    return sum(a*(x[1:]-x[:-1]**2.0)**2.0 + (1-x[:-1])**2.0) + b"
      ],
      "metadata": {
        "id": "uGSz2EMiygLc"
      },
      "execution_count": null,
      "outputs": []
    },
    {
      "cell_type": "code",
      "source": [
        "x0 = np.array([1.3, 0.7, 0.8, 1.9, 1.2])\n",
        "res = minimize(rosen_with_args, x0, method='nelder-mead',\n",
        "               args=(0.5, 1.), options={'xatol': 1e-8, 'disp': True})"
      ],
      "metadata": {
        "colab": {
          "base_uri": "https://localhost:8080/"
        },
        "id": "GiFaFHaxyknX",
        "outputId": "25567f2f-c73e-41cd-d1da-2b3e6a834818"
      },
      "execution_count": null,
      "outputs": [
        {
          "output_type": "stream",
          "name": "stdout",
          "text": [
            "Optimization terminated successfully.\n",
            "         Current function value: 1.000000\n",
            "         Iterations: 319\n",
            "         Function evaluations: 525\n"
          ]
        }
      ]
    },
    {
      "cell_type": "code",
      "source": [
        "print(res.x)"
      ],
      "metadata": {
        "colab": {
          "base_uri": "https://localhost:8080/"
        },
        "id": "CeyX91dsytBH",
        "outputId": "7ad8a207-5618-4150-9ca1-3f6c8bb7c6e5"
      },
      "execution_count": null,
      "outputs": [
        {
          "output_type": "stream",
          "name": "stdout",
          "text": [
            "[1.         1.         1.         1.         0.99999999]\n"
          ]
        }
      ]
    },
    {
      "cell_type": "markdown",
      "source": [
        "##Question 18"
      ],
      "metadata": {
        "id": "aGI67UlXpjC3"
      }
    },
    {
      "cell_type": "code",
      "source": [
        "def normalize(X):\n",
        "    \n",
        "    # X --> Input.\n",
        "    \n",
        "    # m-> number of training examples\n",
        "    # n-> number of features \n",
        "    m, n = X.shape\n",
        "    \n",
        "    # Normalizing all the n features of X.\n",
        "    for i in range(n):\n",
        "        X = (X - X.mean(axis=0))/X.std(axis=0)\n",
        "        \n",
        "    return X"
      ],
      "metadata": {
        "id": "ZkhOtgUnpkVv"
      },
      "execution_count": null,
      "outputs": []
    },
    {
      "cell_type": "code",
      "source": [
        "def predict(X):\n",
        "    \n",
        "    # X --> Input.\n",
        "    \n",
        "    # Normalizing the inputs.\n",
        "    x = normalize(X)\n",
        "    \n",
        "    # Calculating presictions/y_hat.\n",
        "    preds = sigmoid(np.dot(X, w) + b)\n",
        "    \n",
        "    # Empty List to store predictions.\n",
        "    pred_class = []\n",
        "    # if y_hat >= 0.5 --> round up to 1\n",
        "    # if y_hat < 0.5 --> round up to 1\n",
        "    pred_class = [1 if i > 0.5 else 0 for i in preds]\n",
        "    \n",
        "    return np.array(pred_class)"
      ],
      "metadata": {
        "id": "rj29bQxypmfp"
      },
      "execution_count": null,
      "outputs": []
    },
    {
      "cell_type": "code",
      "source": [
        "def predictU(X):\n",
        "    \n",
        "    # X --> Input.\n",
        "    \n",
        "    # Normalizing the inputs.\n",
        "    x = normalize(X)\n",
        "    \n",
        "    # Calculating presictions/y_hat.\n",
        "    preds = sigmoid(np.dot(X, w) + b)\n",
        "    \n",
        "    # Empty List to store predictions.\n",
        "    pred_class = []\n",
        "    # if y_hat >= 0.5 --> round up to 1\n",
        "    # if y_hat < 0.5 --> round up to 1\n",
        "    pred_class = [1 if i > 0.5 else 0 for i in preds]\n",
        "    \n",
        "    return np.array(pred_class[0])"
      ],
      "metadata": {
        "id": "Kl_hHxacpJ2W"
      },
      "execution_count": null,
      "outputs": []
    },
    {
      "cell_type": "code",
      "source": [
        "def predict2(X, theta, threshold = 0.5):\n",
        " \n",
        " a = h(theta, X)\n",
        " a [a >= threshold] = 1\n",
        " a [a < threshold]  = 0\n",
        " return a"
      ],
      "metadata": {
        "id": "elFkWWcwwZ1A"
      },
      "execution_count": null,
      "outputs": []
    },
    {
      "cell_type": "code",
      "source": [
        "#predictU(np.array[24.0,30.0,12,0,2,1])"
      ],
      "metadata": {
        "id": "aC3ubyb3osm_"
      },
      "execution_count": null,
      "outputs": []
    },
    {
      "cell_type": "markdown",
      "source": [
        "## Question 19:"
      ],
      "metadata": {
        "id": "-Svn0JF3uFA6"
      }
    },
    {
      "cell_type": "code",
      "source": [],
      "metadata": {
        "id": "MHlm_M51uKAl"
      },
      "execution_count": null,
      "outputs": []
    }
  ]
}